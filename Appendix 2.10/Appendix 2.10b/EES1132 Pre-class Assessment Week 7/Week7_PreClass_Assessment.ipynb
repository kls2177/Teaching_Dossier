{
 "cells": [
  {
   "cell_type": "markdown",
   "metadata": {},
   "source": [
    "# Week 7 Pre-Class Assessment\n",
    "\n",
    "This week, we will be exploring the use of fourier transforms to decompose different time-scales of variability in time series data.\n",
    "\n",
    "As an introduction, we will go over some of the basics of fourier series and fourier transform."
   ]
  },
  {
   "cell_type": "code",
   "execution_count": 1,
   "metadata": {},
   "outputs": [],
   "source": [
    "# import packages\n",
    "import numpy as np\n",
    "import matplotlib.pyplot as plt"
   ]
  },
  {
   "cell_type": "markdown",
   "metadata": {},
   "source": [
    "The fourier series for a square wave is\n",
    "\n",
    "$$y(t) = \\frac{4}{\\pi} \\sum^{\\infty}_{k=1,3,...odd} \\frac{1}{k}\\sin \\left(\\frac{2k\\pi t}{T} \\right)$$"
   ]
  },
  {
   "cell_type": "markdown",
   "metadata": {},
   "source": [
    "Let's write a function to calculate this square wave for given parameters, $N$, $T$ and sampling_rate"
   ]
  },
  {
   "cell_type": "code",
   "execution_count": 2,
   "metadata": {},
   "outputs": [],
   "source": [
    "# function to calculate square wave time series\n",
    "def square_wave(N,T,sampling_rate):\n",
    "    #define time variable given sampling rate\n",
    "    t = np.linspace(-4*np.pi,4*np.pi,sampling_rate)\n",
    "    y = np.zeros(sampling_rate)\n",
    "    for k in np.arange(1,N+1,2):\n",
    "        y = y + (4.0/(np.pi*k) * np.sin(2*k*np.pi*t/T))\n",
    "    \n",
    "    #plot result\n",
    "    plt.figure(figsize=(10,5))\n",
    "    plt.plot(t,y)\n",
    "    plt.xlim(-4*np.pi,4*np.pi)\n",
    "    plt.xticks(np.arange(-4*np.pi,5*np.pi,np.pi),[\"-4$\\pi$\",\"-3$\\pi$\",\n",
    "                                                  \"-3$\\pi$\",\"-$\\pi$\",\"0\",\"$\\pi$\",\"2$\\pi$\",\"3$\\pi$\",\"4$\\pi$\"])\n",
    "    plt.axhline(0,color='k')\n",
    "    plt.title('Square Wave (N = ' + str(N) + ')',fontsize=14)\n",
    "    \n",
    "    return y"
   ]
  },
  {
   "cell_type": "markdown",
   "metadata": {},
   "source": [
    "What do we get for $N$ = 1, $T$ = 2$\\pi$ and sampling_rate = 500?"
   ]
  },
  {
   "cell_type": "code",
   "execution_count": 4,
   "metadata": {},
   "outputs": [],
   "source": [
    "#y = square_wave(N=1,T=2*np.pi,sampling_rate=500)"
   ]
  },
  {
   "cell_type": "markdown",
   "metadata": {},
   "source": [
    "What do we get for $N$ = 3, $T$ = 2$\\pi$ and sampling_rate = 500?"
   ]
  },
  {
   "cell_type": "code",
   "execution_count": 5,
   "metadata": {},
   "outputs": [],
   "source": [
    "#y = square_wave(N=3,T=2*np.pi,sampling_rate=500)"
   ]
  },
  {
   "cell_type": "markdown",
   "metadata": {},
   "source": [
    "What do we get for $N$ = 5, $T $= 2$\\pi$ and sampling_rate = 500?"
   ]
  },
  {
   "cell_type": "code",
   "execution_count": 6,
   "metadata": {},
   "outputs": [],
   "source": [
    "#y = square_wave(N=5,T=2*np.pi,sampling_rate=500)"
   ]
  },
  {
   "cell_type": "markdown",
   "metadata": {},
   "source": [
    "You can start to see that our square wave will emerge from the sum of many harmonic components. "
   ]
  },
  {
   "cell_type": "markdown",
   "metadata": {},
   "source": [
    "Just to confirm that we end up with a square wave for large values of $N$, try $N$=5000:"
   ]
  },
  {
   "cell_type": "code",
   "execution_count": 12,
   "metadata": {},
   "outputs": [],
   "source": [
    "#y = square_wave(N=5000,T=2*np.pi,sampling_rate=500)"
   ]
  },
  {
   "cell_type": "markdown",
   "metadata": {},
   "source": [
    "Now, write down a function that plots each fourier component of this square wave independently on the same plot and also plots the sum of the components. You should be able to modify the function above, in part, by moving the plotting command inside the loop.\n",
    "\n",
    "Include a label for each component and the sum shown in a legend."
   ]
  },
  {
   "cell_type": "code",
   "execution_count": 14,
   "metadata": {},
   "outputs": [],
   "source": [
    "def square_wave_harmonics(N,T,sampling_rate):\n",
    "    #define time variable given sampling rate\n",
    "    t = np.linspace(-4*np.pi,4*np.pi,sampling_rate)\n",
    "    y = np.zeros(sampling_rate)\n",
    "    plt.figure(figsize=(10,5))\n",
    "    for k in np.arange(1,N+1,2):\n",
    "        \n",
    "        #fill in the function to plot each component on the same graph\n",
    "    \n",
    "    #plot sum on same graph\n",
    "    plt.plot(t,y,label= \"Fourier Sum\")\n",
    "    plt.xlim(-4*np.pi,4*np.pi)\n",
    "    plt.xticks(np.arange(-4*np.pi,5*np.pi,np.pi),[\"-4$\\pi$\",\"-3$\\pi$\",\n",
    "                                                  \"-3$\\pi$\",\"-$\\pi$\",\"0\",\"$\\pi$\",\"2$\\pi$\",\"3$\\pi$\",\"4$\\pi$\"])\n",
    "    plt.axhline(0,color='k')\n",
    "    plt.title('Square Wave (N = ' + str(N) + ')',fontsize=14)\n",
    "    plt.legend()\n",
    "    \n",
    "    return y"
   ]
  },
  {
   "cell_type": "markdown",
   "metadata": {},
   "source": [
    "Run your function for N = 10, T = 2$\\pi$ and sampling_rate = 500"
   ]
  },
  {
   "cell_type": "code",
   "execution_count": 7,
   "metadata": {},
   "outputs": [],
   "source": [
    "#y = square_wave_harmonics(N=10,T=2*np.pi,sampling_rate=500)"
   ]
  },
  {
   "cell_type": "markdown",
   "metadata": {},
   "source": [
    "We can see from the above figure cosisting of all the harmonic components that each component has different frequencies and ampltidues. \n",
    "\n",
    "These frequencies and amplitudes are what the **fourier transform** allows us to quantify for any time series.\n",
    "\n",
    "So, let's start to build a simple fourier transform of the square wave."
   ]
  },
  {
   "cell_type": "markdown",
   "metadata": {},
   "source": [
    "First, what is the frequency for each of the harmonic components assuming that $T$ is in units of seconds ($T$ = 2$\\pi$)?"
   ]
  },
  {
   "cell_type": "code",
   "execution_count": 5,
   "metadata": {},
   "outputs": [],
   "source": [
    "# loop over k and print out frequency\n",
    "N = 10; T = 2*np.pi\n",
    "for k in np.arange(1,N+1,2):\n",
    "    f = \n",
    "    print(f, 'Hz')"
   ]
  },
  {
   "cell_type": "markdown",
   "metadata": {},
   "source": [
    "To contruct our fourier transform, we will create a plot of amplitude versus frequency. We want to see what our square wave would look if we plotted the harmonic components in the frequency domain, rather than the time domain. \n",
    "\n",
    "We now have the frequencies of each component, but, what is the amplitude? Take a look at the equation at the beginning - what relative contribution does each harmonic component have? This is the amplitude.\n",
    "\n",
    "Make a bar plot of amplitude versus frequency for $N$ = 10. This is the ***discrete fourier transform*** of the square wave."
   ]
  },
  {
   "cell_type": "code",
   "execution_count": 22,
   "metadata": {},
   "outputs": [],
   "source": [
    "# loop over k and create two lists: one for frequency and one for amplitude\n",
    "N = 10; T = 2*np.pi; f = []; amp = []\n",
    "for k in np.arange(1,N+1,2):\n",
    "    f.append()\n",
    "    amp.append()"
   ]
  },
  {
   "cell_type": "code",
   "execution_count": 21,
   "metadata": {},
   "outputs": [
    {
     "data": {
      "text/plain": [
       "<BarContainer object of 0 artists>"
      ]
     },
     "execution_count": 21,
     "metadata": {},
     "output_type": "execute_result"
    },
    {
     "data": {
      "image/png": "[encoded data removed]",
      "text/plain": [
       "<Figure size 432x288 with 1 Axes>"
      ]
     },
     "metadata": {},
     "output_type": "display_data"
    }
   ],
   "source": [
    "plt.bar(f,amp,width=0.025)\n",
    "#plt.title('Amplitude vs. Frequency for a Square Wave')\n",
    "#plt.xlabel('Frequency (Hz)')\n",
    "#plt.ylabel('Amplitude')"
   ]
  },
  {
   "cell_type": "code",
   "execution_count": null,
   "metadata": {},
   "outputs": [],
   "source": []
  }
 ],
 "metadata": {
  "kernelspec": {
   "display_name": "Python 3",
   "language": "python",
   "name": "python3"
  },
  "language_info": {
   "codemirror_mode": {
    "name": "ipython",
    "version": 3
   },
   "file_extension": ".py",
   "mimetype": "text/x-python",
   "name": "python",
   "nbconvert_exporter": "python",
   "pygments_lexer": "ipython3",
   "version": "3.8.3"
  }
 },
 "nbformat": 4,
 "nbformat_minor": 2
}
