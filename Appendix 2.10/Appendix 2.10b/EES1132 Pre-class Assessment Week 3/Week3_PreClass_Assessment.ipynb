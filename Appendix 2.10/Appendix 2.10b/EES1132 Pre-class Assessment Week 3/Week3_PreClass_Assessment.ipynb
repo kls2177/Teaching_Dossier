{
 "cells": [
  {
   "cell_type": "markdown",
   "metadata": {},
   "source": [
    "# Week 3 Pre-Class Assessment\n",
    "\n",
    "## Part I: Confidence Intervals using UTSC Weather Station Data"
   ]
  },
  {
   "cell_type": "markdown",
   "metadata": {},
   "source": [
    "Building on what we covered in Week 2's pre-class assessment, we will continue our examination of the hourly surface pressure data from the UTSC Weather Station. First, we import the packages that we will need:"
   ]
  },
  {
   "cell_type": "code",
   "execution_count": 16,
   "metadata": {},
   "outputs": [],
   "source": [
    "#  Import packages\n",
    "import numpy as np\n",
    "from matplotlib import pyplot as plt\n",
    "import matplotlib as mpl\n",
    "mpl.rc('font',size=16) #set default font size and weight for plots"
   ]
  },
  {
   "cell_type": "markdown",
   "metadata": {},
   "source": [
    "Next, we load the hourly UTSC Weather Station surface pressure data from 2015-2017"
   ]
  },
  {
   "cell_type": "code",
   "execution_count": 17,
   "metadata": {},
   "outputs": [],
   "source": [
    "#  Load data:\n",
    "#  UTSC surface pressure data for the years 2015-2018 in kPa. \n",
    "#  Data are collected hourly.\n",
    "filename = 'UTSC_P_20152018.csv'\n",
    "PS = np.genfromtxt(filename, delimiter = ',')"
   ]
  },
  {
   "cell_type": "markdown",
   "metadata": {},
   "source": [
    "Recall that the mean of our data is:"
   ]
  },
  {
   "cell_type": "code",
   "execution_count": 4,
   "metadata": {},
   "outputs": [],
   "source": [
    "avg_PS = \n",
    "print(avg_PS)"
   ]
  },
  {
   "cell_type": "markdown",
   "metadata": {},
   "source": [
    "Now, let's calculate the 95% confidence intervals on this mean. \n",
    "\n",
    "First, we need to calculate the sample standard deviation. We can do this using the np.std() function, but we need to specify the change to our degrees of freedom. \n",
    "\n",
    "The np.std() function assumes that the number of degrees of freedom (dof) is simple the sample size, N. However, for the sample standard deviation our dof is N-1 because we have used up one dof estimating the sample mean."
   ]
  },
  {
   "cell_type": "code",
   "execution_count": 3,
   "metadata": {},
   "outputs": [],
   "source": [
    "#  Calculate the sample standard deviation\n",
    "#  Use np.std(PS,ddof=?), where ddof = \"delta degrees of freedom\", \n",
    "#   such that dof = N - ddof\n",
    "\n",
    "s_PS = np.std()\n",
    "print(s_PS)"
   ]
  },
  {
   "cell_type": "markdown",
   "metadata": {},
   "source": [
    "Note how similar the sample standard deviation is to the standard deviation we calculated last week. Why?\n",
    "\n",
    "Now, we need to calculate the test statistic that we will use to compute the 95% confidence intervals (two-sided), assuming a certain sample distribution. \n",
    "\n",
    "To calculate test statistics we need to import an extra python package:"
   ]
  },
  {
   "cell_type": "code",
   "execution_count": 20,
   "metadata": {},
   "outputs": [],
   "source": [
    "import scipy.stats as stats"
   ]
  },
  {
   "cell_type": "markdown",
   "metadata": {},
   "source": [
    "Do we use a normal or z-distribution or a t-distribution? \n",
    "\n",
    "Note the corresponding scipy.stats functions are `stats.norm.ppf()` or `stats.t.ppf()`.\n",
    "\n",
    "Compare the confidence intervals for both the z- and t- test statistics. Are they similar or different? Why?"
   ]
  },
  {
   "cell_type": "code",
   "execution_count": 5,
   "metadata": {},
   "outputs": [],
   "source": [
    "#  Calculate z-statistic\n",
    "#  Enter the probability that you are interest in \n",
    "#   (in fraction, not percent)\n",
    "\n",
    "z_stat = stats.norm.ppf()\n",
    "print(z_stat)"
   ]
  },
  {
   "cell_type": "markdown",
   "metadata": {},
   "source": [
    "Use your probability tables to check that this is correct."
   ]
  },
  {
   "cell_type": "code",
   "execution_count": 6,
   "metadata": {},
   "outputs": [],
   "source": [
    "#  Calculate t-statistic\n",
    "\n",
    "#  Enter the probability that you are interest in \n",
    "#   (in fraction, not percent). \n",
    "#  What other key piece of information do you have to provide to \n",
    "#   this function?\n",
    "\n",
    "t_stat = stats.t.ppf()     \n",
    "print(t_stat)    "
   ]
  },
  {
   "cell_type": "code",
   "execution_count": 30,
   "metadata": {},
   "outputs": [],
   "source": [
    "#  Calculate upper and lower confidence intervals using the z-statistic\n",
    "\n",
    "Upper_CI_z = \n",
    "Lower_CI_z = "
   ]
  },
  {
   "cell_type": "code",
   "execution_count": 7,
   "metadata": {},
   "outputs": [],
   "source": [
    "print(Upper_CI_z,Lower_CI_z)"
   ]
  },
  {
   "cell_type": "code",
   "execution_count": 32,
   "metadata": {},
   "outputs": [],
   "source": [
    "# Repeat using t_statistic\n",
    "\n",
    "Upper_CI_t = \n",
    "Lower_CI_t = "
   ]
  },
  {
   "cell_type": "code",
   "execution_count": 8,
   "metadata": {},
   "outputs": [],
   "source": [
    "print(Upper_CI_t,Lower_CI_t)"
   ]
  },
  {
   "cell_type": "markdown",
   "metadata": {},
   "source": [
    "Let's plot a histogram. Add the mean, $\\pm$ the standard deviation and the upper and lower confidence intervals (computed using the t-statistic) as vertical lines."
   ]
  },
  {
   "cell_type": "code",
   "execution_count": 2,
   "metadata": {},
   "outputs": [],
   "source": [
    "# plot histogram\n",
    "plt.figure(figsize=(10,5))\n",
    "\n",
    "#fill in here..."
   ]
  },
  {
   "cell_type": "markdown",
   "metadata": {},
   "source": [
    "**Reflection Question:**\\\n",
    "Why are the confidence intervals so much smaller than the standard deviation?"
   ]
  },
  {
   "cell_type": "markdown",
   "metadata": {},
   "source": [
    "## Part II: Simple Regression"
   ]
  },
  {
   "cell_type": "markdown",
   "metadata": {},
   "source": [
    "In Week 3, we will discuss linear regression. As an introduction, let's take a quick look at preparing data for regression analysis.\n",
    "\n",
    "To begin, let's load in some data. Here we will examine the relationship between globally-averaged temperature anomalies and CO2 concentration. These are data from 1979-2010"
   ]
  },
  {
   "cell_type": "code",
   "execution_count": 11,
   "metadata": {},
   "outputs": [],
   "source": [
    "filename = \"witt.csv\"\n",
    "data = np.genfromtxt(filename, dtype='str',delimiter = ',').T #  I just transposed it so that we can get each data component as it's own array\n",
    "data = data.astype('float')"
   ]
  },
  {
   "cell_type": "code",
   "execution_count": 20,
   "metadata": {},
   "outputs": [],
   "source": [
    "#  GISTEMP temperature anomalies in 100th's of degrees C\n",
    "T = data[1]\n",
    "print(T)"
   ]
  },
  {
   "cell_type": "code",
   "execution_count": 21,
   "metadata": {},
   "outputs": [],
   "source": [
    "#  CO2 concentrations (in ppm)\n",
    "CO2 = data[2]\n",
    "print(CO2)"
   ]
  },
  {
   "cell_type": "markdown",
   "metadata": {},
   "source": [
    "Now, let's plot the data in a scatter plot to see if there appears to be a linear relationship between the two variables. \n",
    "\n",
    "It doesn't really matter which variable we choose to be on the x-axis or the y-axis when we initially plot our data, but how we build our regression model will depend on the hypothesis we're testing about the relationship between the two variables, i.e. which variable is the predictor and which is the predictand."
   ]
  },
  {
   "cell_type": "code",
   "execution_count": 12,
   "metadata": {},
   "outputs": [],
   "source": [
    "#  Plot the data using plt.scatter(). Google this to see how to use it.\n",
    "plt.scatter()\n",
    "\n",
    "# add title, labels, etc."
   ]
  },
  {
   "cell_type": "markdown",
   "metadata": {},
   "source": [
    "We will discuss in lecture how to compute the slope and intercept of the best fit line, but for now, we will simply use the python tools to help us."
   ]
  },
  {
   "cell_type": "code",
   "execution_count": 23,
   "metadata": {},
   "outputs": [],
   "source": [
    "#  Compute the regression coefficients using np.polyfit() \n",
    "#   (take a look back at the section on resampling in the courseware)\n",
    "\n",
    "a = np.polyfit()"
   ]
  },
  {
   "cell_type": "code",
   "execution_count": 13,
   "metadata": {},
   "outputs": [],
   "source": [
    "print(a)"
   ]
  },
  {
   "cell_type": "markdown",
   "metadata": {},
   "source": [
    "There should be two values for a, one is the slope and one is the intercept - which is which?"
   ]
  },
  {
   "cell_type": "markdown",
   "metadata": {},
   "source": [
    "Now we can use the slope and intercept to compute our best-fit line."
   ]
  },
  {
   "cell_type": "code",
   "execution_count": 25,
   "metadata": {},
   "outputs": [],
   "source": [
    "# Compute the best-fit line (use y = slope*x + intercept)\n",
    "\n",
    "y_fit = "
   ]
  },
  {
   "cell_type": "markdown",
   "metadata": {},
   "source": [
    "Add this line to the scatter plot. \n",
    "\n",
    "Be sure to now choose your x- and y-axes based on a hypothesis about the relationship between the data. \n",
    "\n",
    "Properly label your plot and save it as a .png file."
   ]
  },
  {
   "cell_type": "code",
   "execution_count": 14,
   "metadata": {},
   "outputs": [],
   "source": [
    "# Replot the scatter plot and add the best-fit line.\n",
    "\n",
    "plt.scatter()\n",
    "plt.plot()\n",
    "\n",
    "# add title, labels, etc.\n",
    "\n",
    "plt.savefig()"
   ]
  }
 ],
 "metadata": {
  "kernelspec": {
   "display_name": "Python 3",
   "language": "python",
   "name": "python3"
  },
  "language_info": {
   "codemirror_mode": {
    "name": "ipython",
    "version": 3
   },
   "file_extension": ".py",
   "mimetype": "text/x-python",
   "name": "python",
   "nbconvert_exporter": "python",
   "pygments_lexer": "ipython3",
   "version": "3.6.8"
  }
 },
 "nbformat": 4,
 "nbformat_minor": 2
}
