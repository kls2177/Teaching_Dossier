{
 "cells": [
  {
   "cell_type": "markdown",
   "metadata": {},
   "source": [
    "# Week 4 In-Class Activity"
   ]
  },
  {
   "cell_type": "markdown",
   "metadata": {},
   "source": [
    "## Part I: Correlation"
   ]
  },
  {
   "cell_type": "markdown",
   "metadata": {},
   "source": [
    "Building on what we covered in Week 3's pre-class assessment, we will continue our examination of globally and annually averaged surface temperature. These are data from 1979-2010. \n",
    "\n",
    "First, we import the packages that we will need:"
   ]
  },
  {
   "cell_type": "code",
   "execution_count": 2,
   "metadata": {},
   "outputs": [],
   "source": [
    "#  import packages\n",
    "import numpy as np\n",
    "from matplotlib import pyplot as plt\n",
    "import scipy.stats as stats\n",
    "import matplotlib as mpl\n",
    "mpl.rc('font',size=16) #set default font size and weight for plots"
   ]
  },
  {
   "cell_type": "code",
   "execution_count": 4,
   "metadata": {},
   "outputs": [],
   "source": [
    "#  Load data\n",
    "filename = \"witt.csv\"\n",
    "data = np.genfromtxt(filename, dtype='str',delimiter = ',').T #I just transposed it to get each data component as it's own array\n",
    "data = data.astype('float')"
   ]
  },
  {
   "cell_type": "code",
   "execution_count": 5,
   "metadata": {},
   "outputs": [],
   "source": [
    "#  The first variable in \"data\" is the year\n",
    "year = data[0]"
   ]
  },
  {
   "cell_type": "code",
   "execution_count": 6,
   "metadata": {},
   "outputs": [],
   "source": [
    "#  GISTEMP temperature anomalies in 100th's of degrees C\n",
    "T = data[1]"
   ]
  },
  {
   "cell_type": "markdown",
   "metadata": {},
   "source": [
    "This time, we will also read in data for the total solar irradiance (TSI), aka the solar constant. This is the amount of radiation that the Earth receives from the Sun."
   ]
  },
  {
   "cell_type": "code",
   "execution_count": 8,
   "metadata": {},
   "outputs": [],
   "source": [
    "#  Total Solar Irradiance (TSI), aka the Solar Constant (W/m2)\n",
    "TSI = data[3]\n",
    "#print(TSI)"
   ]
  },
  {
   "cell_type": "code",
   "execution_count": 12,
   "metadata": {},
   "outputs": [
    {
     "data": {
      "text/plain": [
       "<matplotlib.axes._subplots.AxesSubplot at 0x1a11545b00>"
      ]
     },
     "execution_count": 12,
     "metadata": {},
     "output_type": "execute_result"
    },
    {
     "data": {
      "image/png": "[encoded data removed]",
      "text/plain": [
       "<Figure size 1440x432 with 2 Axes>"
      ]
     },
     "metadata": {},
     "output_type": "display_data"
    }
   ],
   "source": [
    "#  plot the time series of T and TSI.\n",
    "#  uncomment the lines below, complete and beautify the plot, e.g. add labels, title, etc.\n",
    "\n",
    "# Let's use subplots!\n",
    "plt.figure(figsize=(20,6))\n",
    "\n",
    "# Plot time series of T\n",
    "plt.subplot(1,2,1)\n",
    "plt.plot()\n",
    "# add title, labels\n",
    "\n",
    "# Plot time series of TSI\n",
    "plt.subplot(1,2,2)\n",
    "plt.plot()\n",
    "# add title, labels"
   ]
  },
  {
   "cell_type": "markdown",
   "metadata": {},
   "source": [
    "Note: you should be able to see an **11-year solar cycle in TSI**. Keep this in mind when you consider the issue of autocorrelation below.\n",
    "\n",
    "Let's plot the T and TSI in a scatter plot with the predictor and predictand variables on the x-axis and y-axis, respectively. \n",
    "\n",
    "**Reflection Question:**\\\n",
    "Which do you think should be the predictor and which the predictand? Why?"
   ]
  },
  {
   "cell_type": "code",
   "execution_count": 13,
   "metadata": {},
   "outputs": [
    {
     "data": {
      "text/plain": [
       "<Figure size 720x576 with 0 Axes>"
      ]
     },
     "execution_count": 13,
     "metadata": {},
     "output_type": "execute_result"
    },
    {
     "data": {
      "text/plain": [
       "<Figure size 720x576 with 0 Axes>"
      ]
     },
     "metadata": {},
     "output_type": "display_data"
    }
   ],
   "source": [
    "# Uncomment and fill in the lines below\n",
    "\n",
    "plt.figure(figsize=(10,8))\n",
    "#plt.scatter()\n",
    "#plt.title()\n",
    "#plt.xlabel()\n",
    "#plt.ylabel()"
   ]
  },
  {
   "cell_type": "markdown",
   "metadata": {},
   "source": [
    "Let's calculate the best-fit line relating T to TSI using `np.polyfit()` and `np.polyval()`. Note that the order that you input the variables matters: predictor first, then predictand."
   ]
  },
  {
   "cell_type": "code",
   "execution_count": null,
   "metadata": {},
   "outputs": [],
   "source": [
    "# Uncomment and complete\n",
    "\n",
    "#a = np.polyfit()\n",
    "#print(a)"
   ]
  },
  {
   "cell_type": "markdown",
   "metadata": {},
   "source": [
    "Now, calculate the fitted values."
   ]
  },
  {
   "cell_type": "code",
   "execution_count": null,
   "metadata": {},
   "outputs": [],
   "source": [
    "#T_hat = np.polyval()"
   ]
  },
  {
   "cell_type": "markdown",
   "metadata": {},
   "source": [
    "Let's add this best-fit line to our plot."
   ]
  },
  {
   "cell_type": "code",
   "execution_count": null,
   "metadata": {},
   "outputs": [],
   "source": [
    "# Uncomment and fill in the lines below\n",
    "\n",
    "plt.figure(figsize=(10,8))\n",
    "#plt.scatter()\n",
    "\n",
    "# add best-fit line\n",
    "#plt.plot()\n",
    "\n",
    "#plt.title()\n",
    "#plt.xlabel()\n",
    "#plt.ylabel()"
   ]
  },
  {
   "cell_type": "markdown",
   "metadata": {},
   "source": [
    "What is the correlation between temperature (T) and total solar irradiance (TSI)? We will use the `stats.pearsonr()` function to calculate the Pearson correlation coefficient."
   ]
  },
  {
   "cell_type": "code",
   "execution_count": 14,
   "metadata": {},
   "outputs": [],
   "source": [
    "#  uncomment and fill in the lines below\n",
    "\n",
    "#pcorr = stats.pearsonr()\n",
    "#print(pcorr)"
   ]
  },
  {
   "cell_type": "markdown",
   "metadata": {},
   "source": [
    "What does the `stats.pearsonr()` function return? Is the correlation negative or positive? What fraction of the variance in T is explained by TSI?"
   ]
  },
  {
   "cell_type": "markdown",
   "metadata": {},
   "source": [
    "## Part II: Residuals"
   ]
  },
  {
   "cell_type": "markdown",
   "metadata": {},
   "source": [
    "If we fit a \"best-fit\" line to the data, what do the residuals look like? First, we have to calculate this \"best-fit\" line."
   ]
  },
  {
   "cell_type": "code",
   "execution_count": 16,
   "metadata": {},
   "outputs": [],
   "source": [
    "#  uncomment and fill in the lines below\n",
    "\n",
    "#resids = "
   ]
  },
  {
   "cell_type": "markdown",
   "metadata": {},
   "source": [
    "Let's plot a histogram of the residuals. Do the residuals look normally distributed?"
   ]
  },
  {
   "cell_type": "code",
   "execution_count": 18,
   "metadata": {},
   "outputs": [],
   "source": [
    "#  Plot historgram of residuals\n",
    "\n",
    "#plt.hist(resids)"
   ]
  },
  {
   "cell_type": "markdown",
   "metadata": {},
   "source": [
    "Do they look normally distributed? Let's do a test to see:"
   ]
  },
  {
   "cell_type": "code",
   "execution_count": 10,
   "metadata": {},
   "outputs": [],
   "source": [
    "#norm_test = stats.normaltest(resids)\n",
    "#print(\"p-value is\", np.round(norm_test[1],2))"
   ]
  },
  {
   "cell_type": "markdown",
   "metadata": {},
   "source": [
    "What does the result of the normal test tell us about whether the residuals are normally distributed?"
   ]
  },
  {
   "cell_type": "markdown",
   "metadata": {},
   "source": [
    "## Part III: Autocorrelation"
   ]
  },
  {
   "cell_type": "markdown",
   "metadata": {},
   "source": [
    "Now, let's plot the residuals as a function of the predictor, TSI"
   ]
  },
  {
   "cell_type": "code",
   "execution_count": null,
   "metadata": {},
   "outputs": [],
   "source": [
    "#uncomment and fill in the lines below\n",
    "\n",
    "plt.figure(figsize=(10,8))\n",
    "#plt.scatter()\n",
    "#plt.title()\n",
    "#plt.xlabel()\n",
    "#plt.ylabel()"
   ]
  },
  {
   "cell_type": "markdown",
   "metadata": {},
   "source": [
    "Does it look like there is autocorrelation in the residuals? Maybe. This is something we don't want.\n",
    "\n",
    "Let's check.\n",
    "\n",
    "Let's first think about the meaning of autocorrelation. \n",
    "\n",
    "Autocorrelation describes how a variable correlates with itself. It's easiest to think about this in terms of time. For example, how does the weather today relate to the weather yesterday. If we consider a large data set, we can ask a more general question: how does weather *on a given day* correlate with the weather *on the previous day*?\n",
    "\n",
    "For our residuals, this amounts to asking: how does a residual at value x+1 correlate with the residual at value x (assuming x is our predictor variable)? We want there to be **very little autocorrelation** in our residuals in order to satisfy the assumptions of linear regression. \n",
    "\n",
    "### Lag-zero autocorrelation\n",
    "\n",
    "First let's check that the residuals at value x correlate perfectly with themselves. We call this the lag-zero autocorrelation. You don't need to do anything to the cells below - just run them and be sure that you understand what is going on."
   ]
  },
  {
   "cell_type": "code",
   "execution_count": 14,
   "metadata": {},
   "outputs": [],
   "source": [
    "# Here's an example using code.\n",
    "\n",
    "acorr0 = np.corrcoef(resids,resids)[0,1]\n",
    "print(\"The lag-zero autocorrelation is \",acorr0, \", almost identically 1!\")"
   ]
  },
  {
   "cell_type": "markdown",
   "metadata": {},
   "source": [
    "### Lag-1 autocorrelation\n",
    "\n",
    "Now, let's calculate correlation between residuals at value x+1 with the residuals at value x. We call this the lag-1 autocorrelation"
   ]
  },
  {
   "cell_type": "code",
   "execution_count": 12,
   "metadata": {},
   "outputs": [],
   "source": [
    "# lag-1 autocorrelation\n",
    "\n",
    "acorr1 = np.corrcoef(resids,np.roll(resids,1))[0,1]\n",
    "print(\"The lag-1 autocorrelation is\", acorr1)"
   ]
  },
  {
   "cell_type": "markdown",
   "metadata": {},
   "source": [
    "### ***Print out `resids` and `np.roll(resids,1)` to be sure that you see what is going on***"
   ]
  },
  {
   "cell_type": "markdown",
   "metadata": {},
   "source": [
    "### Lag-2 autocorrelation\n",
    "\n",
    "Now, let's calculate correlation between residuals at value x+2 with the residuals at value x. We call this the lag-2 autocorrelation"
   ]
  },
  {
   "cell_type": "code",
   "execution_count": 25,
   "metadata": {},
   "outputs": [],
   "source": [
    "acorr2 = np.corrcoef(resids,np.roll(resids,2))[0,1]\n",
    "print(\"The lag-2 autocorrelation is\", acorr2)"
   ]
  },
  {
   "cell_type": "markdown",
   "metadata": {},
   "source": [
    "### Autocorrelation for all lags\n",
    "\n",
    "Now, we can do the same thing for every combination, i.e. at all lags. **We will go over the equation for autocorrelation and the code below in detail in the courseware. For now, it is important that you understand the concept of autocorrelation.**"
   ]
  },
  {
   "cell_type": "code",
   "execution_count": null,
   "metadata": {},
   "outputs": [],
   "source": [
    "#  This line uses np.correlate to calculate the autocorrelation at all lags.\n",
    "#  E.g., the residuals at value x with all the residuals from values x-N/2 to x+N/2\n",
    "\n",
    "acorr = np.correlate(resids/(np.std(resids)),resids/(np.std(resids)*len(resids)),'same')"
   ]
  },
  {
   "cell_type": "code",
   "execution_count": 26,
   "metadata": {},
   "outputs": [],
   "source": [
    "#  We can do the same thing for temperature - calculate the correlation of T with itself at all lags\n",
    "Tcorr = np.correlate((T-np.mean(T))/(np.std(T)),(T-np.mean(T))/(np.std(T)*len(T)),'same')"
   ]
  },
  {
   "cell_type": "code",
   "execution_count": 28,
   "metadata": {},
   "outputs": [],
   "source": [
    "#  And TSI\n",
    "TSIcorr = np.correlate((TSI-np.mean(TSI))/(np.std(TSI)),(TSI-np.mean(TSI))/(np.std(TSI)*len(TSI)),'same')"
   ]
  },
  {
   "cell_type": "markdown",
   "metadata": {},
   "source": [
    "Now, let's plot the autocorrelation functions as a function of lag."
   ]
  },
  {
   "cell_type": "code",
   "execution_count": 33,
   "metadata": {},
   "outputs": [],
   "source": [
    "#  Here I am creating a x-index of lags from -N/2 to +N/2 in order to plot the autocorrelation, acorr2\n",
    "\n",
    "x = np.arange(0,len(resids),1)\n",
    "lag = [i-len(resids)/2 for i in x]\n",
    "#print(lag)   #uncomment this line to see what series looks like"
   ]
  },
  {
   "cell_type": "code",
   "execution_count": 34,
   "metadata": {},
   "outputs": [
    {
     "name": "stderr",
     "output_type": "stream",
     "text": [
      "No handles with labels found to put in legend.\n"
     ]
    },
    {
     "data": {
      "image/png": "[encoded data removed]",
      "text/plain": [
       "<Figure size 864x432 with 1 Axes>"
      ]
     },
     "metadata": {},
     "output_type": "display_data"
    }
   ],
   "source": [
    "#plot the autocorrelation as a function of lag\n",
    "fig = plt.figure(figsize=(12,6))\n",
    "\n",
    "plt.plot(lag,acorr,'k',linewidth=2,label='Residuals') \n",
    "#plt.plot(,'r',linewidth=2,label='Temperature') # uncomment and fill in for Tcorr\n",
    "#plt.plot(,'b',linewidth=2,label='TSI') # uncomment and fill in for TSIcorr\n",
    "plt.axhline(0,color='gray')\n",
    "plt.axvline(0,color='gray')\n",
    "plt.xlim(-15,15)\n",
    "plt.title(\"Autocorrelation Example\",fontsize=16)\n",
    "plt.xlabel('Lag',fontsize=16)\n",
    "plt.ylabel('Correlation Coefficient',fontsize=16)\n",
    "plt.legend(fontsize=16)     #uncomment this line\n",
    "plt.savefig('autocorr_example.png')"
   ]
  },
  {
   "cell_type": "markdown",
   "metadata": {},
   "source": [
    "What do you see in this figure?"
   ]
  },
  {
   "cell_type": "code",
   "execution_count": null,
   "metadata": {},
   "outputs": [],
   "source": []
  }
 ],
 "metadata": {
  "kernelspec": {
   "display_name": "Python 3",
   "language": "python",
   "name": "python3"
  },
  "language_info": {
   "codemirror_mode": {
    "name": "ipython",
    "version": 3
   },
   "file_extension": ".py",
   "mimetype": "text/x-python",
   "name": "python",
   "nbconvert_exporter": "python",
   "pygments_lexer": "ipython3",
   "version": "3.7.2"
  }
 },
 "nbformat": 4,
 "nbformat_minor": 2
}
