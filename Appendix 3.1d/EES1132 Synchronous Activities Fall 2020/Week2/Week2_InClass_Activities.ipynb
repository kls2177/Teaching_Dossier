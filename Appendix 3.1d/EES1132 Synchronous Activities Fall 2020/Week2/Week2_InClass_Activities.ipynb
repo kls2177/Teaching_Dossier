{
 "cells": [
  {
   "cell_type": "markdown",
   "metadata": {},
   "source": [
    "# Week 2 In-Class Activities:\n",
    "\n",
    "## Descriptive Statistics of Global Climate Model Output\n",
    "\n",
    "We are going to take a look at output from a global climate model, the Community Earth System Model (CESM). The data are globally average surface temperature for a pre-industrial integration (GHGs, etc. fixed at year 1850 values) and a set of integrations from 1920-2100.\n",
    "\n",
    "This activity is adapted from Prof. Jennifer Kay's Objective Data Analysis course at CU Boulder (Originally coded by Prof. Jennifer Kay (CU Boulder) with input from Elizabeth Maroon (CU ATOC/CIRES Postdoc 2018))\n",
    "\n",
    "First, we import the packages that we will need. Make sure that you have installed the netCDF4 package."
   ]
  },
  {
   "cell_type": "code",
   "execution_count": 54,
   "metadata": {},
   "outputs": [],
   "source": [
    "#import packages\n",
    "import numpy as np\n",
    "from matplotlib import pyplot as plt\n",
    "import matplotlib as mpl\n",
    "mpl.rc('font',size=12) # set default font size and weight for plots\n",
    "from netCDF4 import Dataset # we need this package to read in the GCM data"
   ]
  },
  {
   "cell_type": "markdown",
   "metadata": {},
   "source": [
    "Next, we read in the GCM data. The GCM data is stored in a file type called \"netCDF\". This is a very common climate data file type. To learn more about this file type, check out the following [link](https://climatedataguide.ucar.edu/climate-data-tools-and-analysis/netcdf-overview#:~:text=NetCDF%20). \n",
    "\n",
    "Download the first file [here](https://github.com/kls2177/ccia_files/blob/master/TS_timeseries_cesmle_1850.nc?raw=true) and the second file [here](https://github.com/kls2177/ccia_files/blob/master/TS_timeseries_cesmle_1920_2100.nc?raw=true)."
   ]
  },
  {
   "cell_type": "code",
   "execution_count": 55,
   "metadata": {},
   "outputs": [],
   "source": [
    "# Read in the data from netcdf files\n",
    "# These data are global annual mean surface temperatures from the CESM Large Ensemble (LENS) Project.\n",
    "\n",
    "# Read in 20th and 21st century integrations. There are 30 individual integrations of 181 years each.\n",
    "fname1=\"TS_timeseries_cesmle_1920_2100.nc\"\n",
    "nc1 = Dataset(fname1)\n",
    "TS_lens = nc1.variables[\"gts_ann_allcesmle\"][:] # Note: TS_20c is a numpy array\n",
    "year = nc1.variables[\"year\"][:]"
   ]
  },
  {
   "cell_type": "markdown",
   "metadata": {},
   "source": [
    "How would you check that you have 30 integrations of 181 years each?"
   ]
  },
  {
   "cell_type": "code",
   "execution_count": 56,
   "metadata": {},
   "outputs": [],
   "source": [
    "# check that you have the right dimensions to your data\n",
    "\n"
   ]
  },
  {
   "cell_type": "code",
   "execution_count": 57,
   "metadata": {},
   "outputs": [],
   "source": [
    "# Read in the pre-industrial control integration. There are 1801 years of this integration.\n",
    "fname2=\"TS_timeseries_cesmle_1850.nc\"\n",
    "nc2 = Dataset(fname2)\n",
    "TS_PI = nc2.variables[\"gts_annual\"][:]"
   ]
  },
  {
   "cell_type": "code",
   "execution_count": 58,
   "metadata": {},
   "outputs": [],
   "source": [
    "# check that you have the right dimensions to your data\n"
   ]
  },
  {
   "cell_type": "markdown",
   "metadata": {},
   "source": [
    "## I. Preliminary Data Visualization"
   ]
  },
  {
   "cell_type": "markdown",
   "metadata": {},
   "source": [
    "One of the first things we should always do when analyzing a data set is to first take a look at the raw data.\n",
    "\n",
    "Let's plot the time series of surface temperature in these integrations. First, let's just plot the pre-industrial control integration."
   ]
  },
  {
   "cell_type": "code",
   "execution_count": 65,
   "metadata": {},
   "outputs": [
    {
     "data": {
      "text/plain": [
       "Text(0.5,0,'year')"
      ]
     },
     "execution_count": 65,
     "metadata": {},
     "output_type": "execute_result"
    },
    {
     "data": {
      "image/png": "[encoded data removed]",
      "text/plain": [
       "<Figure size 1152x432 with 1 Axes>"
      ]
     },
     "metadata": {
      "needs_background": "light"
     },
     "output_type": "display_data"
    }
   ],
   "source": [
    "## It's always a good idea to plot your data before you start doing any calculations.  \"Look at your data\"!\n",
    "## Let's make a line plot of the global annual mean temperature timeseries from the 1850 control. Note the units!\n",
    "\n",
    "fig = plt.figure(figsize=(16,6))\n",
    "plt.plot()\n",
    "plt.ylabel('global surface temperature (deg C)')\n",
    "plt.xlabel('year')"
   ]
  },
  {
   "cell_type": "markdown",
   "metadata": {},
   "source": [
    "**Reflection Question:**\\\n",
    "Describe what you see. What is the sampling rate of the data? What do the wiggles in the data represent?"
   ]
  },
  {
   "cell_type": "markdown",
   "metadata": {},
   "source": [
    "Now, let's add the 20th and 21st century integrations (note that the 21st century integrations follow the high-carbon, RCP8.5 scenario).\n",
    "\n",
    "We have 30 individual integrations. Normally, I would say to plot each one to make sure the data looks ok, but in this case, these integrations have already been scientifically validated, so we can skip that step.\n",
    "\n",
    "Let's plot the mean of the 30 integrations. Let's compute the mean over these 30 integrations - how would you do this?"
   ]
  },
  {
   "cell_type": "code",
   "execution_count": 140,
   "metadata": {},
   "outputs": [],
   "source": [
    "# compute the 30-member ensemble mean (use the np.mean() function)\n",
    "\n",
    "#TS_lens_mean = "
   ]
  },
  {
   "cell_type": "code",
   "execution_count": 139,
   "metadata": {},
   "outputs": [
    {
     "data": {
      "text/plain": [
       "(0, 2100)"
      ]
     },
     "execution_count": 139,
     "metadata": {},
     "output_type": "execute_result"
    },
    {
     "data": {
      "image/png": "[encoded data removed]",
      "text/plain": [
       "<Figure size 1440x432 with 1 Axes>"
      ]
     },
     "metadata": {
      "needs_background": "light"
     },
     "output_type": "display_data"
    }
   ],
   "source": [
    "fig = plt.figure(figsize=(20,6))\n",
    "#plt.plot() # plot pre-industrial TS\n",
    "plt.ylabel('global surface temperature (deg C)')\n",
    "plt.xlabel('year')\n",
    "\n",
    "#plt.plot(year,) # plot 20th and 21st century TS\n",
    "plt.xticks(np.arange(1920,2101,60),[\"1920\",\"1980\",\"2040\",\"2100\"])\n",
    "plt.xlim(0,2100) # force plot to start and stop at certain x-values"
   ]
  },
  {
   "cell_type": "markdown",
   "metadata": {},
   "source": [
    "## II. Summary Statistics"
   ]
  },
  {
   "cell_type": "markdown",
   "metadata": {},
   "source": [
    "The primary reason that the CESM Large Ensemble Project exists is to establish the influence of internal climate variability on climate change projections. So, let's take a look at the variability.\n",
    "\n",
    "But first, let's start with some basic descriptive statistics. Let's calculate the mean of the pre-industrial control integration. We already have a good sense of what this might be from the plot above."
   ]
  },
  {
   "cell_type": "code",
   "execution_count": 138,
   "metadata": {},
   "outputs": [],
   "source": [
    "# Mean pre-industrial surface temperature \n",
    "\n",
    "#avg_TS_PI = \n",
    "#print(avg_TS_PI)"
   ]
  },
  {
   "cell_type": "markdown",
   "metadata": {},
   "source": [
    "**Reflection Question:**\\\n",
    "Does this seem consistent with your timeseries plot above?"
   ]
  },
  {
   "cell_type": "markdown",
   "metadata": {},
   "source": [
    "We can do the same thing for our 20th and 21st century data. Let's take a look at the means over two distinct time periods:\n",
    "\n",
    "- the end of the 20th century: 1980-2005\n",
    "- the end of the 21st century: 2075-2100\n",
    "\n",
    "You will need to use **slicing** to extract the time periods of interest and compute the mean values. You can use the variable `year` to see if you are slicing correctly."
   ]
  },
  {
   "cell_type": "code",
   "execution_count": 137,
   "metadata": {},
   "outputs": [],
   "source": [
    "# Mean of 1980-2005 time period. \n",
    "# Compute the mean across the 25-year time period but not the mean across the 30 ensemble members.\n",
    "\n",
    "#avg_TS_19802005 = \n",
    "#print(avg_TS_19802005)\n",
    "\n",
    "# Mean of 2075-2100 time period. \n",
    "# Compute the mean across the 25-year time period but not the mean across the 30 ensemble members.\n",
    "\n",
    "#avg_TS_20752100 = \n",
    "#print(avg_TS_20752100)"
   ]
  },
  {
   "cell_type": "markdown",
   "metadata": {},
   "source": [
    "**Reflection Question:**\\\n",
    "How many means do you have for each time period? "
   ]
  },
  {
   "cell_type": "markdown",
   "metadata": {},
   "source": [
    "## III. The \"Spread\" in the Data"
   ]
  },
  {
   "cell_type": "markdown",
   "metadata": {},
   "source": [
    "After, having taken a look at the basic summary statistics, let's move on the describing the \"spread\" in the data.\n",
    "\n",
    "We quantify the \"spread\" using the variance or standard deviation. Let's take a look at the standard deviation of the pre-industrial surface temperatures."
   ]
  },
  {
   "cell_type": "code",
   "execution_count": 136,
   "metadata": {},
   "outputs": [],
   "source": [
    "# Standard deviation of pre-industrail surface temperature\n",
    "\n",
    "#std_TS_PI = \n",
    "#print(std_TS_PI)"
   ]
  },
  {
   "cell_type": "markdown",
   "metadata": {},
   "source": [
    "We can also compute the spread in the 1980-2005 and 2075-2100 means across the 30-member ensemble of integrations. Let's see how these standard deviations compare to the pre-industrail control standard deviation."
   ]
  },
  {
   "cell_type": "code",
   "execution_count": 135,
   "metadata": {},
   "outputs": [],
   "source": [
    "# Standard deviation of 1980-2005 means across the 30-member ensemble. \n",
    "\n",
    "#std_TS_19802005 = \n",
    "#print(std_TS_19802005)\n",
    "\n",
    "# Standard deviation of 2075-2100 means across the 30-member ensemble. \n",
    "\n",
    "#std_TS_20752100 = \n",
    "#print(std_TS_20752100)"
   ]
  },
  {
   "cell_type": "markdown",
   "metadata": {},
   "source": [
    "**Reflection Question:**\\\n",
    "Why do you think the spread in the data is smaller for the 20th and 21st century time periods compared to the pre-industrial?"
   ]
  },
  {
   "cell_type": "markdown",
   "metadata": {},
   "source": [
    "## IV. The Shape of the Data"
   ]
  },
  {
   "cell_type": "markdown",
   "metadata": {},
   "source": [
    "Now, let's visualize these summary statistics using a histogram. Plot the histogram using `plt.hist()` and add vertical lines showing the mean and $\\pm$ one standard deviation using `plt.axvline()`. "
   ]
  },
  {
   "cell_type": "code",
   "execution_count": 141,
   "metadata": {},
   "outputs": [
    {
     "data": {
      "text/plain": [
       "<Figure size 1008x360 with 0 Axes>"
      ]
     },
     "execution_count": 141,
     "metadata": {},
     "output_type": "execute_result"
    },
    {
     "data": {
      "text/plain": [
       "<Figure size 1008x360 with 0 Axes>"
      ]
     },
     "metadata": {},
     "output_type": "display_data"
    }
   ],
   "source": [
    "# create a histogram of pre-industrial surface temperatures\n",
    "plt.figure(figsize=(14,5))\n",
    "#plt.hist(,color='skyblue',alpha=0.75)\n",
    "#plt.axvline(,color='r') # plot vertical line for mean\n",
    "#plt.axvline(,color='k') # plot vertical line for +1 std\n",
    "#plt.axvline(,color='k') # plot vertical line for -1 std"
   ]
  },
  {
   "cell_type": "markdown",
   "metadata": {},
   "source": [
    "For comparison, let's plot the histograms of the 1980-2005 and 2075-2100 surface temperatures across the 30-member ensemble. "
   ]
  },
  {
   "cell_type": "code",
   "execution_count": 142,
   "metadata": {},
   "outputs": [
    {
     "data": {
      "text/plain": [
       "<matplotlib.axes._subplots.AxesSubplot at 0x7f8295ab75f8>"
      ]
     },
     "execution_count": 142,
     "metadata": {},
     "output_type": "execute_result"
    },
    {
     "data": {
      "image/png": "[encoded data removed]",
      "text/plain": [
       "<Figure size 1152x360 with 2 Axes>"
      ]
     },
     "metadata": {
      "needs_background": "light"
     },
     "output_type": "display_data"
    }
   ],
   "source": [
    "# create histograms of 1980-2005 and 2075-2100 surface temperatures\n",
    "plt.figure(figsize=(16,5))\n",
    "\n",
    "# Let's use subplots!\n",
    "\n",
    "# 1980-2005\n",
    "plt.subplot(1,2,1)\n",
    "#plt.hist(,color='gray',alpha=0.75)\n",
    "#plt.xlim() # adjust the x-limits so that it looks nice\n",
    "\n",
    "# 2075-2100\n",
    "plt.subplot(1,2,2)\n",
    "#plt.hist(,color='red',alpha=0.75)\n",
    "#plt.xlim() # adjust the x-limits so that it looks nice\n",
    "\n",
    "# add titles, labels, etc."
   ]
  },
  {
   "cell_type": "markdown",
   "metadata": {},
   "source": [
    "We can see the smaller standard deviations for these time periods reflected in the entire distribution."
   ]
  },
  {
   "cell_type": "markdown",
   "metadata": {},
   "source": [
    "## V. Making Comparisons"
   ]
  },
  {
   "cell_type": "markdown",
   "metadata": {},
   "source": [
    "As we transition into the course material for Week 2 on hypothesis testing, let's take a look how our different means compare using a bar plot.\n",
    "\n",
    "Bar plots require all the data to be in an array. How do we combine separate arrays into one? Try `np.stack()`."
   ]
  },
  {
   "cell_type": "code",
   "execution_count": 143,
   "metadata": {},
   "outputs": [],
   "source": [
    "# stack the pre-industral mean, the 30-member ensemble mean for 1980-2005 and for 2075-2100\n",
    "\n",
    "#TS_all = \n",
    "#print(TS_all)"
   ]
  },
  {
   "cell_type": "markdown",
   "metadata": {},
   "source": [
    "Now, make a bar plot of the means. Use this [link](https://www.tutorialspoint.com/matplotlib/matplotlib_bar_plot.htm) to see an exmaple of creating a bar plot. "
   ]
  },
  {
   "cell_type": "code",
   "execution_count": 145,
   "metadata": {},
   "outputs": [
    {
     "data": {
      "text/plain": [
       "(0.0, 1.0)"
      ]
     },
     "execution_count": 145,
     "metadata": {},
     "output_type": "execute_result"
    },
    {
     "data": {
      "image/png": "[encoded data removed]",
      "text/plain": [
       "<Figure size 720x360 with 1 Axes>"
      ]
     },
     "metadata": {
      "needs_background": "light"
     },
     "output_type": "display_data"
    }
   ],
   "source": [
    "#Plot the pre-industrial mean surface temperature, the 30-member ensemble mean surface temperature for 1980-2005 \n",
    "# and the 30-member ensemble mean surface temperature for 2075-2100.\n",
    "\n",
    "plt.figure(figsize=(10,5))\n",
    "#plt.bar()\n",
    "plt.ylim() # adjust the y-limits to make highlight differences\n",
    "\n",
    "# add title, labels, etc."
   ]
  },
  {
   "cell_type": "markdown",
   "metadata": {},
   "source": [
    "We will revisit this activity next week and assess to what extent these differences are statistically meaningful"
   ]
  },
  {
   "cell_type": "code",
   "execution_count": null,
   "metadata": {},
   "outputs": [],
   "source": []
  }
 ],
 "metadata": {
  "kernelspec": {
   "display_name": "Python 3",
   "language": "python",
   "name": "python3"
  },
  "language_info": {
   "codemirror_mode": {
    "name": "ipython",
    "version": 3
   },
   "file_extension": ".py",
   "mimetype": "text/x-python",
   "name": "python",
   "nbconvert_exporter": "python",
   "pygments_lexer": "ipython3",
   "version": "3.6.8"
  }
 },
 "nbformat": 4,
 "nbformat_minor": 1
}
