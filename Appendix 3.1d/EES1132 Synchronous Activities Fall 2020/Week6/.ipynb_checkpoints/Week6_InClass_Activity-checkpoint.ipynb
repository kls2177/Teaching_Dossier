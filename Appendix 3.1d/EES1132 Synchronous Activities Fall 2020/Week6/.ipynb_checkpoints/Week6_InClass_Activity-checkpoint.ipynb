{
 "cells": [
  {
   "cell_type": "markdown",
   "metadata": {},
   "source": [
    "# Week 6 In-Class Activity\n",
    "\n",
    "This week, we will start to examine time scales of variability in time series data. To help us to start thinking about this, we will take a look at the downtown Toronto daily temperature time series.\n",
    "\n",
    "Let's load the data."
   ]
  },
  {
   "cell_type": "code",
   "execution_count": 3,
   "metadata": {},
   "outputs": [],
   "source": [
    "# import packages\n",
    "import numpy as np\n",
    "from matplotlib import pyplot as plt\n",
    "import scipy.stats as st\n",
    "import matplotlib as mpl\n",
    "mpl.rc('font',size=16) #set default font size and weight for plots"
   ]
  },
  {
   "cell_type": "code",
   "execution_count": 4,
   "metadata": {},
   "outputs": [],
   "source": [
    "# load downtown Toronto Station data (in deg C)\n",
    "filename = \"tor.csv\"\n",
    "T = np.genfromtxt(filename, dtype='float',delimiter = ',')[1:,3] # Just extract daily mean temperature"
   ]
  },
  {
   "cell_type": "code",
   "execution_count": 1,
   "metadata": {},
   "outputs": [],
   "source": [
    "# check shape of T\n"
   ]
  },
  {
   "cell_type": "markdown",
   "metadata": {},
   "source": [
    "Go ahead and plot the time series and add the best-fit line. The data start from Jan. 1st 1981 to Dec. 31st 2008."
   ]
  },
  {
   "cell_type": "code",
   "execution_count": 5,
   "metadata": {},
   "outputs": [],
   "source": [
    "# plot the time series\n",
    "# Create time index for plotting and for regression\n",
    "time = np.arange(0,len(T))\n",
    "\n"
   ]
  },
  {
   "cell_type": "markdown",
   "metadata": {},
   "source": [
    "**Reflection Question:**\\\n",
    "What time scales of variability do you see in this time series? Based on what we have learned so far, what can you determine about the autocorrelation of this time series just by looking at it?\n",
    "\n",
    "Let's take a look at the autocorrelation function to see whether we are correct.\n",
    "\n",
    "We first calculate the autocorrelation function."
   ]
  },
  {
   "cell_type": "code",
   "execution_count": 42,
   "metadata": {},
   "outputs": [],
   "source": [
    "# np.correlate actually gives the covariance. We need to find the covariance of the deviations from the mean and then\n",
    "#  divide the the tau=0 covariance, i.e., the variance to get the correlation\n",
    "\n",
    "Tcorr = "
   ]
  },
  {
   "cell_type": "markdown",
   "metadata": {},
   "source": [
    "And then plot it as a function of lag. Just show the positive lags."
   ]
  },
  {
   "cell_type": "code",
   "execution_count": 6,
   "metadata": {},
   "outputs": [
    {
     "data": {
      "text/plain": [
       "<Figure size 864x360 with 0 Axes>"
      ]
     },
     "metadata": {},
     "output_type": "display_data"
    }
   ],
   "source": [
    "#plot the autocorrelation function\n",
    "fig = plt.figure(figsize=(12,5))\n",
    "\n",
    "# x-value for plotting\n",
    "x = np.arange(0,len(T),1)\n",
    "series = [i-int(len(T)/2.0) for i in x]\n",
    "\n"
   ]
  },
  {
   "cell_type": "markdown",
   "metadata": {},
   "source": [
    "What is going on at lag=0? Is it equal to 1? It's hard to tell. Let's just double check - it's always good to double, triple, quadruple check that you are getting what you expect to get. You may need to adjust your `plt.ylim()` limits to zoom in on lag=0.\n",
    "\n",
    "Ok, now let's see what happens to the autocorrelation function if we *detrend* our time series. \n",
    "\n",
    "First, plot the detrended time series."
   ]
  },
  {
   "cell_type": "code",
   "execution_count": 7,
   "metadata": {},
   "outputs": [
    {
     "data": {
      "text/plain": [
       "<Figure size 1008x432 with 0 Axes>"
      ]
     },
     "execution_count": 7,
     "metadata": {},
     "output_type": "execute_result"
    },
    {
     "data": {
      "text/plain": [
       "<Figure size 1008x432 with 0 Axes>"
      ]
     },
     "metadata": {},
     "output_type": "display_data"
    }
   ],
   "source": [
    "# plot the detrended time series\n",
    "plt.figure(figsize=(14,6))\n",
    "\n"
   ]
  },
  {
   "cell_type": "markdown",
   "metadata": {},
   "source": [
    "**Reflection Question:**\\\n",
    "What time scales of variability remain after detrending? How do you think the autocorrelation function has or hasn't changed?\n",
    "\n",
    "Let's plot the autocorrelation function of the detrended time series."
   ]
  },
  {
   "cell_type": "code",
   "execution_count": 44,
   "metadata": {},
   "outputs": [],
   "source": [
    "# np.correlate actually gives the covariance. We need to find the covariance of the deviations from the mean and then\n",
    "#  divide the the tau=0 covariance, i.e., the variance to get the correlation\n",
    "\n",
    "Tcorr_dtr = "
   ]
  },
  {
   "cell_type": "markdown",
   "metadata": {},
   "source": [
    "Plot both the original ACF and the one for the detrended time series."
   ]
  },
  {
   "cell_type": "code",
   "execution_count": 8,
   "metadata": {},
   "outputs": [
    {
     "data": {
      "text/plain": [
       "<Figure size 864x360 with 0 Axes>"
      ]
     },
     "metadata": {},
     "output_type": "display_data"
    }
   ],
   "source": [
    "#plot the autocorrelation function\n",
    "fig = plt.figure(figsize=(12,5))\n",
    "\n",
    "# x-value for plotting\n",
    "x = np.arange(0,len(T),1)\n",
    "series = [i-int(len(T)/2.0) for i in x]\n",
    "\n"
   ]
  },
  {
   "cell_type": "markdown",
   "metadata": {},
   "source": [
    "Do you see a difference in the autocorrelation function? Why or why not? What does this tell you about the dominant time scales of variability in this data set?\n",
    "\n",
    "**Reflection Question:**\n",
    "If we wanted to isolate the variability associated with the long-term trend, how might we go about this?"
   ]
  },
  {
   "cell_type": "code",
   "execution_count": null,
   "metadata": {},
   "outputs": [],
   "source": []
  }
 ],
 "metadata": {
  "kernelspec": {
   "display_name": "Python 3",
   "language": "python",
   "name": "python3"
  },
  "language_info": {
   "codemirror_mode": {
    "name": "ipython",
    "version": 3
   },
   "file_extension": ".py",
   "mimetype": "text/x-python",
   "name": "python",
   "nbconvert_exporter": "python",
   "pygments_lexer": "ipython3",
   "version": "3.8.3"
  }
 },
 "nbformat": 4,
 "nbformat_minor": 4
}
