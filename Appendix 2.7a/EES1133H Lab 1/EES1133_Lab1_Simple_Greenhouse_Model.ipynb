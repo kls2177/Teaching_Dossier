{
 "cells": [
  {
   "cell_type": "markdown",
   "metadata": {
    "slideshow": {
     "slide_type": "slide"
    }
   },
   "source": [
    "# EES1133 Lab 1: Simple Greenhouse Model\n",
    "\n",
    "Adapted from notes by:\n",
    "[Brian E. J. Rose](http://www.atmos.albany.edu/facstaff/brose/index.html), University at Albany\n",
    "\n",
    "In this Lab, we will mainly be using python as a calculator. I have left a few things blank for you to fill in. So, follow along and fill in the variables as you go. When you are done, complete the lab quiz on Quercus."
   ]
  },
  {
   "cell_type": "markdown",
   "metadata": {
    "slideshow": {
     "slide_type": "slide"
    }
   },
   "source": [
    "## The observed global energy budget\n",
    "\n",
    "Let's take a look at the observational global energy budget (we will explore this figure more next lecture):"
   ]
  },
  {
   "cell_type": "markdown",
   "metadata": {
    "slideshow": {
     "slide_type": "slide"
    }
   },
   "source": [
    "![Observed global energy flows from Trenberth and Fasullo (2012)](https://github.com/kls2177/ccia_files/blob/master/GlobalEnergyBudget.png?raw=true)"
   ]
  },
  {
   "cell_type": "markdown",
   "metadata": {
    "slideshow": {
     "slide_type": "slide"
    }
   },
   "source": [
    "### Recap of our simple greenhouse model\n",
    "\n",
    "In class we introduced a very simple model for the **OLR** or Outgoing Longwave Radiation to space:\n",
    "\n",
    "$$ \\text{OLR} = \\epsilon \\sigma T_s^4 $$\n",
    "\n",
    "where $\\epsilon$ is the **emissivity** of the atmosphere, a number less than 1 that represents the greenhouse effect of Earth's atmosphere."
   ]
  },
  {
   "cell_type": "markdown",
   "metadata": {
    "slideshow": {
     "slide_type": "slide"
    }
   },
   "source": [
    "We also tuned this model to the observations by choosing $ \\epsilon \\approx 0.61$.\n",
    "\n",
    "More precisely:"
   ]
  },
  {
   "cell_type": "code",
   "execution_count": 1,
   "metadata": {},
   "outputs": [],
   "source": [
    "# define variables\n",
    "OLR_observed = 238.5  # in W/m2 (see figure above)\n",
    "sigma = 5.67E-8  # Stefan-Boltzman constant\n",
    "Ts_observed = 288.  # global average surface temperature"
   ]
  },
  {
   "cell_type": "code",
   "execution_count": 2,
   "metadata": {},
   "outputs": [
    {
     "name": "stdout",
     "output_type": "stream",
     "text": [
      "0.6114139923687016\n"
     ]
    }
   ],
   "source": [
    "# solve for tuned value of emissivity\n",
    "epsilon = OLR_observed / sigma / Ts_observed**4  \n",
    "print(epsilon)"
   ]
  },
  {
   "cell_type": "markdown",
   "metadata": {
    "slideshow": {
     "slide_type": "fragment"
    }
   },
   "source": [
    "Let's now deal with the shortwave (solar) side of the energy budget."
   ]
  },
  {
   "cell_type": "markdown",
   "metadata": {
    "slideshow": {
     "slide_type": "slide"
    }
   },
   "source": [
    "### Absorbed Shortwave Radiation (ASR) and Planetary Albedo\n",
    "\n",
    "Let's define a few terms."
   ]
  },
  {
   "cell_type": "markdown",
   "metadata": {},
   "source": [
    "#### Global mean insolation\n",
    "\n",
    "From the observations (see figure above), the area-averaged incoming solar radiation or **insolation** is 341.3 W m$^{-2}$ (i.e., $So$/4 or 1365/4 W m$^{-2}$).\n",
    "\n",
    "Let's denote this quantity by $Q$. Fill in the cell below."
   ]
  },
  {
   "cell_type": "code",
   "execution_count": 6,
   "metadata": {},
   "outputs": [],
   "source": [
    "Q =   # the insolation, i.e. So/4"
   ]
  },
  {
   "cell_type": "markdown",
   "metadata": {
    "slideshow": {
     "slide_type": "slide"
    }
   },
   "source": [
    "#### Planetary albedo\n",
    "\n",
    "Some of the incoming radiation is not absorbed at all but simply reflected back to space. Let's call this quantity $F_{reflected}$\n",
    "\n",
    "From observations we can fill in the cell below (see figure above):"
   ]
  },
  {
   "cell_type": "code",
   "execution_count": 5,
   "metadata": {},
   "outputs": [],
   "source": [
    "F_reflected = #  reflected shortwave flux in W/m2"
   ]
  },
  {
   "cell_type": "markdown",
   "metadata": {
    "slideshow": {
     "slide_type": "slide"
    }
   },
   "source": [
    "\n",
    "The **planetary albedo** is the fraction of $Q$ that is reflected.\n",
    "\n",
    "We will denote the planetary albedo by $\\alpha$.\n",
    "\n",
    "From the observations we can fill in the cell below:"
   ]
  },
  {
   "cell_type": "code",
   "execution_count": 16,
   "metadata": {},
   "outputs": [],
   "source": [
    "alpha = \n",
    "print(alpha)"
   ]
  },
  {
   "cell_type": "markdown",
   "metadata": {
    "slideshow": {
     "slide_type": "fragment"
    }
   },
   "source": [
    "That is, about 30% of the incoming radiation is reflected back to space."
   ]
  },
  {
   "cell_type": "markdown",
   "metadata": {
    "slideshow": {
     "slide_type": "slide"
    }
   },
   "source": [
    "#### Absorbed Shortwave Radiation\n",
    "\n",
    "The **Absorbed Shortwave Radiation** or ASR is the part of the incoming sunlight that is *not* reflected back to space, i.e. that part that is absorbed somewhere within the Earth system (at the surface or in the atmosphere).\n",
    "\n",
    "Mathematically, we write\n",
    "\n",
    "$$ \\text{ASR} = Q - F_{reflected} = (1-\\alpha) Q $$"
   ]
  },
  {
   "cell_type": "markdown",
   "metadata": {
    "slideshow": {
     "slide_type": "fragment"
    }
   },
   "source": [
    "From the observations we can fill in the cell below:"
   ]
  },
  {
   "cell_type": "code",
   "execution_count": 17,
   "metadata": {},
   "outputs": [],
   "source": [
    "# compute ASR\n",
    "ASR_observed = \n",
    "print(ASR_observed)"
   ]
  },
  {
   "cell_type": "markdown",
   "metadata": {
    "slideshow": {
     "slide_type": "fragment"
    }
   },
   "source": [
    "This number is *just slightly greater* than the observed OLR of 238.5 W m$^{-2}$."
   ]
  },
  {
   "cell_type": "markdown",
   "metadata": {
    "slideshow": {
     "slide_type": "slide"
    }
   },
   "source": [
    "____________\n",
    "<a id='section3'></a>\n",
    "## I. Equilibrium temperature\n",
    "____________"
   ]
  },
  {
   "cell_type": "markdown",
   "metadata": {},
   "source": [
    "*This is one of the central concepts in climate modeling.*\n",
    "\n",
    "The Earth system is in **energy balance** when energy in = energy out, i.e. when\n",
    "\n",
    "$$ \\text{ASR} = \\text{OLR} $$"
   ]
  },
  {
   "cell_type": "markdown",
   "metadata": {
    "slideshow": {
     "slide_type": "fragment"
    }
   },
   "source": [
    "We want to know:\n",
    "\n",
    "- What surface temperature do we need to have this balance?\n",
    "- By how much would the temperature change in response to other changes in Earth system?\n",
    "    - Changes in greenhouse gases\n",
    "    - Changes in cloudiness\n",
    "    - etc.\n",
    "\n",
    "\n"
   ]
  },
  {
   "cell_type": "markdown",
   "metadata": {
    "slideshow": {
     "slide_type": "slide"
    }
   },
   "source": [
    "With our simple **greenhouse model**, we can get an **exact solution** for the equilibrium temperature.\n",
    "\n",
    "First, write down our statement of energy balance:\n",
    "\n",
    "$$ (1-\\alpha) Q = \\epsilon \\sigma T_s^4 $$"
   ]
  },
  {
   "cell_type": "markdown",
   "metadata": {
    "slideshow": {
     "slide_type": "fragment"
    }
   },
   "source": [
    "Rearrange to solve for $T_s$:\n",
    "\n",
    "$$ T_s^4 = \\frac{(1-\\alpha) Q}{\\epsilon \\sigma} $$\n",
    "\n",
    "and take the fourth root, denoting our **equilibrium temperature** as $T_{eq}$:\n",
    "\n",
    "$$ T_{eq} = \\left( \\frac{(1-\\alpha) Q}{\\epsilon \\sigma} \\right)^\\frac{1}{4} $$"
   ]
  },
  {
   "cell_type": "markdown",
   "metadata": {},
   "source": [
    "Let's define a resuable function to compute $T_{eq}$:"
   ]
  },
  {
   "cell_type": "code",
   "execution_count": 18,
   "metadata": {},
   "outputs": [],
   "source": [
    "# define a reusable function based on the above equation!\n",
    "def equilibrium_temperature(alpha,Q,epsilon): \n",
    "    return ((1-alpha)*Q/(epsilon*sigma))**(1/4)"
   ]
  },
  {
   "cell_type": "markdown",
   "metadata": {
    "slideshow": {
     "slide_type": "slide"
    }
   },
   "source": [
    "Complete the cell below by plugging the observed values for alpha, Q and epsilon:"
   ]
  },
  {
   "cell_type": "code",
   "execution_count": 3,
   "metadata": {},
   "outputs": [],
   "source": [
    "# use your function to compute Teq\n",
    "\n",
    "Teq_observed = equilibrium_temperature()\n",
    "print(Teq_observed)"
   ]
  },
  {
   "cell_type": "markdown",
   "metadata": {
    "slideshow": {
     "slide_type": "fragment"
    }
   },
   "source": [
    "### Reflection Question:\n",
    "This equilibrium temperature is *just slightly warmer* than 288 K.  Why?"
   ]
  },
  {
   "cell_type": "markdown",
   "metadata": {
    "slideshow": {
     "slide_type": "slide"
    }
   },
   "source": [
    "### A climate change scenario\n",
    "\n",
    "Suppose that, due to global warming (changes in atmospheric composition and subsequent changes in cloudiness):\n",
    "\n",
    "- The longwave emissivity decreases to $\\epsilon = 0.57$ \n",
    "- The planetary albedo increases to $\\alpha = 0.32$\n",
    "\n",
    "What is the new equilibrium temperature?"
   ]
  },
  {
   "cell_type": "markdown",
   "metadata": {
    "slideshow": {
     "slide_type": "fragment"
    }
   },
   "source": [
    "For this very simple model, we can work out the answer exactly:"
   ]
  },
  {
   "cell_type": "code",
   "execution_count": 16,
   "metadata": {},
   "outputs": [
    {
     "name": "stdout",
     "output_type": "stream",
     "text": [
      "The new equilibrium temperature is 291.04 K.\n",
      "The equilibrium temperature increased by about 2.9 K.\n"
     ]
    }
   ],
   "source": [
    "Teq_new = equilibrium_temperature(0.32,Q,0.57)\n",
    "\n",
    "#  an example of formatted print output, limiting to two or one decimal places\n",
    "print('The new equilibrium temperature is {:.2f} K.'.format(Teq_new))\n",
    "print('The equilibrium temperature increased by about {:.1f} K.'.format(Teq_new-Teq_observed))"
   ]
  },
  {
   "cell_type": "markdown",
   "metadata": {
    "slideshow": {
     "slide_type": "slide"
    }
   },
   "source": [
    "Most climate models are more complicated mathematically, and solving directly for the equilibrium temperature will not be possible! \n",
    "\n",
    "Instead, we will be able to use the model to calculate the terms in the energy budget (ASR and OLR)."
   ]
  },
  {
   "cell_type": "markdown",
   "metadata": {
    "slideshow": {
     "slide_type": "slide"
    }
   },
   "source": [
    "### Python exercise (optional)\n",
    "\n",
    "- Write Python functions to calculate ASR and OLR for *arbitrary parameter values*.\n",
    "- Verify the following:\n",
    "    - With the new parameter values but the old temperature T = 288 K, is ASR greater or lesser than OLR? \n",
    "    - Is the Earth gaining or losing energy?\n",
    "    - How does your answer change if T = 295 K (or any other temperature greater than 291 K)?"
   ]
  },
  {
   "cell_type": "code",
   "execution_count": null,
   "metadata": {},
   "outputs": [],
   "source": [
    "# define a reusable function for ASR and OLR, separately! The input for the ASR function\n",
    "# should be alpha and the inputs for the OLR function should be epsilon and Ts\n",
    "\n",
    "def ASR(alpha):\n",
    "    #fill this in\n",
    "    return ASR"
   ]
  },
  {
   "cell_type": "code",
   "execution_count": null,
   "metadata": {},
   "outputs": [],
   "source": [
    "def OLR(epsilon,Ts):\n",
    "    #fill this in\n",
    "    return OLR"
   ]
  },
  {
   "cell_type": "code",
   "execution_count": 19,
   "metadata": {},
   "outputs": [],
   "source": [
    "print(ASR(0.32),OLR(0.57,295))"
   ]
  },
  {
   "cell_type": "markdown",
   "metadata": {
    "slideshow": {
     "slide_type": "slide"
    }
   },
   "source": [
    "____________\n",
    "<a id='section3'></a>\n",
    "## II. A time-dependent Energy Balance Model\n",
    "____________"
   ]
  },
  {
   "cell_type": "markdown",
   "metadata": {},
   "source": [
    "The above exercise shows us that if some properties of the climate system change in such a way that the **equilibrium temperature goes up**, then the Earth system *receives more energy from the sun than it is losing to space*. The system is **no longer in energy balance**.\n",
    "\n",
    "The temperature must then increase to get back into balance. The increase will not happen all at once! It will take time for energy to accumulate in the climate system. We want to model this **time-dependent adjustment** of the system.\n",
    "\n",
    "In fact almost all climate models are **time-dependent**, meaning the model calculates **time derivatives** (rates of change) of climate variables."
   ]
  },
  {
   "cell_type": "markdown",
   "metadata": {
    "slideshow": {
     "slide_type": "slide"
    }
   },
   "source": [
    "### An energy balance equation\n",
    "\n",
    "We will write the **total energy budget** of the Earth system as\n",
    "\n",
    "$$ \\frac{dE}{dt} = \\text{ASR} - \\text{OLR} $$"
   ]
  },
  {
   "cell_type": "markdown",
   "metadata": {},
   "source": [
    "**This equation is the starting point for EVERY CLIMATE MODEL.**\n",
    "\n",
    "But so far, we don’t actually have a MODEL. We just have a statement of a budget. To use this budget to make a model, we need to relate terms in the budget to state variables of the atmosphere-ocean system.\n",
    "\n",
    "For now, the state variable we are most interested in is **temperature** – because it is directly connected to the physics of each term above."
   ]
  },
  {
   "cell_type": "markdown",
   "metadata": {},
   "source": [
    "Suppose that we can write $E$ as:\n",
    "\n",
    "$$ E = C T_s $$"
   ]
  },
  {
   "cell_type": "markdown",
   "metadata": {},
   "source": [
    "Our budget then becomes:"
   ]
  },
  {
   "cell_type": "markdown",
   "metadata": {
    "slideshow": {
     "slide_type": "slide"
    }
   },
   "source": [
    "$$ C \\frac{dT_s}{dt} = \\text{ASR} - \\text{OLR} $$"
   ]
  },
  {
   "cell_type": "markdown",
   "metadata": {},
   "source": [
    "where\n",
    "\n",
    "- $C$ is the **heat capacity** of Earth system, in units of J m$^{-2}$ K$^{-1}$.\n",
    "- $\\frac{dT_s}{dt}$ is the rate of change of global average surface temperature."
   ]
  },
  {
   "cell_type": "markdown",
   "metadata": {
    "slideshow": {
     "slide_type": "slide"
    }
   },
   "source": [
    "By adopting this equation, we are assuming that the energy content of the Earth system (atmosphere, ocean, ice, etc.) is *proportional to surface temperature*.\n",
    "\n",
    "Important things to think about:\n",
    "\n",
    "- Why is this a sensible assumption?\n",
    "- What determines the heat capacity $C$?\n",
    "- What are some limitations of this assumption?\n"
   ]
  },
  {
   "cell_type": "markdown",
   "metadata": {
    "slideshow": {
     "slide_type": "slide"
    }
   },
   "source": [
    "For our purposes here we are going to use a value of $C$ equivalent to heating 100 meters of water:"
   ]
  },
  {
   "cell_type": "code",
   "execution_count": 20,
   "metadata": {},
   "outputs": [
    {
     "name": "stdout",
     "output_type": "stream",
     "text": [
      "The effective heat capacity is 4.0e+08 J/m2/K\n"
     ]
    }
   ],
   "source": [
    "c_w = 4E3             #  Specific heat of water in J/kg/K\n",
    "rho_w = 1E3           #  Density of water in kg/m3\n",
    "H = 100.              #  Depth of water in m\n",
    "C = c_w * rho_w * H   #  Heat capacity of the model \n",
    "print('The effective heat capacity is {:.1e} J/m2/K'.format(C))"
   ]
  },
  {
   "cell_type": "markdown",
   "metadata": {
    "slideshow": {
     "slide_type": "slide"
    }
   },
   "source": [
    "## Representing time derivatives on a computer"
   ]
  },
  {
   "cell_type": "markdown",
   "metadata": {},
   "source": [
    "Recall that the derivative is the **instantaneous rate of change**. It is defined as \n",
    "\n",
    "$$ \\frac{dT}{dt} = \\lim_{\\Delta t\\rightarrow 0}⁡ \\frac{\\Delta T}{\\Delta t}$$\n",
    "\n",
    "- **On the computer there is no such thing as an instantaneous change.** \n",
    "- We are always dealing with *discrete quantities*.\n",
    "- So we approximate the derivative with $\\Delta T/ \\Delta t$. \n",
    "- So long as we take the time interval $\\Delta t$ \"small enough\", the approximation is valid and useful.\n",
    "- (The meaning of \"small enough\" varies widely in practice. Let's not talk about it now)"
   ]
  },
  {
   "cell_type": "markdown",
   "metadata": {
    "slideshow": {
     "slide_type": "slide"
    }
   },
   "source": [
    "So we write our model as:\n",
    "\n",
    "$$ C  \\frac{\\Delta T}{\\Delta t} \\approx \\text{ASR} - \\text{OLR}$$\n",
    "\n",
    "where $\\Delta T$ is the **change in temperature predicted by our model** over a short time interval $\\Delta t$."
   ]
  },
  {
   "cell_type": "markdown",
   "metadata": {},
   "source": [
    "We can now use this to **make a prediction**: \n",
    "\n",
    "Given a current temperature $T_1$ at time $t_1$, what is the temperature $T_2$ at a future time $t_2$?"
   ]
  },
  {
   "cell_type": "markdown",
   "metadata": {
    "slideshow": {
     "slide_type": "slide"
    }
   },
   "source": [
    "We can write\n",
    "\n",
    "$$ \\Delta T = T_2-T_1 $$\n",
    "$$ \\Delta t = t_2-t_1 $$\n",
    "\n",
    "and so our model says\n",
    "\n",
    "$$ C  \\frac{T_2-T_1}{\\Delta t} = \\text{ASR} - \\text{OLR} $$\n",
    "\n",
    "Which we can rearrange to **solve for the future temperature**:\n",
    "\n",
    "$$ T_2 = T_1 + \\frac{\\Delta t}{C} \\left( \\text{ASR} - \\text{OLR}(T_1) \\right)  $$\n",
    "\n",
    "We now have a formula with which to make our prediction!\n",
    "\n",
    "Notice that we have written the OLR as a *function of temperature*. We will use the current temperature $T_1$ to compute the OLR, and use that OLR to determine the future temperature."
   ]
  },
  {
   "cell_type": "markdown",
   "metadata": {
    "slideshow": {
     "slide_type": "slide"
    }
   },
   "source": [
    "## Numerical solution of the Energy Balance Model"
   ]
  },
  {
   "cell_type": "markdown",
   "metadata": {},
   "source": [
    "The quantity $\\Delta t$ is called a **timestep**. It is the smallest time interval represented in our model.\n",
    "\n",
    "Here we're going to use a timestep of 1 year. What units should $\\Delta t$ be in?"
   ]
  },
  {
   "cell_type": "code",
   "execution_count": 21,
   "metadata": {},
   "outputs": [],
   "source": [
    "# Fill in and run this cell\n",
    "dt =    # one year expressed in seconds"
   ]
  },
  {
   "cell_type": "code",
   "execution_count": 2,
   "metadata": {
    "slideshow": {
     "slide_type": "slide"
    }
   },
   "outputs": [],
   "source": [
    "# Let's try a single timestep, assuming we have working functions for ASR and OLR. Use alpha = 0.32 and epsilon = 0.57.\n",
    "T1 = 288\n",
    "T2 = T1 + dt / C * ( ASR(0.32) - OLR(0.57,T1) )\n",
    "print(T2)"
   ]
  },
  {
   "cell_type": "markdown",
   "metadata": {},
   "source": [
    "What happened? Why?"
   ]
  },
  {
   "cell_type": "markdown",
   "metadata": {
    "slideshow": {
     "slide_type": "slide"
    }
   },
   "source": [
    "Try another timestep"
   ]
  },
  {
   "cell_type": "code",
   "execution_count": 20,
   "metadata": {},
   "outputs": [],
   "source": [
    "T1 = \n",
    "T2 = \n",
    "print(T2)"
   ]
  },
  {
   "cell_type": "markdown",
   "metadata": {},
   "source": [
    "Warmed up again, but by a smaller amount."
   ]
  },
  {
   "cell_type": "markdown",
   "metadata": {
    "slideshow": {
     "slide_type": "slide"
    }
   },
   "source": [
    "But this is tedious typing. Time to **define a function** with temperature as the input to make things easier and more reliable:"
   ]
  },
  {
   "cell_type": "code",
   "execution_count": 12,
   "metadata": {},
   "outputs": [],
   "source": [
    "def step_forward(T):"
   ]
  },
  {
   "cell_type": "markdown",
   "metadata": {
    "slideshow": {
     "slide_type": "slide"
    }
   },
   "source": [
    "Try it out with an arbitrary temperature:"
   ]
  },
  {
   "cell_type": "code",
   "execution_count": 13,
   "metadata": {},
   "outputs": [],
   "source": [
    "step_forward()"
   ]
  },
  {
   "cell_type": "markdown",
   "metadata": {},
   "source": [
    "Notice that our function calls other functions and variables we have already defined."
   ]
  },
  {
   "cell_type": "markdown",
   "metadata": {
    "slideshow": {
     "slide_type": "slide"
    }
   },
   "source": [
    "#### Python fact: Functions can access variables and other functions defined outside of the function. \n",
    "\n",
    "This is both very useful and occasionally confusing."
   ]
  },
  {
   "cell_type": "markdown",
   "metadata": {
    "slideshow": {
     "slide_type": "slide"
    }
   },
   "source": [
    "Now let's really harness the power of the computer by **making a loop** (and storing values in arrays):"
   ]
  },
  {
   "cell_type": "code",
   "execution_count": 1,
   "metadata": {},
   "outputs": [],
   "source": [
    "import numpy as np\n",
    "\n",
    "numsteps = 100\n",
    "Tsteps = np.zeros(numsteps+1) # initialize array\n",
    "Years = np.zeros(numsteps+1)  # initialize arrya\n",
    "Tsteps[0] = 288. # initialize temperature\n",
    "\n",
    "# loop over number of years (default starts at zero; ends at numsteps (100))\n",
    "for n in range(numsteps): \n",
    "    Years[n+1] = n+1 # populate the Years array - add one each time to count the number of years\n",
    "    Tsteps[n+1] = step_forward( Tsteps[n] ) # populate the Tsteps array - use our step_forward function each time\n",
    "print(np.round(Tsteps,3)) # print temperature and round to nearest thousandth"
   ]
  },
  {
   "cell_type": "markdown",
   "metadata": {},
   "source": [
    "What did we just do?\n",
    "\n",
    "- Created an array of zeros\n",
    "- set the initial temperature to 288 K\n",
    "- repeated our time step 100 times. \n",
    "- Stored the results of each time step into the array."
   ]
  },
  {
   "cell_type": "markdown",
   "metadata": {
    "slideshow": {
     "slide_type": "slide"
    }
   },
   "source": [
    "#### Python fact: the `for` statement executes a statement (or series of statements) a specified number of times (a loop!)"
   ]
  },
  {
   "cell_type": "markdown",
   "metadata": {
    "slideshow": {
     "slide_type": "slide"
    }
   },
   "source": [
    "#### Python fact: Use square bracket [ ] to refer to elements of an array or list. Use round parentheses ( ) for function arguments. "
   ]
  },
  {
   "cell_type": "markdown",
   "metadata": {
    "slideshow": {
     "slide_type": "slide"
    }
   },
   "source": [
    "### Plotting the result\n",
    "\n",
    "Now let's draw a picture of our result!"
   ]
  },
  {
   "cell_type": "code",
   "execution_count": 16,
   "metadata": {},
   "outputs": [],
   "source": [
    "#  import the plotting package\n",
    "import matplotlib.pyplot as plt"
   ]
  },
  {
   "cell_type": "markdown",
   "metadata": {},
   "source": [
    "Run the cell below to make a plot. We are using the `plt.plot()` function that plots a line plot."
   ]
  },
  {
   "cell_type": "code",
   "execution_count": 17,
   "metadata": {},
   "outputs": [],
   "source": [
    "plt.plot(Years, Tsteps )\n",
    "plt.xlabel('Years')\n",
    "plt.ylabel('Global mean temperature (K)');"
   ]
  },
  {
   "cell_type": "markdown",
   "metadata": {
    "slideshow": {
     "slide_type": "slide"
    }
   },
   "source": [
    "Note how the temperature *adjusts smoothly toward the equilibrium temperature*, that is, the temperature at which\n",
    "ASR = OLR.\n",
    "\n",
    "**If the planetary energy budget is out of balance, the temperature must change so that the OLR gets closer to the ASR!**\n",
    "\n",
    "The adjustment is actually an *exponential decay* process: The rate of adjustment slows as the temperature approaches equilibrium. \n",
    "\n",
    "The temperature gets very very close to equilibrium but never reaches it exactly."
   ]
  },
  {
   "cell_type": "markdown",
   "metadata": {
    "slideshow": {
     "slide_type": "slide"
    }
   },
   "source": [
    "#### Python fact: We can easily make simple graphs with the function plot(x,y), where x and y are arrays of the same size. But we must import it first. \n",
    "\n",
    "This is actually not native Python, but uses a special graphics library called `matplotlib`. \n",
    "\n",
    "Just about all of our notebooks will start with this:\n",
    "```\n",
    "import numpy as np\n",
    "import matplotlib.pyplot as plt\n",
    "```"
   ]
  },
  {
   "cell_type": "markdown",
   "metadata": {
    "slideshow": {
     "slide_type": "slide"
    }
   },
   "source": [
    "____________\n",
    "<a id='section3'></a>\n",
    "## Summary\n",
    "____________\n",
    "\n",
    "- We looked at the flows of energy in and out of the Earth system. \n",
    "- These are determined by radiation at the top of the Earth's atmosphere.\n",
    "- Any imbalance between shortwave absorption (ASR) and longwave emission (OLR) drives a change in temperature\n",
    "- We built a climate model!\n",
    "- This **Zero-Dimensional Energy Balance Model** solves for the global, annual mean surface temperature $T_s$\n",
    "- Two key assumptions:\n",
    "    - Energy content of the Earth system varies proportionally to $T_s$\n",
    "    - The OLR increases as $\\epsilon \\sigma T_s^4$ (our simple greenhouse model)\n",
    "- The model has an **equilibrium temperature** $T_{eq}$ at which ASR = OLR\n",
    "- If $T_s < T_{eq}$, the model will warm up.\n",
    "- We can represent the **continous warming process** on the computer using **discrete timesteps**.\n",
    "- We can plot the result."
   ]
  },
  {
   "cell_type": "markdown",
   "metadata": {
    "slideshow": {
     "slide_type": "skip"
    }
   },
   "source": [
    "____________\n",
    "<a id='section3'></a>\n",
    "## Questions\n",
    "____________\n",
    "\n",
    "1. a. How long does it take our simple model to reach equilibrium ($\\epsilon$=0.57, $\\alpha$=0.32 and the initial temperature is 288K). Hint: add the variable \"Years\" to your print statment in your loop above? Assume that equilibrium is reached when the temperature stabilizes to the nearest thousandth.\n",
    "<p/>\n",
    "    b. What is the final equilibrium temperature?\n",
    "<p/>\n",
    "</p>\n",
    "\n",
    "2. a. What happens if you change the initial temperature from 288K to 300K?\n",
    "<p/>\n",
    "    b. How long does it take to reach equilibrium now? Assume that equilibrium is reached when the temperature stabilizes to the nearest thousandth. What is the final equilibrium temperature?\n",
    "<p/>\n",
    "</p>\n",
    "\n",
    "3. a. Starting from an initial temperature of 288K, what happens if you change the specific heat capacity, change H from 100m to 50m. Why?\n",
    "<p/>\n",
    "    b. Now suppose H is 500m - what happens? Why?\n",
    "<p/>\n",
    "</p>\n",
    "    \n",
    "4. a. Again, starting from an initial temperature of 288K, what happens if you change the time step from 1 year to 10 years? Why?\n",
    "<p/>\n",
    "</p>"
   ]
  },
  {
   "cell_type": "code",
   "execution_count": null,
   "metadata": {},
   "outputs": [],
   "source": []
  },
  {
   "cell_type": "code",
   "execution_count": null,
   "metadata": {},
   "outputs": [],
   "source": []
  }
 ],
 "metadata": {
  "kernelspec": {
   "display_name": "Python 3",
   "language": "python",
   "name": "python3"
  },
  "language_info": {
   "codemirror_mode": {
    "name": "ipython",
    "version": 3
   },
   "file_extension": ".py",
   "mimetype": "text/x-python",
   "name": "python",
   "nbconvert_exporter": "python",
   "pygments_lexer": "ipython3",
   "version": "3.7.2"
  }
 },
 "nbformat": 4,
 "nbformat_minor": 2
}
