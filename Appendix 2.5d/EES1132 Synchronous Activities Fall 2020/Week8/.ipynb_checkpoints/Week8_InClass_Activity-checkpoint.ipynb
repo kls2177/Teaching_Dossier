{
 "cells": [
  {
   "cell_type": "markdown",
   "metadata": {},
   "source": [
    "# Week 8 In-Class Activity\n",
    "\n",
    "This week we will practice using the Fourier Transform to examine the time scales of variability in an 800,000 year long Antarctic ice core record from [Dome C](https://www.nature.com/articles/nature02599)!\n",
    "\n",
    "Different paleoclimate proxies have been derived from the Dome C ice core, but here will will focus on the temperature proxy, which is derived from the the [deuterium-to-hydrogen ratio in the H$_2$0 molecule of the ice](https://www.scientificamerican.com/article/how-are-past-temperatures/).\n",
    "\n",
    "## Part I: Plot the Time Series\n",
    "\n",
    "First, we will read in the data and plot the time series. Data have been downloaded from the publicly available NOAA archive (see below)."
   ]
  },
  {
   "cell_type": "code",
   "execution_count": 142,
   "metadata": {},
   "outputs": [],
   "source": [
    "#import packages\n",
    "import numpy as np   \n",
    "import matplotlib.pyplot as plt  \n",
    "import scipy.signal as sig \n",
    "import scipy.stats as st"
   ]
  },
  {
   "cell_type": "markdown",
   "metadata": {},
   "source": [
    "Read in the ice core data."
   ]
  },
  {
   "cell_type": "code",
   "execution_count": 143,
   "metadata": {},
   "outputs": [],
   "source": [
    "# Read in the ice core data\n",
    "# Data are from ftp://ftp.ncdc.noaa.gov/pub/data/paleo/icecore/antarctica/epica_domec/edc3deuttemp2007.txt\n",
    "filename = 'edc3deuttemp2007_nohead.txt'\n",
    "data_all = np.genfromtxt(filename)\n",
    "\n",
    "# Extract temperature anomaly and age\n",
    "Tanom = data_all[:,4]\n",
    "age = data_all[:,2] # in years"
   ]
  },
  {
   "cell_type": "markdown",
   "metadata": {},
   "source": [
    "Plot the time series of Antarctic temperature as a function of age."
   ]
  },
  {
   "cell_type": "code",
   "execution_count": 145,
   "metadata": {},
   "outputs": [
    {
     "data": {
      "text/plain": [
       "<Figure size 1080x360 with 0 Axes>"
      ]
     },
     "metadata": {},
     "output_type": "display_data"
    }
   ],
   "source": [
    "# Plot raw temperature anomaly data as a function of age\n",
    "fig = plt.figure(figsize=(15,5))\n",
    "#plt.plot()\n",
    "\n",
    "\n",
    "# add labels, etc."
   ]
  },
  {
   "cell_type": "markdown",
   "metadata": {},
   "source": [
    "**Reflection Question:**\\\n",
    "What time scales of variability can you detect just by looking at the raw time series?\n",
    "\n",
    "## Part II: Prepare Data for FFT\n",
    "\n",
    "Our aim in this exercise is the examine the time scales of variability in this data by using the Fast Fourier Transform (FFT); however, at the moment the data are not evenly spaced in time. The FFT requires that the data are sampled evenly in time.\n",
    "\n",
    "First, let's take a look at the spacing between consecutive ages. We can use the `np.diff` function to look at consecutive differences. Complete the cell below."
   ]
  },
  {
   "cell_type": "code",
   "execution_count": 147,
   "metadata": {},
   "outputs": [
    {
     "name": "stdout",
     "output_type": "stream",
     "text": [
      "[3.837379e+01 4.681203e+01 5.505624e+01 ... 7.995010e+05 8.005890e+05\n",
      " 8.016620e+05]\n"
     ]
    }
   ],
   "source": [
    "# PROBLEM FOR FFT ANALYSIS: Raw data are not evenly spaced in time.\n",
    "# Need to fix that as FFT requires data on evenly spaced grid\n",
    "\n",
    "# Calculate differences to show raw data are not evenly spaced\n",
    "print(age)\n",
    "#dt=np.diff()\n",
    "#print(dt)"
   ]
  },
  {
   "cell_type": "markdown",
   "metadata": {},
   "source": [
    "Spacing gets quite wide the further back in time the ice core record goes, which kind of makes intuitive sense if we consider the compaction of the ice at depth. \n",
    "\n",
    "We can adjust the data such that it is evenly spaced by defining an evenly-spaced time dimension. We will pick something that gives us a time stop of about 1000 years."
   ]
  },
  {
   "cell_type": "code",
   "execution_count": 149,
   "metadata": {},
   "outputs": [],
   "source": [
    "# Define a new, evenly-spaced time dimension\n",
    "time=np.linspace(min(age),max(age),800)\n",
    "\n",
    "# check the differences again\n",
    "#dt=np.diff(time)\n",
    "#print('regridded spacing in years',dt[1])"
   ]
  },
  {
   "cell_type": "markdown",
   "metadata": {},
   "source": [
    "Next, we can interpolate the raw data onto our new, evenly-spaced time dimension. We will use `np.interp`. Google it to figure out what inputs go into the function and complete the cell below."
   ]
  },
  {
   "cell_type": "code",
   "execution_count": 151,
   "metadata": {},
   "outputs": [],
   "source": [
    "# Interpolate raw data to an evenly-spaced grid\n",
    "#Tanom_grid=np.interp()"
   ]
  },
  {
   "cell_type": "markdown",
   "metadata": {},
   "source": [
    "Now, re-plot interpolated temperature data on evenly-space time axis."
   ]
  },
  {
   "cell_type": "code",
   "execution_count": 152,
   "metadata": {},
   "outputs": [
    {
     "data": {
      "text/plain": [
       "<Figure size 1080x360 with 0 Axes>"
      ]
     },
     "metadata": {},
     "output_type": "display_data"
    }
   ],
   "source": [
    "# Plot raw temperature anomaly data as a function of age\n",
    "fig = plt.figure(figsize=(15,5))\n",
    "#plt.plot()\n",
    "\n",
    "# add labels, etc."
   ]
  },
  {
   "cell_type": "markdown",
   "metadata": {},
   "source": [
    "## Part III: FFT\n",
    "\n",
    "First, let's calculate the discrete fourier transform using `np.fft.fft`."
   ]
  },
  {
   "cell_type": "code",
   "execution_count": 81,
   "metadata": {},
   "outputs": [],
   "source": [
    "# calculate anomaly such that we have zero power for the mean, i.e. when frequency is zero.\n",
    "T = Tanom_grid - np.mean(Tanom_grid)\n",
    "\n",
    "# calculate discrete fourier transform of T using np.fft.fft()\n",
    "Z = \n",
    "# to get the right variance, we need to normalize Z by N.\n",
    "Zfft = \n",
    "\n",
    "# compute power over half the FFT output\n",
    "Ck2 = "
   ]
  },
  {
   "cell_type": "markdown",
   "metadata": {},
   "source": [
    "Plot the discrete power spectrum as a function of frequency (linear scale)."
   ]
  },
  {
   "cell_type": "code",
   "execution_count": 153,
   "metadata": {},
   "outputs": [
    {
     "data": {
      "text/plain": [
       "<Figure size 1008x288 with 0 Axes>"
      ]
     },
     "execution_count": 153,
     "metadata": {},
     "output_type": "execute_result"
    },
    {
     "data": {
      "text/plain": [
       "<Figure size 1008x288 with 0 Axes>"
      ]
     },
     "metadata": {},
     "output_type": "display_data"
    }
   ],
   "source": [
    "# create frequency variable for plotting\n",
    "freq = \n",
    "\n",
    "# plot normalized power (linear scale)\n",
    "plt.figure(figsize=(14,4))\n",
    "#plt.plot()\n",
    "\n",
    "# add labels, etc."
   ]
  },
  {
   "cell_type": "markdown",
   "metadata": {},
   "source": [
    "Notice that most of the power is in the lower frequencies. This is a time when plotting using the logarithmic scale is appropriate. Try replotting using the logarithmic scale."
   ]
  },
  {
   "cell_type": "code",
   "execution_count": 2,
   "metadata": {},
   "outputs": [],
   "source": [
    "# plot normalized power (logarithmic scale)\n",
    "plt.figure(figsize=(14,4))\n",
    "#plt.plot()\n",
    "\n",
    "# add labels, etc."
   ]
  },
  {
   "cell_type": "markdown",
   "metadata": {},
   "source": [
    "## Part IV: Adding the Red Noise Spectra\n",
    "\n",
    "Now, let's add the red-noise power spectrum and it's 99\\% upper confidence limit. \n",
    "\n",
    "**Reflection Question:**\\\n",
    "What do we need to know in order to compute the red-noise spectrum?"
   ]
  },
  {
   "cell_type": "code",
   "execution_count": 155,
   "metadata": {},
   "outputs": [],
   "source": [
    "# complete this section to find the parameter that we need to compute the red noise spectrum\n"
   ]
  },
  {
   "cell_type": "markdown",
   "metadata": {},
   "source": [
    "Construct the red noise power spectrum that fits the temperature data using the Gilman approximation. See the courseware section on the [statistical significance of spectral peaks](https://kls2177.github.io/Climate-and-Geophysical-Data-Analysis/chapters/Week6/filtering_in_freq3.html)."
   ]
  },
  {
   "cell_type": "code",
   "execution_count": 156,
   "metadata": {},
   "outputs": [],
   "source": [
    "# contstruct expected red noise spectrum \n",
    "\n"
   ]
  },
  {
   "cell_type": "markdown",
   "metadata": {},
   "source": [
    "**Reflection Question:**\n",
    "How do you construct the 99\\% upper confidence limit? What do you need to know?"
   ]
  },
  {
   "cell_type": "code",
   "execution_count": 157,
   "metadata": {},
   "outputs": [],
   "source": [
    "# fill in the information that we need to know to compute the 99% upper confidence limit\n",
    "\n",
    "# compute the 99% upper confidence limit\n"
   ]
  },
  {
   "cell_type": "markdown",
   "metadata": {},
   "source": [
    "Now, re-plot the power spectrum and add the red-noise curve and the corresponding 99\\% upper confidence limit curve. Note that we normalize the 99\\% curve by the total variance of the red noise spectrum.\n",
    "\n",
    "**Note:** let's plot using the linear scale but only plot up to a frequency of 0.06 cycles per millenia. We will do this for the rest of the notebook, just so that the x-axis is a bit simpler for us to interpret."
   ]
  },
  {
   "cell_type": "code",
   "execution_count": 159,
   "metadata": {},
   "outputs": [
    {
     "data": {
      "text/plain": [
       "<Figure size 1008x288 with 0 Axes>"
      ]
     },
     "execution_count": 159,
     "metadata": {},
     "output_type": "execute_result"
    },
    {
     "data": {
      "text/plain": [
       "<Figure size 1008x288 with 0 Axes>"
      ]
     },
     "metadata": {},
     "output_type": "display_data"
    }
   ],
   "source": [
    "plt.figure(figsize=(14,4))\n",
    "# plot normalized power just up to freq = 0.06 cycles per millenia\n",
    "#plt.plot()\n",
    "\n",
    "# plot red noise spectrum\n",
    "#plt.plot()\n",
    "\n",
    "# plot 99% confidence limit on red noise spectrum\n",
    "#plt.plot()\n",
    "\n",
    "# add labels, etc."
   ]
  },
  {
   "cell_type": "code",
   "execution_count": 164,
   "metadata": {},
   "outputs": [],
   "source": [
    "# Find the significant spectral peaks using this quick loop\n",
    "\n",
    "# a small number\n",
    "epsilon = 5e-03\n",
    "\n",
    "for i in range(len(Ck2)):\n",
    "    if (Ck2[i]/np.sum(Ck2) - spec99[i]/np.sum(rspec)) > epsilon:\n",
    "        print('**** FOUND IT - spectral peak exceeds red noise ****')\n",
    "        print('exceeds by...',Ck2[i]/np.sum(Ck2) - spec99[i]/np.sum(rspec))\n",
    "        print('at frequency....',freq[i])\n",
    "        print('which in years is approximately...',round((dt[1]/freq[i])),'\\n') ## use the regridded regular spacing"
   ]
  },
  {
   "cell_type": "markdown",
   "metadata": {},
   "source": [
    "## Part V: Continuous Power Spectrum\n",
    "\n",
    "Now, let's construct the continuous power spectrum using the `sig.welch` function. Take a minute to google this function and note the argument `nperseg`. We are going to make use of this to construct a continous spectrum by breaking time series into 4 chunks, computing the power spectrum of each chunk and then taking the average.\n",
    "\n",
    "We will continue to use the agrument `window='hanning'` and we will discuss the reasons for this in this week's courseware."
   ]
  },
  {
   "cell_type": "code",
   "execution_count": 132,
   "metadata": {},
   "outputs": [],
   "source": [
    "# compute power spectrum\n",
    "\n",
    "# number of chunks\n",
    "n = \n",
    "\n",
    "# compute continuous power spectrum\n",
    "p = sig.welch(T,window='hanning', nperseg= ))\n",
    "pave = p[1]\n",
    "\n",
    "#normalize the spectrum\n",
    "pave = "
   ]
  },
  {
   "cell_type": "markdown",
   "metadata": {},
   "source": [
    "Plot the continuous power spectrum as a function of frequency. Note that you will have to create a new frequency array based on the number of chunks that we split the data into."
   ]
  },
  {
   "cell_type": "code",
   "execution_count": 167,
   "metadata": {},
   "outputs": [
    {
     "data": {
      "text/plain": [
       "<Figure size 1008x288 with 0 Axes>"
      ]
     },
     "metadata": {},
     "output_type": "display_data"
    }
   ],
   "source": [
    "# create frequency variable for plotting\n",
    "freq = \n",
    "\n",
    "plt.figure(figsize=(14,4))\n",
    "# plot power spectrum\n",
    "#plt.plot()\n",
    "plt.tight_layout()"
   ]
  },
  {
   "cell_type": "markdown",
   "metadata": {},
   "source": [
    "Finally, let's add the red noise and 99\\% upper confidence interval on the red noise to our plot. What do we need to change in the calculation of our red noise spectrum?"
   ]
  },
  {
   "cell_type": "code",
   "execution_count": 134,
   "metadata": {},
   "outputs": [],
   "source": [
    "# contstruct expected red noise spectrum \n"
   ]
  },
  {
   "cell_type": "markdown",
   "metadata": {},
   "source": [
    "How have the degrees of freedom changed? This will affect our calculation of the 99\\% upper confidence limit."
   ]
  },
  {
   "cell_type": "code",
   "execution_count": 139,
   "metadata": {},
   "outputs": [],
   "source": [
    "# construct 99% upper confidence limit\n",
    "\n"
   ]
  },
  {
   "cell_type": "markdown",
   "metadata": {},
   "source": [
    "Now, add these two red noise curves to your plot of the continuous power spectrum."
   ]
  },
  {
   "cell_type": "code",
   "execution_count": 168,
   "metadata": {},
   "outputs": [
    {
     "data": {
      "text/plain": [
       "<Figure size 1008x288 with 0 Axes>"
      ]
     },
     "metadata": {},
     "output_type": "display_data"
    }
   ],
   "source": [
    "# plot power spectrum and red noise spectra\n",
    "plt.figure(figsize=(14,4))\n",
    "\n",
    "# plot power spectrum\n",
    "#plt.plot()\n",
    "\n",
    "# plot the red noise spectrum\n",
    "#plt.plot()\n",
    "\n",
    "# plot the 99% confidence limit\n",
    "#plt.plot()\n",
    "\n",
    "plt.tight_layout()"
   ]
  },
  {
   "cell_type": "markdown",
   "metadata": {},
   "source": [
    "Check for significant spectral peaks by modifiying the loop above. Complete the cell below."
   ]
  },
  {
   "cell_type": "code",
   "execution_count": 165,
   "metadata": {},
   "outputs": [],
   "source": [
    "# Find the significant spectral peaks using this quick loop\n",
    "\n",
    "# a small number\n",
    "epsilon = 5e-03\n",
    "   \n"
   ]
  },
  {
   "cell_type": "code",
   "execution_count": null,
   "metadata": {},
   "outputs": [],
   "source": []
  }
 ],
 "metadata": {
  "kernelspec": {
   "display_name": "Python 3",
   "language": "python",
   "name": "python3"
  },
  "language_info": {
   "codemirror_mode": {
    "name": "ipython",
    "version": 3
   },
   "file_extension": ".py",
   "mimetype": "text/x-python",
   "name": "python",
   "nbconvert_exporter": "python",
   "pygments_lexer": "ipython3",
   "version": "3.8.3"
  }
 },
 "nbformat": 4,
 "nbformat_minor": 4
}
