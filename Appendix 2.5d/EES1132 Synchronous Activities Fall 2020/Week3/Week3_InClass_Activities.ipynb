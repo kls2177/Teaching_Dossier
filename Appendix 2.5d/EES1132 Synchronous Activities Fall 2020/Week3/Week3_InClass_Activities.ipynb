{
 "cells": [
  {
   "cell_type": "markdown",
   "metadata": {},
   "source": [
    "# Week 3 In-Class Activities:\n",
    "\n",
    "## Hypothesis Testing with Global Climate Model Output\n",
    "\n",
    "Similar to last week, we are going to take a look at the output from a global climate model, the Community Earth System Model (CESM). The data are **globally and annually averaged surface temperature** for a pre-industrial integration (GHGs, etc. fixed at year 1850 values) and a set of 30 individual integrations from 1920-2100.\n",
    "\n",
    "This activity is adapted from Prof. Jennifer Kay's Objective Data Analysis course at CU Boulder (Originally coded by Prof. Jennifer Kay (CU Boulder) with input from Elizabeth Maroon (CU ATOC/CIRES Postdoc 2018))\n",
    "\n",
    "First, we import the packages that we will need. Make sure that you have installed the netCDF4 package."
   ]
  },
  {
   "cell_type": "code",
   "execution_count": 17,
   "metadata": {},
   "outputs": [],
   "source": [
    "#import packages\n",
    "import numpy as np\n",
    "from matplotlib import pyplot as plt\n",
    "import matplotlib as mpl\n",
    "mpl.rc('font',size=12) # set default font size and weight for plots\n",
    "from netCDF4 import Dataset # we need this package to read in the GCM data"
   ]
  },
  {
   "cell_type": "markdown",
   "metadata": {},
   "source": [
    "Next, we read in the GCM data. The GCM data is stored in a file type called \"netCDF\". This is a very common climate data file type. To learn more about this file type, check out the following [link](https://climatedataguide.ucar.edu/climate-data-tools-and-analysis/netcdf-overview#:~:text=NetCDF%20). \n",
    "\n",
    "You likely have these files downloaded already, but if not download the first file [here](https://github.com/kls2177/ccia_files/blob/master/TS_timeseries_cesmle_1850.nc?raw=true) and the second file [here](https://github.com/kls2177/ccia_files/blob/master/TS_timeseries_cesmle_1920_2100.nc?raw=true)."
   ]
  },
  {
   "cell_type": "code",
   "execution_count": 3,
   "metadata": {},
   "outputs": [],
   "source": [
    "# Read in the data from netcdf files\n",
    "# These data are global annual mean surface temperatures from the CESM Large Ensemble (LENS) Project.\n",
    "\n",
    "# Read in 20th and 21st century integrations. There are 30 individual integrations of 181 years each.\n",
    "fname1=\"/Users/Karen/Dropbox/EES1132/Fall2020/Activities/Week2/TS_timeseries_cesmle_1920_2100.nc\" # filename\n",
    "nc1 = Dataset(fname1) # read in file\n",
    "TS_lens = nc1.variables[\"gts_ann_allcesmle\"][:] # Extract variable we want. Note: TS_lens is a numpy array\n",
    "year = nc1.variables[\"year\"][:] # Extract another variable"
   ]
  },
  {
   "cell_type": "markdown",
   "metadata": {},
   "source": [
    "Let's remind ourselves of how this data is structured. Print out the shape of TS_lens. You should see an array with dimensions that correspond to 30 integrations of 181 years each."
   ]
  },
  {
   "cell_type": "code",
   "execution_count": 4,
   "metadata": {},
   "outputs": [
    {
     "data": {
      "text/plain": [
       "(30, 181)"
      ]
     },
     "execution_count": 4,
     "metadata": {},
     "output_type": "execute_result"
    }
   ],
   "source": [
    "# check that you have the right dimensions to your data\n",
    "TS_lens.shape"
   ]
  },
  {
   "cell_type": "code",
   "execution_count": 5,
   "metadata": {},
   "outputs": [],
   "source": [
    "# Read in the pre-industrial control integration. There are 1801 years of this integration.\n",
    "fname2=\"TS_timeseries_cesmle_1850.nc\"\n",
    "nc2 = Dataset(fname2)\n",
    "TS_PI = nc2.variables[\"gts_annual\"][:]"
   ]
  },
  {
   "cell_type": "markdown",
   "metadata": {},
   "source": [
    "Again, print out the shape of TS_PI. You should have an array with dimensions that correspond to 1801 years."
   ]
  },
  {
   "cell_type": "code",
   "execution_count": 6,
   "metadata": {},
   "outputs": [
    {
     "data": {
      "text/plain": [
       "(1801,)"
      ]
     },
     "execution_count": 6,
     "metadata": {},
     "output_type": "execute_result"
    }
   ],
   "source": [
    "# check that you have the right dimensions to your data\n",
    "TS_PI.shape"
   ]
  },
  {
   "cell_type": "markdown",
   "metadata": {},
   "source": [
    "## I. Hypothesis Testing"
   ]
  },
  {
   "cell_type": "markdown",
   "metadata": {},
   "source": [
    "If you recall from last week, the pre-industrial control integration displays a fairly stable climate with the wiggles showing the natural variability within the model. The 20th and 21st century integrations, on the other hand, show considerable warming.\n",
    "\n",
    "Here, we are going to do the following:\n",
    "\n",
    "- test the hypothesis that the two samples, the sample of 1 ensemble member of years 1980-2005 and the sample of 1 ensemble member of years 2075-2100, are significantly different from the population mean, i.e. the mean of the pre-industrial control run,\n",
    "- test the hypothesis that two samples of 30 ensemble members each are significantly different from one another,\n",
    "- calculate the confidence intervals on the two samples.\n",
    "\n",
    "We are going to explore the above using **both the z-statistic and the t-statistic**."
   ]
  },
  {
   "cell_type": "markdown",
   "metadata": {},
   "source": [
    "## II. Difference Between Sample and Population"
   ]
  },
  {
   "cell_type": "markdown",
   "metadata": {},
   "source": [
    "## **STEP 1:**\n",
    "\n",
    "The first step we need to do is compute the population statistics, the mean and standard deviation. Recall, that we are going to use the pre-industrial control integration to establish our population statistics.\n",
    "\n",
    "This week, we can just stick to units of Kelvin for simplicity.\n",
    "\n",
    "**Reflection Question:**\\\n",
    "Before we get started, clearly state the *null hypothesis* and *alternate hypothesis* that we are testing in this case."
   ]
  },
  {
   "cell_type": "code",
   "execution_count": 1,
   "metadata": {},
   "outputs": [],
   "source": [
    "# Mean pre-industrial surface temperature \n",
    "\n",
    "avg_TS_PI = \n",
    "print(avg_TS_PI)\n",
    "\n",
    "# Standard deviation of pre-industrial surface temperature \n",
    "\n",
    "std_TS_PI = \n",
    "print(std_TS_PI)"
   ]
  },
  {
   "cell_type": "markdown",
   "metadata": {},
   "source": [
    "## **STEP 2:**\n",
    "\n",
    "Next we need our sample statistics. Let's slice our data again to get two **1-member ensembles** for each time period, but this time, don't take the 26-year average - keep all 26 years:\n",
    "\n",
    "- the end of the 20th century: 1980-2005\n",
    "- the end of the 21st century: 2075-2100"
   ]
  },
  {
   "cell_type": "code",
   "execution_count": 2,
   "metadata": {},
   "outputs": [],
   "source": [
    "# Extract the 1980-2005 time period for the first ensemble member. You should end up with a 26 element array\n",
    "\n",
    "TS_19802005_1mem = \n",
    "print(TS_19802005_1mem.shape)\n",
    "\n",
    "# Extract the 2075-2100 time period for the first ensemble member. You should end up with a 26 element array\n",
    "TS_20752100_1mem = "
   ]
  },
  {
   "cell_type": "markdown",
   "metadata": {},
   "source": [
    "These are our \"samples\". We now need to compute our sample mean and sample standard deviations for each."
   ]
  },
  {
   "cell_type": "code",
   "execution_count": 3,
   "metadata": {},
   "outputs": [],
   "source": [
    "# Sample means for each time period\n",
    "\n",
    "avg_19802005 = \n",
    "avg_20752100 = \n",
    "\n",
    "# Sample standard deviations for each time period\n",
    "\n",
    "std_19802005 = \n",
    "std_20752100 = "
   ]
  },
  {
   "cell_type": "markdown",
   "metadata": {},
   "source": [
    "## **STEP 3:**\n",
    "\n",
    "Now, let's compute the z-statistcs and t-statistics comparing our population to our samples. We will start with the 1980-2005 time period sample. \n",
    "\n",
    "**Reflection Question:**\\\n",
    "Given our sample size, which is the most appropriate test?"
   ]
  },
  {
   "cell_type": "code",
   "execution_count": 4,
   "metadata": {},
   "outputs": [],
   "source": [
    "# Specify a value for N and compute the z-statistic for the 1980-2005 time period sample\n",
    "N = \n",
    "\n",
    "# z-statistic\n",
    "z_19802005 = \n",
    "#print(z_19802005)\n",
    "\n",
    "# t-statistic\n",
    "t_19802005 = \n",
    "#print(t_19802005)"
   ]
  },
  {
   "cell_type": "markdown",
   "metadata": {},
   "source": [
    "Once we have our z-statistic, we can refer to our z-table for the standard normal distribution to get the probability of getting a z-statistic of this value of greater."
   ]
  },
  {
   "cell_type": "code",
   "execution_count": 6,
   "metadata": {},
   "outputs": [],
   "source": [
    "# use the python z-table to find the probability of getting a z-statistic with this value or greater.\n",
    "\n",
    "import scipy.stats as st\n",
    "\n",
    "pz_19802005 = 1 - st.norm.cdf(z_19802005) #note that we need to add the 1 - here because st.norm.cdf computes the \n",
    "                                         #probability based on the area under the curve to the left of z \n",
    "                                         #as in Fig. 8 in the courseware\n",
    "print(pz_19802005)\n",
    "\n",
    "\n",
    "pt_19802005 = 1 - st.t.cdf(t_19802005,N-1)\n",
    "print(pt_19802005)"
   ]
  },
  {
   "cell_type": "markdown",
   "metadata": {},
   "source": [
    "Wow! These are a very low probabilities - essentially zero. This means that our sample is significantly different from our population even for the more conservative t-test."
   ]
  },
  {
   "cell_type": "markdown",
   "metadata": {},
   "source": [
    "**Reflection Question:**\\\n",
    "If we got such a large z-statistic/t-statistic and low probabilities when we compared the 1980-2005 time period sample to the pre-industrial population, what do you think will happen when we repeat the above for the 2075-2100 time period sample?"
   ]
  },
  {
   "cell_type": "markdown",
   "metadata": {},
   "source": [
    "Let's find out. Repeat the above for the 2075-2100 time period sample."
   ]
  },
  {
   "cell_type": "code",
   "execution_count": 7,
   "metadata": {},
   "outputs": [],
   "source": [
    "# Specify a value for N and compute the z-statistic for the 1980-2005 time period sample\n",
    "N = \n",
    "\n",
    "# z-statistic\n",
    "z_20752100 = \n",
    "print(z_20752100)\n",
    "\n",
    "# t-statistic\n",
    "t_20752100 = \n",
    "print(t_20752100)"
   ]
  },
  {
   "cell_type": "code",
   "execution_count": 8,
   "metadata": {},
   "outputs": [],
   "source": [
    "# use the python z-table to find the probability of getting a z-statistic with this value or greater.\n",
    "\n",
    "pz_20752100 = 1 - st.norm.cdf(z_20752100) #note that we need to add the 1 - here because st.norm.cdf computes the \n",
    "                                         #probability based on the area under the curve to the left of z \n",
    "                                         #as in Fig. 8 in the courseware\n",
    "print(pz_20752100)\n",
    "\n",
    "\n",
    "pt_20752100 = 1 - st.t.cdf(t_20752100,N-1)\n",
    "print(pt_20752100)"
   ]
  },
  {
   "cell_type": "markdown",
   "metadata": {},
   "source": [
    "An even larger z-statistic and an essentially zero chance that we should accept our null hypothesis that the sample mean and population mean are the same."
   ]
  },
  {
   "cell_type": "markdown",
   "metadata": {},
   "source": [
    "## III. Difference Between Two Samples"
   ]
  },
  {
   "cell_type": "markdown",
   "metadata": {},
   "source": [
    "Now, we will revisit the 30-member samples from last week but we will look at two different time periods: **2031-2040** and **2061-2070** - near-term and medium-term future climate change time periods. Let's slice our data up again like we did last week."
   ]
  },
  {
   "cell_type": "code",
   "execution_count": 9,
   "metadata": {},
   "outputs": [],
   "source": [
    "# Calculate the mean for the 2031-2040 time period for all 30 ensemble members\n",
    "avg_TS_20312040_30mem = \n",
    "print(avg_TS_20312040_30mem.shape)\n",
    "\n",
    "# Calculate the mean for the 2061-2070 time period for all 30 ensemble members\n",
    "avg_TS_20612070_30mem = "
   ]
  },
  {
   "cell_type": "markdown",
   "metadata": {},
   "source": [
    "We can use a z-statistic or t-statistic to assess whether or not these two samples are significantly different. \n",
    "\n",
    "## STEP 1:\n",
    "\n",
    "First, we will need the sample statistics. This time the sample statistics are going to be somewhat different."
   ]
  },
  {
   "cell_type": "code",
   "execution_count": 10,
   "metadata": {},
   "outputs": [],
   "source": [
    "# Compute sample means and sample standard deviations\n",
    "\n",
    "avg_20312040_30mem = \n",
    "avg_20612070_30mem = \n",
    "\n",
    "std_20312040_30mem = \n",
    "std_20612070_30mem = "
   ]
  },
  {
   "cell_type": "markdown",
   "metadata": {},
   "source": [
    "## STEP 2:"
   ]
  },
  {
   "cell_type": "code",
   "execution_count": 11,
   "metadata": {},
   "outputs": [],
   "source": [
    "# Specify a value for N and compute the z-statistic and t-statistic\n",
    "N = \n",
    "\n",
    "# z-statistic\n",
    "z_30mem = \n",
    "print(z_30mem)\n",
    "\n",
    "# t-statistic\n",
    "t_30mem = \n",
    "print(t_30mem)"
   ]
  },
  {
   "cell_type": "code",
   "execution_count": 12,
   "metadata": {},
   "outputs": [],
   "source": [
    "# use the python z-table to find the probability of getting a z-statistic with this value or greater.\n",
    "\n",
    "pz_30mem = 1 - st.norm.cdf(z_30mem) #note that we need to add the 1 - here because st.norm.cdf computes the \n",
    "                                         #probability based on the area under the curve to the left of z \n",
    "                                         #as in Fig. 8 in the courseware\n",
    "print(pz_30mem)\n",
    "\n",
    "\n",
    "pt_30mem = 1 - st.t.cdf(t_30mem,N-1)\n",
    "print(pt_30mem)"
   ]
  },
  {
   "cell_type": "markdown",
   "metadata": {},
   "source": [
    "## IV. Confidence Intervals on Samples"
   ]
  },
  {
   "cell_type": "markdown",
   "metadata": {},
   "source": [
    "Finally, let's compute the **99\\%** confidence intervals on the samples in Section III. \n",
    "\n",
    "We can make a bar plot showing these confidence intervals on the sample means. Take a look at the following [example](https://problemsolvingwithpython.com/06-Plotting-with-Matplotlib/06.07-Error-Bars/) for some tips.\n",
    "\n",
    "**Note:** To add error bars/confidence intervals to a bar plot, we only need the $\\pm$ part - we do not need to include the sample mean."
   ]
  },
  {
   "cell_type": "code",
   "execution_count": 13,
   "metadata": {},
   "outputs": [],
   "source": [
    "# find two-sided t-statistic for 95% confidence and v = N-1\n",
    "t_crit = \n",
    "print(t_crit)"
   ]
  },
  {
   "cell_type": "code",
   "execution_count": 14,
   "metadata": {},
   "outputs": [],
   "source": [
    "# calculate confidence intervals (don't include the mean)\n",
    "ci_20312040 = \n",
    "ci_20612070 = \n",
    "print(ci_20312040)"
   ]
  },
  {
   "cell_type": "code",
   "execution_count": 65,
   "metadata": {},
   "outputs": [],
   "source": [
    "# prepare bar plot\n",
    "labels = ['Near-Term (2011-2040)', 'Medium-Term (2041-2070)']\n",
    "x_pos = np.arange(len(labels))\n",
    "means = [avg_20312040_30mem,avg_20612070_30mem]\n",
    "error = [ci_20312040,ci_20612070]"
   ]
  },
  {
   "cell_type": "code",
   "execution_count": 18,
   "metadata": {},
   "outputs": [
    {
     "data": {
      "text/plain": [
       "<Figure size 576x360 with 0 Axes>"
      ]
     },
     "execution_count": 18,
     "metadata": {},
     "output_type": "execute_result"
    },
    {
     "data": {
      "text/plain": [
       "<Figure size 576x360 with 0 Axes>"
      ]
     },
     "metadata": {},
     "output_type": "display_data"
    }
   ],
   "source": [
    "# plot bar plot\n",
    "plt.figure(figsize=(8,5))\n",
    "plt.bar(labels, means,yerr=error,align='center',alpha=0.5,ecolor='black',capsize=10)\n",
    "plt.ylabel('Temperature (Kelvin)')\n",
    "plt.xticks(x_pos)\n",
    "plt.title('Near-Term and Medium-Term Global Climate Change')\n",
    "plt.ylim(288.5,290.5)\n",
    "\n",
    "# Save the figure and show\n",
    "plt.tight_layout()\n",
    "plt.savefig('bar_plot_with_error_bars.png')\n",
    "plt.show()"
   ]
  },
  {
   "cell_type": "markdown",
   "metadata": {},
   "source": [
    "**Reflection Question:**\\\n",
    "These confidence intervals are very small. What does this say about our estimate of the mean near-term and medium-term temperatures?"
   ]
  },
  {
   "cell_type": "markdown",
   "metadata": {},
   "source": [
    "## V. Bonus Section\n",
    "\n",
    "Let's imagine that we only had 3 ensemble members of our model (the typical number that climate modelling centres were running for the last IPCC report). \n",
    "\n",
    "Repeat Sections III and IV but using only the first 3 ensemble members. How do think your results will change? See if you are right."
   ]
  },
  {
   "cell_type": "code",
   "execution_count": null,
   "metadata": {},
   "outputs": [],
   "source": []
  }
 ],
 "metadata": {
  "kernelspec": {
   "display_name": "Python 3",
   "language": "python",
   "name": "python3"
  },
  "language_info": {
   "codemirror_mode": {
    "name": "ipython",
    "version": 3
   },
   "file_extension": ".py",
   "mimetype": "text/x-python",
   "name": "python",
   "nbconvert_exporter": "python",
   "pygments_lexer": "ipython3",
   "version": "3.7.2"
  }
 },
 "nbformat": 4,
 "nbformat_minor": 1
}
