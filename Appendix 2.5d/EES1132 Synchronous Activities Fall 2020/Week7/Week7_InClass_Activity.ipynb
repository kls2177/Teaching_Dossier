{
 "cells": [
  {
   "cell_type": "markdown",
   "metadata": {},
   "source": [
    "# Week 7 In-Class Activity\n",
    "\n",
    "This week we are going to practice filtering in the time domain. We will read in monthly mean surface air temperature from Vancouver International Airport weather station from Jan. 1971 - Dec. 2019."
   ]
  },
  {
   "cell_type": "code",
   "execution_count": 47,
   "metadata": {},
   "outputs": [],
   "source": [
    "# Load packages\n",
    "import numpy as np\n",
    "import scipy.stats as st\n",
    "import scipy.signal as signal\n",
    "import matplotlib.pyplot as plt\n",
    "import matplotlib as mpl\n",
    "mpl.rc('font',size=14,weight='bold') #set default font size and weight for plots"
   ]
  },
  {
   "cell_type": "code",
   "execution_count": 48,
   "metadata": {},
   "outputs": [],
   "source": [
    "# Read in temperature data from Vancouver Int'l Airport\n",
    "filename = 'van.csv'\n",
    "T = np.squeeze(np.genfromtxt(filename,delimiter=','))"
   ]
  },
  {
   "cell_type": "markdown",
   "metadata": {},
   "source": [
    "First, let's plot the data to see what it looks like."
   ]
  },
  {
   "cell_type": "code",
   "execution_count": 144,
   "metadata": {},
   "outputs": [],
   "source": [
    "# Plot the Vancouver temperature time series\n"
   ]
  },
  {
   "cell_type": "markdown",
   "metadata": {},
   "source": [
    "Now, we are going to remove the seasonal cycle using two of the methods that we covered in the courseware:\n",
    "\n",
    "- the anomaly method\n",
    "- the running-mean method\n",
    "\n",
    "Let's get started. \n",
    "\n",
    "## Part I: Anomaly Method\n",
    "\n",
    "This method involves computing the climatological seasonal cycle and then removing it. This method *band-pass* filters the data. Note that it's helpful to reshape the data in order to carry out this method."
   ]
  },
  {
   "cell_type": "code",
   "execution_count": 145,
   "metadata": {},
   "outputs": [],
   "source": [
    "# reshape the data\n",
    "T_reshape = "
   ]
  },
  {
   "cell_type": "markdown",
   "metadata": {},
   "source": [
    "Print out the shape of the reshaped data to make sure that you did what you were trying to do."
   ]
  },
  {
   "cell_type": "code",
   "execution_count": 146,
   "metadata": {},
   "outputs": [],
   "source": [
    "# print shape of T_reshape\n"
   ]
  },
  {
   "cell_type": "markdown",
   "metadata": {},
   "source": [
    "Now, compute the climatological seasonal cycle."
   ]
  },
  {
   "cell_type": "code",
   "execution_count": 51,
   "metadata": {},
   "outputs": [],
   "source": [
    "# compute the climatological seasonal cycle\n",
    "T_clim = "
   ]
  },
  {
   "cell_type": "markdown",
   "metadata": {},
   "source": [
    "Plot the climatological seasonal cycle and label the x-axis with the months."
   ]
  },
  {
   "cell_type": "code",
   "execution_count": 147,
   "metadata": {},
   "outputs": [],
   "source": [
    "# Plot climatological seasonal cycle\n"
   ]
  },
  {
   "cell_type": "markdown",
   "metadata": {},
   "source": [
    "Now, remove the climatological seasonal cycle."
   ]
  },
  {
   "cell_type": "code",
   "execution_count": 53,
   "metadata": {},
   "outputs": [],
   "source": [
    "# remove climatological seasonal cycle\n",
    "T_anom = "
   ]
  },
  {
   "cell_type": "markdown",
   "metadata": {},
   "source": [
    "Plot the temperature anomaly, i.e. the temperature with the seasonal cycle removed."
   ]
  },
  {
   "cell_type": "code",
   "execution_count": 148,
   "metadata": {},
   "outputs": [],
   "source": [
    "# Plot temperature anomaly\n"
   ]
  },
  {
   "cell_type": "markdown",
   "metadata": {},
   "source": [
    "## Part II: Running-Mean Method\n",
    "\n",
    "This method involves *low-pass* filtering the data to remove the seasonal cycle. Let's give it a try starting with the original variable, `T`. Use the `np.convolve()` function."
   ]
  },
  {
   "cell_type": "code",
   "execution_count": 136,
   "metadata": {},
   "outputs": [],
   "source": [
    "# compute running-mean\n",
    "L = \n",
    "T_deseason = "
   ]
  },
  {
   "cell_type": "markdown",
   "metadata": {},
   "source": [
    "What is the shape of T_deseason? Why? What happens if we change the mode to `same`? Take a look at the [documentation](https://numpy.org/doc/stable/reference/generated/numpy.convolve.html) for `np.convolve()`. We have already seen this documentation for `np.correlate()`. \n",
    "\n",
    "Plot the deseasonalized temperature data. Take a look at how the plots look different depending on which `mode` you use."
   ]
  },
  {
   "cell_type": "code",
   "execution_count": 149,
   "metadata": {},
   "outputs": [],
   "source": [
    "# Plot low-pass filtered temperature time series\n"
   ]
  },
  {
   "cell_type": "markdown",
   "metadata": {},
   "source": [
    "**Reflection Question:**\\\n",
    "How does the running-mean method compare to the anomaly method? What are the key differences/similarities? What frequencies have been filtered out of this low-pass filtered time series and which remain?\n",
    "\n",
    "## Alternative to the Running-Mean Filter\n",
    "\n",
    "In the courseware, I mentioned that alternatives to the running-mean filter could be applied, such that instead of weighting each element of the mean equally, we could apply a functional weighting. Let's take a look at this using a *Gaussian* filter. \n",
    "\n",
    "First, we will create a *Gaussian* function for a set of parameters using `st.norm.pdf()`."
   ]
  },
  {
   "cell_type": "code",
   "execution_count": 132,
   "metadata": {},
   "outputs": [],
   "source": [
    "# create Gaussian with mean = 0 and sigma = 6\n",
    "sigma = 6\n",
    "\n",
    "# define x variable for st.norm.pdf function\n",
    "window = 6*sigma\n",
    "x = np.linspace(-int(window / 2), int(window / 2), int(window))\n",
    "\n",
    "# complete this line\n",
    "gaus = st.norm.pdf()"
   ]
  },
  {
   "cell_type": "markdown",
   "metadata": {},
   "source": [
    "We are going to start to visualize what these filters look like if we consider them in their functional form. Plot the *Gaussian* and compare it to the running mean filter. \n",
    "\n",
    "Fill in the code below."
   ]
  },
  {
   "cell_type": "code",
   "execution_count": 150,
   "metadata": {},
   "outputs": [
    {
     "data": {
      "text/plain": [
       "(0, 0.09)"
      ]
     },
     "execution_count": 150,
     "metadata": {},
     "output_type": "execute_result"
    },
    {
     "data": {
      "image/png": "[encoded data removed]",
      "text/plain": [
       "<Figure size 432x288 with 1 Axes>"
      ]
     },
     "metadata": {
      "needs_background": "light"
     },
     "output_type": "display_data"
    }
   ],
   "source": [
    "# Plot Gaussian filter\n",
    "plt.plot()\n",
    "\n",
    "\n",
    "# generate x-variable for plotting running mean filter\n",
    "xrm = np.linspace(-L/2, L/2, L)\n",
    "\n",
    "# Plot running-mean filter\n",
    "plt.plot()\n",
    "\n",
    "# add vertical and horizontal lines\n",
    "plt.vlines(-6,ymin=0,ymax = 1.0/12.0,color='orange')\n",
    "plt.vlines(6,ymin=0,ymax = 1.0/12.0,color='orange')\n",
    "\n",
    "# plot adjustments\n",
    "plt.ylim(0,0.09)"
   ]
  },
  {
   "cell_type": "markdown",
   "metadata": {},
   "source": [
    "We can think of these filters as sliding along our time series and each time they move one time step, the filter is multiplied by the elements of the time series.\n",
    "\n",
    "The `np.convolve()` function does this for us. "
   ]
  },
  {
   "cell_type": "code",
   "execution_count": 141,
   "metadata": {},
   "outputs": [],
   "source": [
    "# low-pass filter T using Gaussian filter\n",
    "T_gaus = "
   ]
  },
  {
   "cell_type": "markdown",
   "metadata": {},
   "source": [
    "What is the shape of this smoothed time series? Why?"
   ]
  },
  {
   "cell_type": "code",
   "execution_count": 151,
   "metadata": {},
   "outputs": [],
   "source": [
    "# print shape\n"
   ]
  },
  {
   "cell_type": "code",
   "execution_count": 152,
   "metadata": {},
   "outputs": [],
   "source": [
    "# Plot Gaussian low-pass filtered temperature time series\n"
   ]
  },
  {
   "cell_type": "markdown",
   "metadata": {},
   "source": [
    "**Reflection Question:**\\\n",
    "How does this smoothed time series compare to the previous two? What are the key differences/similarities? What frequencies have been filtered out of this alternative low-pass filtered time series and which remain?\n",
    "\n",
    "Over the next two weeks, we will explore why we see differences in the frequencies that we filter out and the ones that remain.\n",
    "\n",
    "## Part IV: Lower-pass Filter\n",
    "\n",
    "The Vancouver climate is influenced by ENSO and we can see this variability left over after we have filtered out the seasonal cycle. How would you remove this variability as well? Let's construct a low-pass filter that filters out frequencies up to 7 years. Try constructing this using a running-mean filter and a Gaussian filter."
   ]
  },
  {
   "cell_type": "code",
   "execution_count": null,
   "metadata": {},
   "outputs": [],
   "source": []
  }
 ],
 "metadata": {
  "kernelspec": {
   "display_name": "Python 3",
   "language": "python",
   "name": "python3"
  },
  "language_info": {
   "codemirror_mode": {
    "name": "ipython",
    "version": 3
   },
   "file_extension": ".py",
   "mimetype": "text/x-python",
   "name": "python",
   "nbconvert_exporter": "python",
   "pygments_lexer": "ipython3",
   "version": "3.7.8"
  }
 },
 "nbformat": 4,
 "nbformat_minor": 4
}
