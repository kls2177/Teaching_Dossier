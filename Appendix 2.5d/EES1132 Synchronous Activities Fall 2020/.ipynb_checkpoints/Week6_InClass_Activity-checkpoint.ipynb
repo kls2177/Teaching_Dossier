{
 "cells": [
  {
   "cell_type": "markdown",
   "metadata": {},
   "source": [
    "# Week 6 In-Class Activity\n",
    "\n",
    "This week, we will start to examine time scales of variability in time series data. To help us to start thinking about this, we will take a look at the downtown Toronto daily temperature time series.\n",
    "\n",
    "Let's load the data."
   ]
  },
  {
   "cell_type": "code",
   "execution_count": 39,
   "metadata": {},
   "outputs": [],
   "source": [
    "# import packages\n",
    "import numpy as np\n",
    "from matplotlib import pyplot as plt\n",
    "import scipy.stats as stats\n",
    "import matplotlib as mpl\n",
    "mpl.rc('font',size=16) #set default font size and weight for plots"
   ]
  },
  {
   "cell_type": "code",
   "execution_count": 40,
   "metadata": {},
   "outputs": [],
   "source": [
    "# load downtown Toronto Station data (in deg C)\n",
    "filename = \"tor.csv\"\n",
    "data = np.genfromtxt(filename, dtype='float',delimiter = ',')[1:,3] # Just extract daily mean temperature"
   ]
  },
  {
   "cell_type": "markdown",
   "metadata": {},
   "source": [
    "Go ahead and plot the time series. The data start from Jan. 1st 1981 to Dec. 31st 2010."
   ]
  },
  {
   "cell_type": "code",
   "execution_count": null,
   "metadata": {},
   "outputs": [],
   "source": [
    "# plot the time series\n"
   ]
  }
 ],
 "metadata": {
  "kernelspec": {
   "display_name": "Python 3",
   "language": "python",
   "name": "python3"
  },
  "language_info": {
   "codemirror_mode": {
    "name": "ipython",
    "version": 3
   },
   "file_extension": ".py",
   "mimetype": "text/x-python",
   "name": "python",
   "nbconvert_exporter": "python",
   "pygments_lexer": "ipython3",
   "version": "3.8.3"
  }
 },
 "nbformat": 4,
 "nbformat_minor": 4
}
