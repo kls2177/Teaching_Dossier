{
 "cells": [
  {
   "cell_type": "markdown",
   "metadata": {},
   "source": [
    "# Week 5 In-Class Activities:\n",
    "\n",
    "## Trend Analysis + Hypothesis Testing with Global Climate Model Output\n",
    "\n",
    "We are going to revisit the output from a global climate model, the Community Earth System Model (CESM). The data are **globally and annually averaged surface temperature** for a pre-industrial integration (GHGs, etc. fixed at year 1850 values) and a set of 30 individual integrations from 1920-2100.\n",
    "\n",
    "This activity is adapted from Prof. Jennifer Kay's Objective Data Analysis course at CU Boulder (Originally coded by Prof. Jennifer Kay (CU Boulder) with input from Elizabeth Maroon (CU ATOC/CIRES Postdoc 2018))\n",
    "\n",
    "First, we import the packages that we will need. Make sure that you have installed the netCDF4 package."
   ]
  },
  {
   "cell_type": "code",
   "execution_count": 1,
   "metadata": {},
   "outputs": [],
   "source": [
    "#import packages\n",
    "import numpy as np\n",
    "from matplotlib import pyplot as plt\n",
    "import matplotlib as mpl\n",
    "mpl.rc('font',size=12) # set default font size and weight for plots\n",
    "from netCDF4 import Dataset # we need this package to read in the GCM data\n",
    "import scipy.stats as st"
   ]
  },
  {
   "cell_type": "markdown",
   "metadata": {},
   "source": [
    "Next, we read in the GCM data. The GCM data is stored in a file type called \"netCDF\". This is a very common climate data file type. To learn more about this file type, check out the following [link](https://climatedataguide.ucar.edu/climate-data-tools-and-analysis/netcdf-overview#:~:text=NetCDF%20). \n",
    "\n",
    "This time we are only going to use the 20th-21st century data [here](https://github.com/kls2177/ccia_files/blob/master/TS_timeseries_cesmle_1920_2100.nc?raw=true)."
   ]
  },
  {
   "cell_type": "code",
   "execution_count": 2,
   "metadata": {},
   "outputs": [],
   "source": [
    "# Read in the data from netcdf files\n",
    "# These data are global annual mean surface temperatures from the CESM Large Ensemble (LENS) Project.\n",
    "\n",
    "# Read in 20th and 21st century integrations. There are 30 individual integrations of 181 years each.\n",
    "fname1=\"TS_timeseries_cesmle_1920_2100.nc\" # filename\n",
    "nc1 = Dataset(fname1) # read in file\n",
    "TS_lens = nc1.variables[\"gts_ann_allcesmle\"][:] # Extract variable we want. Note: TS_lens is a numpy array\n",
    "year = nc1.variables[\"year\"][:] # Extract another variable"
   ]
  },
  {
   "cell_type": "markdown",
   "metadata": {},
   "source": [
    "Let's remind ourselves of how this data is structured. Print out the shape of TS_lens. You should see an array with dimensions that correspond to 30 integrations of 181 years each."
   ]
  },
  {
   "cell_type": "code",
   "execution_count": 7,
   "metadata": {},
   "outputs": [
    {
     "data": {
      "text/plain": [
       "(30, 181)"
      ]
     },
     "execution_count": 7,
     "metadata": {},
     "output_type": "execute_result"
    }
   ],
   "source": [
    "# check that you have the right dimensions to your data\n",
    "TS_lens.shape"
   ]
  },
  {
   "cell_type": "markdown",
   "metadata": {},
   "source": [
    "## I. Trend Analysis\n",
    "\n",
    "If you recall from the first in-class activity that we did, we can clearly see a large secular trend in the temperature data over the 20th century and into the 21st century. Let's quantify these trends.\n",
    "\n",
    "Here, we are going to do the following:\n",
    "\n",
    "- calculate the trend for each ensemble member for two distinct 50-year time periods: 1951-2000 and 2051-2100.\n",
    "- calculate the confidence interval on the slope for just the 1st ensemble member for each 50-year time period.\n",
    "- perform a t-test to test the significant difference between samples of trends"
   ]
  },
  {
   "cell_type": "markdown",
   "metadata": {},
   "source": [
    "### Calculate trends"
   ]
  },
  {
   "cell_type": "markdown",
   "metadata": {},
   "source": [
    "## **STEP 1:**\n",
    "\n",
    "The first step we need to do is slice the data. Let's extract the two 50-year time periods for all 30 ensemble members. Let's also slice the variable `year` so that we can use it to compute the trend."
   ]
  },
  {
   "cell_type": "code",
   "execution_count": 39,
   "metadata": {},
   "outputs": [],
   "source": [
    "# Extract the 1951-2000 time period for all ensemble members.\n",
    "TS_19512000 = TS_lens[]\n",
    "year1 = year[]\n",
    "\n",
    "# Extract the 2051-2100 time period for all ensemble members.\n",
    "TS_20512100 = TS_lens[]\n",
    "year2 = year[]"
   ]
  },
  {
   "cell_type": "markdown",
   "metadata": {},
   "source": [
    "Print out the shape of TS_19512000 to make sure that you get 50 years for 30 ensemble members."
   ]
  },
  {
   "cell_type": "code",
   "execution_count": 3,
   "metadata": {},
   "outputs": [],
   "source": [
    "print(TS_19512000.shape)"
   ]
  },
  {
   "cell_type": "markdown",
   "metadata": {},
   "source": [
    "Let's plot these ensemble mean of each of these time series to get a sense of what they look like."
   ]
  },
  {
   "cell_type": "code",
   "execution_count": 4,
   "metadata": {},
   "outputs": [
    {
     "data": {
      "image/png": "[encoded data removed]",
      "text/plain": [
       "<Figure size 864x432 with 2 Axes>"
      ]
     },
     "metadata": {
      "needs_background": "light"
     },
     "output_type": "display_data"
    }
   ],
   "source": [
    "#  Plot the two time series\n",
    "plt.figure(figsize=(12,6))\n",
    "\n",
    "# plot first time series\n",
    "plt.subplot(1,2,1)\n",
    "#plt.plot()\n",
    "plt.ylabel(\"Temperature (K)\")\n",
    "plt.xlabel(\"Year\")\n",
    "plt.title(\"1951-2000\")\n",
    "\n",
    "# plot second time series\n",
    "plt.subplot(1,2,2)\n",
    "#plt.plot()\n",
    "plt.ylabel(\"Temperature (K)\")\n",
    "plt.xlabel(\"Year\")\n",
    "plt.title(\"2051-2100\")\n",
    "\n",
    "plt.tight_layout()"
   ]
  },
  {
   "cell_type": "markdown",
   "metadata": {},
   "source": [
    "**Reflection Question:**\\\n",
    "How does your interpretation of the plots change if you change the y-limits of each plot so that they are the same? Add `plt.ylim()` to your plot to see."
   ]
  },
  {
   "cell_type": "markdown",
   "metadata": {},
   "source": [
    "## **STEP 2:**\n",
    "\n",
    "Now, we can compute the trends. Since we have 30 ensemble members, it is convenient to perform a loop.\n",
    "\n",
    "Fill in the `np.polyfit()` lines below."
   ]
  },
  {
   "cell_type": "code",
   "execution_count": 45,
   "metadata": {},
   "outputs": [],
   "source": [
    "# initialize the regression coefficient arrays\n",
    "a1 = np.zeros((30,2))\n",
    "a2 = np.zeros((30,2))\n",
    "\n",
    "# loop over 30 ensemble members\n",
    "for i in range(30):\n",
    "    a1[i,:] = np.polyfit()\n",
    "    a2[i,:] = np.polyfit()"
   ]
  },
  {
   "cell_type": "markdown",
   "metadata": {},
   "source": [
    "These are our \"samples\" of trends - we will use these later."
   ]
  },
  {
   "cell_type": "markdown",
   "metadata": {},
   "source": [
    "## **STEP 3:**\n",
    "\n",
    "Now, let's calculate the confidence intervals on the slope for just the 1st ensemble member for each 50-year time period. We will use the `st.lingress()` function so that we get the standard error of the slope as an output.\n",
    "\n",
    "Let's do the 1951-2000 time period first. Fill in some of the missing lines below."
   ]
  },
  {
   "cell_type": "code",
   "execution_count": 52,
   "metadata": {},
   "outputs": [
    {
     "name": "stdout",
     "output_type": "stream",
     "text": [
      "The true value of the 1951-2000 slope is then 0.088 +/- 0.026 K/decade\n"
     ]
    }
   ],
   "source": [
    "# 1951-2000\n",
    "\n",
    "# Specify a value for N and use the st.lingress() function to compute the standard error of the slope\n",
    "N = 50\n",
    "\n",
    "#use the alternate way to calculate the best fit parameters\n",
    "slope, intercept, r_value, p_value, std_err = st.linregress()\n",
    "\n",
    "#find t_crit for our 95% confidence intervals on our slope\n",
    "t_crit = \n",
    "confidence_interval = \n",
    "print(\"The true value of the 1951-2000 slope is then\", np.round(slope*10,3), \"+/-\", np.round(confidence_interval*10,3), \"K/decade\")"
   ]
  },
  {
   "cell_type": "markdown",
   "metadata": {},
   "source": [
    "Now, let's do the same thing for the 2051-2100 time period. Fill in some of the missing lines below."
   ]
  },
  {
   "cell_type": "code",
   "execution_count": 53,
   "metadata": {},
   "outputs": [
    {
     "name": "stdout",
     "output_type": "stream",
     "text": [
      "The true value of the 2051-2100 slope is then 0.533 +/- 0.02 K/decade\n"
     ]
    }
   ],
   "source": [
    "# 2051-2100\n",
    "\n",
    "# Specify a value for N and use the st.lingress() function to compute the standard error of the slope\n",
    "N = 50\n",
    "\n",
    "#use the alternate way to calculate the best fit parameters\n",
    "slope, intercept, r_value, p_value, std_err = st.linregress()\n",
    "\n",
    "#find t_crit for our 95% confidence intervals on our slope\n",
    "t_crit = \n",
    "confidence_interval = \n",
    "print(\"The true value of the 2051-2100 slope is then\", np.round(slope*10,3), \"+/-\", np.round(confidence_interval*10,3), \"K/decade\")"
   ]
  },
  {
   "cell_type": "markdown",
   "metadata": {},
   "source": [
    "**Reflection Question:**\\\n",
    "How do the slopes and the confidence intervals for these two time periods compare? For both time periods, are the trends significantly different from zero?\n",
    "\n",
    "## II. Hypothesis Testing\n",
    "\n",
    "In the previous section, we tested the significance of a single trend my calculating the confidence intervals on the slope. \n",
    "\n",
    "Alternatively, because we have \"samples\" of trends (we have 30 trends, one for each ensemble member), we can use a $t$-test to examine whether the trends are significantly different from zero. \n",
    "\n",
    "We will use the samples of trends we calculated above, `a1` and `a2` and we will use the 1-sample $t$-test function, `st.ttest_1samp` to test whether the sample of trends is significant under a null hypothesis that the trend is zero.\n",
    "\n",
    "Fill in the t-test function below."
   ]
  },
  {
   "cell_type": "code",
   "execution_count": 5,
   "metadata": {},
   "outputs": [],
   "source": [
    "# calculate t-statistic for 1951-2000 time period. \n",
    "t1 = st.ttest_1samp()\n",
    "print(t1)"
   ]
  },
  {
   "cell_type": "markdown",
   "metadata": {},
   "source": [
    "Wow! the p-value is extremely low. This suggests that the sample mean trend is significant different from zero."
   ]
  },
  {
   "cell_type": "code",
   "execution_count": 6,
   "metadata": {},
   "outputs": [],
   "source": [
    "# calculate t-statistic for 2051-2100 time period. \n",
    "t2 = st.ttest_1samp()\n",
    "print(t2)"
   ]
  },
  {
   "cell_type": "markdown",
   "metadata": {},
   "source": [
    "We get an even lower p-value for the 2051-2100 time period."
   ]
  },
  {
   "cell_type": "code",
   "execution_count": null,
   "metadata": {},
   "outputs": [],
   "source": []
  }
 ],
 "metadata": {
  "kernelspec": {
   "display_name": "Python 3",
   "language": "python",
   "name": "python3"
  },
  "language_info": {
   "codemirror_mode": {
    "name": "ipython",
    "version": 3
   },
   "file_extension": ".py",
   "mimetype": "text/x-python",
   "name": "python",
   "nbconvert_exporter": "python",
   "pygments_lexer": "ipython3",
   "version": "3.8.6"
  }
 },
 "nbformat": 4,
 "nbformat_minor": 1
}
