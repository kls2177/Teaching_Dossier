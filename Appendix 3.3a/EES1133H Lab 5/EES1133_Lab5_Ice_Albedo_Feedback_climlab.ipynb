{
 "cells": [
  {
   "cell_type": "markdown",
   "metadata": {},
   "source": [
    "# EES1133 Lab 5: Ice-albedo feedback in an EBM with `climlab`\n",
    "\n",
    "Adapted from notes by:\n",
    "[Brian E. J. Rose](http://www.atmos.albany.edu/facstaff/brose/index.html), University at Albany"
   ]
  },
  {
   "cell_type": "markdown",
   "metadata": {},
   "source": [
    "In this lab, we explore the ice-albedo feedback using a Budyko-Sellers type energy balance model (EBM). To do this we will use the EBM model in `climlab`. If you are interested in learning more about the details of the Budyko-Sellers model, see Section 10.4 of Hartmann."
   ]
  },
  {
   "cell_type": "markdown",
   "metadata": {},
   "source": [
    "____________\n",
    "<a id='section1'></a>\n",
    "\n",
    "## 1. The 1-Dimensional Energy Balance Model (EBM)\n",
    "____________"
   ]
  },
  {
   "cell_type": "markdown",
   "metadata": {},
   "source": [
    "As discussed briefly in class, the Budyko-Sellers model is an EBM that incorporates the ice-albedo feedback. The model is a function of time and **latitude**, so some sort of approximation of horizontal energy transport needs to be included. Here, we will assume a simple form of diffusive energy transport. \n",
    "\n",
    "This is the **first time** that we have used a model that has **latitude** as a dimension.\n",
    "\n",
    "The equation for the one-dimensional EBM with diffusive heat transport looks like this:"
   ]
  },
  {
   "cell_type": "markdown",
   "metadata": {},
   "source": [
    "$$ C \\frac{\\partial T}{\\partial t} = (1-\\alpha) ~ Q - \\left( A + B~T \\right) + \\frac{D}{\\cos\\phi } \\frac{\\partial }{\\partial \\phi} \\left(   \\cos\\phi  ~ \\frac{\\partial T}{\\partial \\phi} \\right) $$\n"
   ]
  },
  {
   "cell_type": "markdown",
   "metadata": {},
   "source": [
    "On the left-hand side (lhs) we have the energy storage term and on the right-hand side (rhs) we have three terms. The first is the ASR and the second term is the $OLR$, linearized as $OLR = A + BT$, where $T$ is the surface temperature (in $^{\\circ}C$). It should look similar to the model we used in Lab 1, except with an extra term.\n",
    "\n",
    "The third term on the rhs represents the diffusive horizontal heat transport, where $D$ is the thermal diffusivity. Diffusive, in this case, just means that heat diffuses down the temperature gradient, $\\frac{\\partial T}{\\partial \\phi}$, from warmer regions to colder regions, where $\\phi$ is latitude. Note that the $cos\\phi$'s appear because we are calculating gradients on a sphere.\n",
    "\n",
    "Note, that we only have one layer in the vertical - the surface layer."
   ]
  },
  {
   "cell_type": "markdown",
   "metadata": {},
   "source": [
    "The following parameter values give a reasonable fit to the observed **annual mean surface temperature and energy budget**:\n",
    "\n",
    "- $ A = 210 ~ \\text{W m}^{-2}$ (emission at 0$^\\circ$C)\n",
    "- $ B = 2 ~ \\text{W m}^{-2}~^\\circ\\text{C}^{-1} $ (increase in emission per degree, related to net longwave climate feedback)\n",
    "- $ D = 0.55 ~ \\text{W m}^{-2}~^\\circ\\text{C}^{-1} $ (thermal diffusivity of the climate system)"
   ]
  },
  {
   "cell_type": "markdown",
   "metadata": {},
   "source": [
    "Since our model is 1-D in the horizontal direction, we cannot calculate OLR directly as we did in the column model. So, how did we come up with the above values for $A$ and $B$ in our $OLR$ expression?\n",
    "\n",
    "We use linear regression!\n",
    "\n",
    "We simply find the best-fit line between surface temperature and $OLR$ to find $A$, the intercept, and $B$ the slope. Let's see how this is done."
   ]
  },
  {
   "cell_type": "code",
   "execution_count": 12,
   "metadata": {},
   "outputs": [],
   "source": [
    "import numpy as np\n",
    "import matplotlib.pyplot as plt\n",
    "import xarray as xr\n",
    "import climlab\n",
    "from climlab import constants as const"
   ]
  },
  {
   "cell_type": "markdown",
   "metadata": {},
   "source": [
    "Let's load in some reanalysis data from NCEP for 1981-2010:"
   ]
  },
  {
   "cell_type": "code",
   "execution_count": 3,
   "metadata": {},
   "outputs": [
    {
     "name": "stdout",
     "output_type": "stream",
     "text": [
      "<xarray.Dataset>\n",
      "Dimensions:             (lat: 94, lon: 192, nbnds: 2, time: 12)\n",
      "Coordinates:\n",
      "  * lon                 (lon) float32 0.0 1.875 3.75 ... 354.375 356.25 358.125\n",
      "  * time                (time) float64 -6.571e+05 -6.57e+05 ... -6.567e+05\n",
      "  * lat                 (lat) float32 88.542 86.6531 ... -86.6531 -88.542\n",
      "Dimensions without coordinates: nbnds\n",
      "Data variables:\n",
      "    climatology_bounds  (time, nbnds) float64 ...\n",
      "    skt                 (time, lat, lon) float32 ...\n",
      "    valid_yr_count      (time, lat, lon) float32 ...\n",
      "Attributes:\n",
      "    title:                          4x daily NMC reanalysis\n",
      "    description:                    Data is from NMC initialized reanalysis\\n...\n",
      "    platform:                       Model\n",
      "    Conventions:                    COARDS\n",
      "    not_missing_threshold_percent:  minimum 3% values input to have non-missi...\n",
      "    history:                        Created 2011/07/12 by doMonthLTM\\nConvert...\n",
      "    dataset_title:                  NCEP-NCAR Reanalysis 1\n",
      "    References:                     http://www.psl.noaa.gov/data/gridded/data...\n"
     ]
    }
   ],
   "source": [
    "# Load NCEP surface temperature\n",
    "ncep_url = \"http://www.esrl.noaa.gov/psd/thredds/dodsC/Datasets/ncep.reanalysis.derived/\"\n",
    "ncep_Ts = xr.open_dataset( ncep_url + \"surface_gauss/skt.sfc.mon.1981-2010.ltm.nc\", decode_times=False)\n",
    "lat_ncep = ncep_Ts.lat; lon_ncep = ncep_Ts.lon\n",
    "print(ncep_Ts)"
   ]
  },
  {
   "cell_type": "code",
   "execution_count": 10,
   "metadata": {},
   "outputs": [],
   "source": [
    "# Calculate annual and zonal mean surface temperature\n",
    "# Note: 'skt' stands for skin temperature (essentially the surface temperature)\n",
    "Ts_ncep_annual = ncep_Ts.skt.mean(dim=('lon','time')) "
   ]
  },
  {
   "cell_type": "markdown",
   "metadata": {},
   "source": [
    "We also need reanalysis OLR for the same time period."
   ]
  },
  {
   "cell_type": "code",
   "execution_count": 4,
   "metadata": {},
   "outputs": [],
   "source": [
    "#  Annual and zonal mean TOA radiative fluxes\n",
    "#  Note: ulwrf = upward longwave radiative flux\n",
    "#        dswrf = downward shortwave radiative flux\n",
    "#        uswrf = upward shortwave radiative flux\n",
    "\n",
    "ncep_ulwrf = xr.open_dataset( ncep_url + \"other_gauss/ulwrf.ntat.mon.1981-2010.ltm.nc\", decode_times=False)\n",
    "#ncep_dswrf = xr.open_dataset( ncep_url + \"other_gauss/dswrf.ntat.mon.1981-2010.ltm.nc\", decode_times=False)\n",
    "#ncep_uswrf = xr.open_dataset( ncep_url + \"other_gauss/uswrf.ntat.mon.1981-2010.ltm.nc\", decode_times=False)\n",
    "\n",
    "OLR_ncep_annual = ncep_ulwrf.ulwrf.mean(dim=('lon','time'))\n",
    "#ASR_ncep_annual = (ncep_dswrf.dswrf - ncep_uswrf.uswrf).mean(dim=('lon','time'))"
   ]
  },
  {
   "cell_type": "code",
   "execution_count": 6,
   "metadata": {},
   "outputs": [],
   "source": [
    "#  Now let's fit our linear regression. Use the linregress() function. Google it if you are not sure how to use it.\n",
    "#  Uncomment and complete the lines below.\n",
    "\n",
    "from scipy.stats import linregress\n",
    "#slope, intercept, r_value, p_value, std_err = linregress()  #what is the predictor and what is the predictand?\n",
    "\n",
    "#print( 'Best fit is A = %0.0f W/m2 and B = %0.1f W/m2/degC' %(intercept, slope))"
   ]
  },
  {
   "cell_type": "markdown",
   "metadata": {},
   "source": [
    "You should get an intercept value of 214 W/m2 and a slope value of 1.6 W/m2/degC. \n",
    "\n",
    "We get slightly different values than the typical values that are used for this type of EBM are. We will stick with the default values for now:"
   ]
  },
  {
   "cell_type": "code",
   "execution_count": 7,
   "metadata": {},
   "outputs": [],
   "source": [
    "A = 210 #  W/m2\n",
    "B = 2   #  W/m2/degC"
   ]
  },
  {
   "cell_type": "markdown",
   "metadata": {},
   "source": [
    "Taking these reference values:\n",
    "\n",
    "$$ A=210 ~\\text{W m}^{−2}\\\\  B=2 ~\\text{W m}^{−2}~^\\circ\\text{C}^{-1} $$\n",
    "\n",
    "and our globally-average surface temperature, $T_s =288 K=15~^\\circ\\text{C}$,\n",
    "\n",
    "this parameterization gives,"
   ]
  },
  {
   "cell_type": "code",
   "execution_count": 8,
   "metadata": {},
   "outputs": [],
   "source": [
    "#OLR = \n",
    "#print(OLR)"
   ]
  },
  {
   "cell_type": "markdown",
   "metadata": {},
   "source": [
    "Recall that the observed global mean is $OLR = 239 ~\\text{W m}^{−2}$. Do we get a consistent value?\n",
    "\n",
    "Let's plot the observed data and linear fits and compare."
   ]
  },
  {
   "cell_type": "code",
   "execution_count": 11,
   "metadata": {},
   "outputs": [
    {
     "data": {
      "image/png": "[encoded data removed]",
      "text/plain": [
       "<Figure size 576x432 with 1 Axes>"
      ]
     },
     "metadata": {
      "needs_background": "light"
     },
     "output_type": "display_data"
    }
   ],
   "source": [
    "fig, ax1 = plt.subplots(figsize=(8,6))\n",
    "\n",
    "# scatter plot of OLR vs Ts\n",
    "ax1.scatter( Ts_ncep_annual, OLR_ncep_annual, label='data')\n",
    "\n",
    "# Add the \"best-fit\" line from the NCEP data and the line using the more typical values for A and B\n",
    "#ax1.plot(  , 'k--', label='best fit')\n",
    "#ax1.plot(  , 'r--', label='B=2')\n",
    "ax1.set_xlabel('Surface temperature ($^{\\circ}$C)', fontsize=16)\n",
    "ax1.set_ylabel('OLR (W m$^{-2}$)', fontsize=16)\n",
    "ax1.set_title('OLR versus surface temperature from NCEP reanalysis', fontsize=18)\n",
    "ax1.legend(loc='upper left')\n",
    "ax1.grid()\n",
    "\n",
    "#save the figure\n",
    "#plt.savefig()"
   ]
  },
  {
   "cell_type": "markdown",
   "metadata": {},
   "source": [
    "____________\n",
    "<a id='section2'></a>\n",
    "\n",
    "## 2. Interactive snow/ice line in the EBM\n",
    "____________\n",
    "\n",
    "What we want to do today is introduce another process into this 1-D EBM: an **interactive snow and ice line**. \n",
    "\n",
    "The idea is simply that, as the climate gets warmer, the snow and ice will retreat poleward, and the planetary albedo will decrease (or vice-versa).\n",
    "\n",
    "Here, since our model resolves temperature at each latitude, we can do something reasonably physical: *suppose that the surface is covered in ice and snow wherever the temperature is below some threshold $T_f$.*"
   ]
  },
  {
   "cell_type": "markdown",
   "metadata": {},
   "source": [
    "### Temperature-dependent ice line\n",
    "\n",
    "Let the surface albedo be larger wherever the temperature is below some threshold $T_f$:\n",
    "\n",
    "$$ \\alpha\\left(\\phi, T(\\phi) \\right) = \\left\\{\\begin{array}{ccc} \n",
    "\\alpha_0 + \\alpha_2 P_2(\\sin\\phi) & ~ & T(\\phi) > T_f  & \\text{(no ice)} \\\\\n",
    "\\alpha_i & ~ & T(\\phi) \\le T_f & \\text{(ice-covered)} \\\\\n",
    "\\end{array} \\right. $$\n",
    "\n",
    "where $P_2(\\sin\\phi) = \\frac{1}{2}\\left( 3\\left(\\sin\\phi\\right)^2 - 1 \\right) $ is called the *second Legendre Polynomial* (just a mathematically convenient description of a smooth variation between the equator and pole) and $\\alpha_i$ is the albedo of ice.\n",
    "\n",
    "**Reflection Question:**\\\n",
    "What does $\\alpha_2$ represent?"
   ]
  },
  {
   "cell_type": "markdown",
   "metadata": {},
   "source": [
    "Empirically, we follow classic work by Budyko and set the threshold temperature\n",
    "\n",
    "$$ T_f = -10^\\circ\\text{C} $$"
   ]
  },
  {
   "cell_type": "markdown",
   "metadata": {},
   "source": [
    "This is known as a \"step function\" formula, because the value of $\\alpha$ steps or jumps up to a higher value as we cross the ice line."
   ]
  },
  {
   "cell_type": "markdown",
   "metadata": {},
   "source": [
    "____________\n",
    "<a id='section3'></a>\n",
    "\n",
    "## 3. Solving the EBM with variable snow/ice line in `climlab`\n",
    "____________\n",
    "\n",
    "Let's set up the EBM outlined above. We will create a dictionary containing all the parameters that we need."
   ]
  },
  {
   "cell_type": "code",
   "execution_count": 13,
   "metadata": {},
   "outputs": [],
   "source": [
    "#  for convenience, set up a dictionary with our reference parameters. Note that ai > ao.\n",
    "param = {'D':0.55, 'A':210, 'B':2, 'a0':0.3, 'a2':0.078, 'ai':0.62, 'Tf':-10.}"
   ]
  },
  {
   "cell_type": "code",
   "execution_count": 17,
   "metadata": {},
   "outputs": [
    {
     "name": "stdout",
     "output_type": "stream",
     "text": [
      "climlab Process of type <class 'climlab.model.ebm.EBM_annual'>. \n",
      "State variables and domain shapes: \n",
      "  Ts: (180, 1) \n",
      "The subprocess tree: \n",
      "Untitled: <class 'climlab.model.ebm.EBM_annual'>\n",
      "   LW: <class 'climlab.radiation.aplusbt.AplusBT'>\n",
      "   insolation: <class 'climlab.radiation.insolation.AnnualMeanInsolation'>\n",
      "   albedo: <class 'climlab.surface.albedo.StepFunctionAlbedo'>\n",
      "      iceline: <class 'climlab.surface.albedo.Iceline'>\n",
      "      warm_albedo: <class 'climlab.surface.albedo.P2Albedo'>\n",
      "      cold_albedo: <class 'climlab.surface.albedo.ConstantAlbedo'>\n",
      "   SW: <class 'climlab.radiation.absorbed_shorwave.SimpleAbsorbedShortwave'>\n",
      "   diffusion: <class 'climlab.dynamics.meridional_heat_diffusion.MeridionalHeatDiffusion'>\n",
      "\n"
     ]
    }
   ],
   "source": [
    "#  A python shortcut... we can use the dictionary to pass lots of input arguments simultaneously:\n",
    "\n",
    "#  same thing as before, but written differently:\n",
    "model1 = climlab.EBM_annual( num_lat=180, **param)\n",
    "print(model1)"
   ]
  },
  {
   "cell_type": "markdown",
   "metadata": {},
   "source": [
    "Because we provided a parameter `ai` for the icy albedo, our model now contains several sub-processes contained within the process called `albedo`. Together these implement the step-function formula above.\n",
    "\n",
    "The process called `iceline` simply looks for grid cells with temperature below $T_f$."
   ]
  },
  {
   "cell_type": "code",
   "execution_count": 18,
   "metadata": {},
   "outputs": [
    {
     "name": "stdout",
     "output_type": "stream",
     "text": [
      "{'timestep': 350632.51200000005, 'S0': 1365.2, 's2': -0.48, 'A': 210, 'B': 2, 'D': 0.55, 'Tf': -10.0, 'water_depth': 10.0, 'a0': 0.3, 'a2': 0.078, 'ai': 0.62}\n"
     ]
    }
   ],
   "source": [
    "#  Here are all the parameters\n",
    "print(model1.param)"
   ]
  },
  {
   "cell_type": "markdown",
   "metadata": {},
   "source": [
    "Now, let's integrate our EBM out to equilibrium"
   ]
  },
  {
   "cell_type": "code",
   "execution_count": 19,
   "metadata": {},
   "outputs": [
    {
     "name": "stdout",
     "output_type": "stream",
     "text": [
      "Integrating for 450 steps, 1826.2110000000002 days, or 5 years.\n",
      "Total elapsed time is 5.000000000000044 years.\n"
     ]
    }
   ],
   "source": [
    "model1.integrate_years(5)"
   ]
  },
  {
   "cell_type": "markdown",
   "metadata": {},
   "source": [
    "Diagnostics in this model are mostly on the latitude axis, e.g.:"
   ]
  },
  {
   "cell_type": "code",
   "execution_count": 15,
   "metadata": {},
   "outputs": [],
   "source": [
    "#  There is a value of ASR for each latitude.\n",
    "#  We can see this by printing our value of ASR for each latitude\n",
    "\n",
    "#for i in range(len(model1.lat)):\n",
    "    #  print out each latitude and each value of ASR\n",
    "    #print()  #complete this print command"
   ]
  },
  {
   "cell_type": "markdown",
   "metadata": {},
   "source": [
    "Now, let's see what the albedo looks like (recall the step-function equation for the albedo above)"
   ]
  },
  {
   "cell_type": "code",
   "execution_count": 16,
   "metadata": {},
   "outputs": [],
   "source": [
    "#  Plot the albedo as a function of latitude. The name of the albedo variable is simply, albedo.\n",
    "#  Be sure that this plot and how it corresponds to the equation make sense to you.\n",
    "#  Complete the line below\n",
    "\n",
    "#plt.plot()"
   ]
  },
  {
   "cell_type": "markdown",
   "metadata": {},
   "source": [
    "Now, let's check the energy balance."
   ]
  },
  {
   "cell_type": "markdown",
   "metadata": {},
   "source": [
    "There is a built-in utility to take properly area-weighted global averages!"
   ]
  },
  {
   "cell_type": "markdown",
   "metadata": {},
   "source": [
    "This gives us the net global energy imbalance:"
   ]
  },
  {
   "cell_type": "code",
   "execution_count": 17,
   "metadata": {},
   "outputs": [
    {
     "data": {
      "text/plain": [
       "array(0.02589604)"
      ]
     },
     "execution_count": 17,
     "metadata": {},
     "output_type": "execute_result"
    }
   ],
   "source": [
    "climlab.global_mean(model1.ASR - model1.OLR)"
   ]
  },
  {
   "cell_type": "markdown",
   "metadata": {},
   "source": [
    "There is also a built-in diagnostic `net_radiation` that has the same information (i.e. ASR - OLR):"
   ]
  },
  {
   "cell_type": "code",
   "execution_count": 18,
   "metadata": {},
   "outputs": [
    {
     "data": {
      "text/plain": [
       "array(0.02589604)"
      ]
     },
     "execution_count": 18,
     "metadata": {},
     "output_type": "execute_result"
    }
   ],
   "source": [
    "climlab.global_mean(model1.net_radiation)"
   ]
  },
  {
   "cell_type": "markdown",
   "metadata": {},
   "source": [
    "Since it's not fully equilibrated yet, we can run it out a little longer:"
   ]
  },
  {
   "cell_type": "code",
   "execution_count": 20,
   "metadata": {},
   "outputs": [
    {
     "name": "stdout",
     "output_type": "stream",
     "text": [
      "Integrating for 450 steps, 1826.2110000000002 days, or 5 years.\n",
      "Total elapsed time is 9.999999999999863 years.\n",
      "1.2815863643387452e-05\n"
     ]
    }
   ],
   "source": [
    "# Integrate out to equilibrium.\n",
    "model1.integrate_years(5)\n",
    "#  Check for energy balance\n",
    "print(climlab.global_mean(model1.net_radiation))"
   ]
  },
  {
   "cell_type": "markdown",
   "metadata": {},
   "source": [
    "**Reflection Question:** Why do we have to take the global average to assess energy balance? Keep this question in mind as you look at the plots below."
   ]
  },
  {
   "cell_type": "markdown",
   "metadata": {},
   "source": [
    "Now, let's make some plots to see what the climate of this model looks like. Below is a plotting function that we will use througout."
   ]
  },
  {
   "cell_type": "code",
   "execution_count": 22,
   "metadata": {},
   "outputs": [],
   "source": [
    "#  Here, we are just defining a plotting function that we will use throughout. \n",
    "#  Be sure you understand what this code is doing\n",
    "\n",
    "def ebm_plot(e,return_fig=False):  #where e is the name of the EBM, e.g. model1  \n",
    "    templimits = -60,32\n",
    "    radlimits = -340, 340\n",
    "    htlimits = -6,6\n",
    "    latlimits = -90,90\n",
    "    lat_ticks = np.arange(-90,90,30)\n",
    "    \n",
    "    fig = plt.figure(figsize=(8,12))\n",
    "\n",
    "    # plot Ts as a function of latitude\n",
    "    ax1 = fig.add_subplot(3,1,1)\n",
    "    ax1.plot(e.lat, e.Ts)\n",
    "    ax1.set_ylim(templimits)\n",
    "    ax1.set_ylabel('Temperature (deg C)')\n",
    "    \n",
    "    # plot ASR, OLR, net Radiation, heat transport convergence\n",
    "    #  and the sum of net radiation and heat transport convergence as a function of latitude\n",
    "    ax2 = fig.add_subplot(3,1,2)\n",
    "    ax2.plot(e.lat, e.ASR, 'k--', label='SW' )\n",
    "    ax2.plot(e.lat, -e.OLR, 'r--', label='LW' )\n",
    "    ax2.plot(e.lat, e.net_radiation, 'c-', label='net rad' )\n",
    "    ax2.plot(e.lat, e.heat_transport_convergence, 'g--', label='heat transport' )\n",
    "    ax2.plot(e.lat, e.net_radiation.squeeze() + e.heat_transport_convergence.squeeze(), 'b-', label='total' )\n",
    "    ax2.set_ylim(radlimits)\n",
    "    ax2.set_ylabel('Energy budget (W m$^{-2}$)')\n",
    "    ax2.legend()\n",
    "    \n",
    "    # plot heat transport as a function of latitude\n",
    "    ax3 = fig.add_subplot(3,1,3)\n",
    "    ax3.plot(e.lat_bounds, e.heat_transport )\n",
    "    ax3.set_ylim(htlimits)\n",
    "    ax3.set_ylabel('Heat transport (PW)')\n",
    "    \n",
    "    for ax in [ax1, ax2, ax3]:\n",
    "        ax.set_xlabel('Latitude')\n",
    "        ax.set_xlim(latlimits)\n",
    "        ax.set_xticks(lat_ticks)\n",
    "        ax.grid()\n",
    "    \n",
    "    if return_fig:\n",
    "        return fig"
   ]
  },
  {
   "cell_type": "markdown",
   "metadata": {},
   "source": [
    "Let's try the function."
   ]
  },
  {
   "cell_type": "code",
   "execution_count": 24,
   "metadata": {},
   "outputs": [],
   "source": [
    "# Now, let's plot the output using the plotting function defined above\n",
    "# Note that our plots have latitude on the x-axis\n",
    "# Uncomment and run cell.\n",
    "\n",
    "#f = ebm_plot(model1)"
   ]
  },
  {
   "cell_type": "markdown",
   "metadata": {},
   "source": [
    "**Reflection Question:**\\\n",
    "What do you see in this plot? Recall from Lecture 3 that the net radiative flux at the TOA must be balanced by the heat transport convergence at each latitude. \n",
    "\n",
    "Since the albedo of ice is an important component of this model, let's check the latitude of the ice line."
   ]
  },
  {
   "cell_type": "code",
   "execution_count": 25,
   "metadata": {},
   "outputs": [],
   "source": [
    "# There is a diagnostic that tells us the current location of the ice edge: icelat\n",
    "# Uncomment and run cell\n",
    "\n",
    "#print(model1.icelat)"
   ]
  },
  {
   "cell_type": "markdown",
   "metadata": {},
   "source": [
    "This model is tuned to match reasonable \"present-day\" conditions."
   ]
  },
  {
   "cell_type": "markdown",
   "metadata": {},
   "source": [
    "____________\n",
    "<a id='section4'></a>\n",
    "\n",
    "## 4. Warming in the EBM\n",
    "____________\n",
    "\n",
    "### Add a small radiative forcing\n",
    "\n",
    "The equivalent of doubling CO2 in this model is something like \n",
    "\n",
    "$$ A \\rightarrow A - \\delta A $$\n",
    "\n",
    "where $\\delta A = 4$ W m$^{-2}$.\n",
    "\n",
    "\n",
    "\n",
    "Why is $\\delta A$ negative? Be sure you understand why in terms of how CO$_2$ affects OLR."
   ]
  },
  {
   "cell_type": "code",
   "execution_count": 26,
   "metadata": {},
   "outputs": [
    {
     "data": {
      "text/plain": [
       "210"
      ]
     },
     "execution_count": 26,
     "metadata": {},
     "output_type": "execute_result"
    }
   ],
   "source": [
    "# OLR parameter A\n",
    "model1.subprocess['LW'].A"
   ]
  },
  {
   "cell_type": "markdown",
   "metadata": {},
   "source": [
    "Let's define a new model with this altered value of A."
   ]
  },
  {
   "cell_type": "code",
   "execution_count": 31,
   "metadata": {},
   "outputs": [],
   "source": [
    "deltaA = 4.\n",
    "\n",
    "# This is a very handy way to \"clone\" an existing model:\n",
    "model2 = climlab.process_like(model1)\n",
    "\n",
    "# Now change the longwave parameter:\n",
    "model2.subprocess['LW'].A = param['A'] - deltaA"
   ]
  },
  {
   "cell_type": "code",
   "execution_count": 32,
   "metadata": {},
   "outputs": [],
   "source": [
    "# integrate out to equilibrium again\n",
    "model2.integrate_years(5, verbose=False)"
   ]
  },
  {
   "cell_type": "markdown",
   "metadata": {},
   "source": [
    "Let's take a look at how the surface temperature changed when we decreased OLR."
   ]
  },
  {
   "cell_type": "code",
   "execution_count": 33,
   "metadata": {},
   "outputs": [],
   "source": [
    "# Compare the surface temperature (as a function of latitude for model1 and model2)\n",
    "# Complete and uncomment the lines below.\n",
    "\n",
    "#plt.plot(, label='model1')\n",
    "#plt.plot(, label='model2')\n",
    "#plt.legend(); plt.grid()"
   ]
  },
  {
   "cell_type": "markdown",
   "metadata": {},
   "source": [
    "What differences do you see in the temperature structure? Is the warming equal at all latitdues? Why or why not?\n",
    "\n",
    "Also, where is the current ice line?"
   ]
  },
  {
   "cell_type": "code",
   "execution_count": 27,
   "metadata": {},
   "outputs": [],
   "source": [
    "# print the ice line latitudes\n",
    "\n",
    "#print()"
   ]
  },
  {
   "cell_type": "markdown",
   "metadata": {},
   "source": [
    "What happened to the ice?"
   ]
  },
  {
   "cell_type": "markdown",
   "metadata": {},
   "source": [
    "Let's do some more greenhouse warming:"
   ]
  },
  {
   "cell_type": "code",
   "execution_count": 35,
   "metadata": {},
   "outputs": [],
   "source": [
    "model3 = climlab.process_like(model1)\n",
    "\n",
    "#  Add double deltaA this time.\n",
    "model3.subprocess['LW'].A = param['A'] - 2*deltaA\n",
    "\n",
    "#  Integrate to equilibrium\n",
    "model3.integrate_years(5, verbose=False)"
   ]
  },
  {
   "cell_type": "markdown",
   "metadata": {},
   "source": [
    "Compare the surface temperatures again."
   ]
  },
  {
   "cell_type": "code",
   "execution_count": 36,
   "metadata": {},
   "outputs": [],
   "source": [
    "#  Compare the surface temperature (as a function of latitude for model1, model2 and model3)\n",
    "#  Complete and uncomment lines below.\n",
    "\n",
    "#plt.plot(, label='model1')\n",
    "#plt.plot(, label='model2')\n",
    "#plt.plot(, label='model3')\n",
    "#plt.xlim(-90, 90)\n",
    "#plt.grid()\n",
    "#plt.legend()"
   ]
  },
  {
   "cell_type": "markdown",
   "metadata": {},
   "source": [
    "What happens to the temperature structure this time? Is the warming equal at all latitdues? Why or why not?"
   ]
  },
  {
   "cell_type": "markdown",
   "metadata": {},
   "source": [
    "____________\n",
    "<a id='section5'></a>\n",
    "\n",
    "## 5. A different kind of climate forcing: changing the solar constant\n",
    "____________\n",
    "\n",
    "Historically EBMs have been used to study the climatic response to a change in the energy output from the Sun.\n",
    "\n",
    "We can do that easily with `climlab`:"
   ]
  },
  {
   "cell_type": "code",
   "execution_count": 37,
   "metadata": {},
   "outputs": [
    {
     "data": {
      "text/plain": [
       "1365.2"
      ]
     },
     "execution_count": 37,
     "metadata": {},
     "output_type": "execute_result"
    }
   ],
   "source": [
    "#  Let's define a new model with the same parameters are before\n",
    "m = climlab.EBM_annual( num_lat=180, **param )\n",
    "#  The current (default) solar constant, corresponding to present-day conditions:\n",
    "m.subprocess.insolation.S0"
   ]
  },
  {
   "cell_type": "markdown",
   "metadata": {},
   "source": [
    "Let's integrate the model to equilibrium."
   ]
  },
  {
   "cell_type": "code",
   "execution_count": 28,
   "metadata": {},
   "outputs": [],
   "source": [
    "#  First, get to equilibrium\n",
    "m.integrate_years(10.)\n",
    "#  Check for energy balance\n",
    "climlab.global_mean(m.net_radiation)"
   ]
  },
  {
   "cell_type": "markdown",
   "metadata": {},
   "source": [
    "Check the ice line latitude."
   ]
  },
  {
   "cell_type": "code",
   "execution_count": 29,
   "metadata": {},
   "outputs": [],
   "source": [
    "# print out the ice line latitudes\n",
    "#print(m.icelat)"
   ]
  },
  {
   "cell_type": "markdown",
   "metadata": {},
   "source": [
    "###  What happens if we decrease $S_0$?\n",
    "\n",
    "We can change the solar constant in our model to see how the model behaves. What do you think will happen to the ice line?"
   ]
  },
  {
   "cell_type": "code",
   "execution_count": 40,
   "metadata": {},
   "outputs": [],
   "source": [
    "#  Now make the solar constant smaller (1300 W/m2):\n",
    "m.subprocess.insolation.S0 = 1300.0"
   ]
  },
  {
   "cell_type": "code",
   "execution_count": 30,
   "metadata": {},
   "outputs": [],
   "source": [
    "#  Integrate to new equilibrium\n",
    "m.integrate_years(10.)\n",
    "\n",
    "#  Check for energy balance\n",
    "climlab.global_mean(m.net_radiation)"
   ]
  },
  {
   "cell_type": "markdown",
   "metadata": {},
   "source": [
    "Where is the ice line?"
   ]
  },
  {
   "cell_type": "code",
   "execution_count": 42,
   "metadata": {},
   "outputs": [],
   "source": [
    "# print out the ice line latitudes\n",
    "#print()"
   ]
  },
  {
   "cell_type": "markdown",
   "metadata": {},
   "source": [
    "We can use the plotting function, `ebm_plot()` to look at how other variables in the model climate have changed."
   ]
  },
  {
   "cell_type": "code",
   "execution_count": 32,
   "metadata": {},
   "outputs": [],
   "source": [
    "# Uncomment and run cell\n",
    "#ebm_plot(m)"
   ]
  },
  {
   "cell_type": "markdown",
   "metadata": {
    "collapsed": true
   },
   "source": [
    "We get a much colder climate! The heat transport shows that the atmosphere is moving lots of energy across the ice line, trying hard to compensate for the strong radiative cooling everywhere poleward of the ice line. \n",
    "\n",
    "Compare with the earlier figures of the energy balance and heat transport that we created above."
   ]
  },
  {
   "cell_type": "markdown",
   "metadata": {},
   "source": [
    "____________\n",
    "<a id='section6'></a>\n",
    "\n",
    "## 6. The large ice cap instability\n",
    "____________"
   ]
  },
  {
   "cell_type": "markdown",
   "metadata": {},
   "source": [
    "This simple EBM has a unique characteristic, which we will now explore by decreasing the solar constant even more and then increasing it again.\n",
    "\n",
    "###  What happens if we decrease $S_0$ even more?"
   ]
  },
  {
   "cell_type": "code",
   "execution_count": 34,
   "metadata": {},
   "outputs": [],
   "source": [
    "#  Now make the solar constant smaller (1200 W/m2):\n",
    "m.subprocess.insolation.S0 = 1200.0\n",
    "\n",
    "#  First, get to equilibrium\n",
    "m.integrate_years(5.)\n",
    "\n",
    "#  Check for energy balance\n",
    "climlab.global_mean(m.net_radiation)"
   ]
  },
  {
   "cell_type": "code",
   "execution_count": 35,
   "metadata": {},
   "outputs": [],
   "source": [
    "#  We need to integrate more...\n",
    "m.integrate_years(10.)\n",
    "#  Check for energy balance\n",
    "climlab.global_mean(m.net_radiation)"
   ]
  },
  {
   "cell_type": "markdown",
   "metadata": {},
   "source": [
    "Plot the model variables using `ebm_plot()`."
   ]
  },
  {
   "cell_type": "code",
   "execution_count": 36,
   "metadata": {},
   "outputs": [],
   "source": [
    "#ebm_plot(m)"
   ]
  },
  {
   "cell_type": "markdown",
   "metadata": {},
   "source": [
    "Something very different happened! Where is the ice line now?"
   ]
  },
  {
   "cell_type": "code",
   "execution_count": 47,
   "metadata": {},
   "outputs": [],
   "source": [
    "# print out the ice line latitudes\n",
    "#print()"
   ]
  },
  {
   "cell_type": "markdown",
   "metadata": {},
   "source": [
    "### Now what happens if we set $S_0$ back to its present-day value?"
   ]
  },
  {
   "cell_type": "code",
   "execution_count": 48,
   "metadata": {},
   "outputs": [
    {
     "name": "stdout",
     "output_type": "stream",
     "text": [
      "Integrating for 450 steps, 1826.2110000000002 days, or 5.0 years.\n",
      "Total elapsed time is 35.0000000000016 years.\n"
     ]
    },
    {
     "data": {
      "text/plain": [
       "array(0.00790051)"
      ]
     },
     "execution_count": 48,
     "metadata": {},
     "output_type": "execute_result"
    }
   ],
   "source": [
    "#  Now make the solar constant present-day value again:\n",
    "m.subprocess.insolation.S0 = 1365.2\n",
    "\n",
    "#  First, get to equilibrium\n",
    "m.integrate_years(5.)\n",
    "\n",
    "#  Check for energy balance\n",
    "climlab.global_mean(m.net_radiation)"
   ]
  },
  {
   "cell_type": "markdown",
   "metadata": {},
   "source": [
    "Plot the model variables using `ebm_plot()`."
   ]
  },
  {
   "cell_type": "code",
   "execution_count": 37,
   "metadata": {},
   "outputs": [],
   "source": [
    "#ebm_plot(m)"
   ]
  },
  {
   "cell_type": "markdown",
   "metadata": {},
   "source": [
    "Is this the same climate we started with? Where is the ice line?"
   ]
  },
  {
   "cell_type": "code",
   "execution_count": 50,
   "metadata": {},
   "outputs": [],
   "source": [
    "#  print the ice line latitudes\n",
    "#print()"
   ]
  },
  {
   "cell_type": "markdown",
   "metadata": {},
   "source": [
    "This is an example of a **hysteresis** in the climate system:  the state of the climate depends on its history!\n",
    "\n",
    "- A global cooling caused snow and ice to expand to the equator\n",
    "- External conditions (i.e. the solar constant) returned back to its present-day value\n",
    "- The climate stayed cold and completely ice-covered.\n",
    "\n",
    "If the oceans froze over and the Earth were covered in ice and snow today, it would remain that way!"
   ]
  },
  {
   "cell_type": "markdown",
   "metadata": {},
   "source": [
    "____________\n",
    "<a id='section7'></a>\n",
    "\n",
    "## 7. The Neoproterozoic Snowball Earth\n",
    "____________"
   ]
  },
  {
   "cell_type": "markdown",
   "metadata": {},
   "source": [
    "###  The Snowball Earth hypothesis\n",
    "\n",
    "Various bizarre features in the geological record from 635 and 715 Ma ago indicate that the Earth underwent some very extreme environmental changes at least twice. The **Snowball Earth hypothesis** postulates that:\n",
    "\n",
    "- The Earth was completely ice-covered (including the oceans)\n",
    "- The total glaciation endured for millions of years\n",
    "- CO$_2$ slowly accumulated in the atmosphere from volcanoes\n",
    "- Weathering of rocks (normally acting to reduce CO$_2$) extremely slow due to cold, dry climate\n",
    "- Eventually the extreme greenhouse effect is enough to melt back the ice\n",
    "- The Earth then enters a period of extremely hot climate."
   ]
  },
  {
   "cell_type": "markdown",
   "metadata": {},
   "source": [
    "The hypothesis rests on a phenomenon first discovered by climate modelers in the Budyko-Sellers EBM: **runaway ice-albedo feedback** or **large ice cap instability**."
   ]
  },
  {
   "cell_type": "markdown",
   "metadata": {},
   "source": [
    "____________\n",
    "<a id='section8'></a>\n",
    "\n",
    "## 8. Computing the complete hysteresis curve for the 1D diffusive EBM\n",
    "____________"
   ]
  },
  {
   "cell_type": "markdown",
   "metadata": {},
   "source": [
    "<div class=\"alert alert-warning\">\n",
    "The calculations in this section may take a long time to complete, depending on the speed of your computer.\n",
    "</div>"
   ]
  },
  {
   "cell_type": "markdown",
   "metadata": {},
   "source": [
    "The ice edge in our model is always where the temperature crosses $T_f = -10^\\circ$C. The system is at **equilibrium** when the temperature is such that there is a balance between ASR, OLR, and heat transport convergence everywhere. \n",
    "\n",
    "Suppose that sun was hotter or cooler at different times (in fact it was significantly cooler during early Earth history). That would mean that the solar constant $S_0 = 4Q$ was larger or smaller. We should expect that the temperature (and thus the ice edge) should increase and decrease as we change $S_0$. "
   ]
  },
  {
   "cell_type": "markdown",
   "metadata": {},
   "source": [
    "$S_0$ during the Neoproterozoic Snowball Earth events is believed to be about 93% of its present-day value, or about 1270 W m$^{-2}$.\n",
    "\n",
    "We are going to look at how the **equilibrium** ice edge depends on $S_0$, by integrating the model out to equilibrium for lots of different values of $S_0$. We will start by slowly decreasing $S_0$, and then slowly increasing $S_0$."
   ]
  },
  {
   "cell_type": "code",
   "execution_count": 45,
   "metadata": {},
   "outputs": [
    {
     "name": "stdout",
     "output_type": "stream",
     "text": [
      "Integrating for 450 steps, 1826.2110000000002 days, or 5 years.\n",
      "Total elapsed time is 5.000000000000044 years.\n"
     ]
    }
   ],
   "source": [
    "#Define a new model and integrate to equilibrium\n",
    "m2 = climlab.EBM_annual(num_lat = 360, **param)\n",
    "m2.integrate_years(5)"
   ]
  },
  {
   "cell_type": "code",
   "execution_count": 46,
   "metadata": {},
   "outputs": [],
   "source": [
    "#complete the line below by defining an array of 50 So values from 1400 to 1200 W/m2\n",
    "S0array = np.linspace(1400,1200,50)\n",
    "\n",
    "#initialize arrays to save the ice line latitude (we will just save the latitude of the Northern Hemisphere)\n",
    "icelat_cooling = np.empty_like(S0array)\n",
    "icelat_warming = np.empty_like(S0array)"
   ]
  },
  {
   "cell_type": "markdown",
   "metadata": {},
   "source": [
    "*Note: This is the slowest step. Takes about 15 minutes*"
   ]
  },
  {
   "cell_type": "code",
   "execution_count": 47,
   "metadata": {},
   "outputs": [],
   "source": [
    "# First cool....\n",
    "# loop over the array of So values\n",
    "for n in range(S0array.size):\n",
    "    m2.subprocess['insolation'].S0 = S0array[n]\n",
    "    m2.integrate_years(10, verbose=False)\n",
    "    icelat_cooling[n] = np.max(m2.icelat)\n",
    "# Then warm...\n",
    "# loop over the array of So values in reverse (np.flipud)\n",
    "for n in range(S0array.size):\n",
    "    m2.subprocess['insolation'].S0 = np.flipud(S0array)[n]\n",
    "    m2.integrate_years(10, verbose=False)\n",
    "    icelat_warming[n] = np.max(m2.icelat)\n",
    "    \n",
    "# For completeness -- also start from present-day conditions and warm up.\n",
    "m3 = climlab.EBM_annual(num_lat=360, **param)\n",
    "S0array3 = np.linspace(1350., 1400., 50)\n",
    "icelat3 = np.empty_like(S0array3)\n",
    "for n in range(S0array3.size):\n",
    "    m3.subprocess['insolation'].S0 = S0array3[n]\n",
    "    m3.integrate_years(10, verbose=False)\n",
    "    icelat3[n] = np.max(m3.icelat)"
   ]
  },
  {
   "cell_type": "markdown",
   "metadata": {},
   "source": [
    "Now, let's plot the ice line latitude as a function of $S_o$ to get a sense of the behaviour of this model."
   ]
  },
  {
   "cell_type": "code",
   "execution_count": 42,
   "metadata": {},
   "outputs": [
    {
     "data": {
      "image/png": "[encoded data removed]",
      "text/plain": [
       "<Figure size 720x432 with 1 Axes>"
      ]
     },
     "metadata": {
      "needs_background": "light"
     },
     "output_type": "display_data"
    }
   ],
   "source": [
    "# plot the hysteresis: plot ice line latitdue as a function of So\n",
    "# Uncomment and run the cell\n",
    "\n",
    "fig = plt.figure( figsize=(10,6) )\n",
    "ax = fig.add_subplot(111)\n",
    "#ax.plot(S0array, icelat_cooling, 'r-', label='cooling' )\n",
    "#ax.plot(S0array, icelat_warming, 'b-', label='warming' )\n",
    "#ax.plot(S0array3, icelat3, 'g-', label='warming' )\n",
    "ax.set_ylim(-10,100)\n",
    "ax.set_yticks((0,15,30,45,60,75,90))\n",
    "ax.grid()\n",
    "ax.set_ylabel('Ice line latitude', fontsize=16)\n",
    "ax.set_xlabel('Solar constant (W m$^{-2}$)', fontsize=16)\n",
    "ax.plot( [const.S0, const.S0], [-10, 100], 'k--', label='present-day' )\n",
    "ax.legend(loc='upper left')\n",
    "ax.set_title('Solar constant versus ice edge latitude in the EBM with albedo feedback', fontsize=16);"
   ]
  },
  {
   "cell_type": "markdown",
   "metadata": {},
   "source": [
    "There are actually up to 3 different climates possible for a given value of $S_0$!\n",
    "\n",
    "### How to un-freeze the Snowball\n",
    "\n",
    "The graph indicates that if the Earth were completely frozen over, it would be perfectly happy to stay that way even if the sun were brighter and hotter than it is today.\n",
    "\n",
    "Our EBM predicts that (with present-day parameters) the equilibrium temperature at the equator in the Snowball state is about -33ºC, which is much colder than the threshold temperature $T_f = -10^\\circ$C. How can we melt the Snowball?\n",
    "\n",
    "We need to increase the avaible energy sufficiently to get the equatorial temperatures above this threshold! That is going to require a much larger increase in $S_0$ (could also increase the greenhouse gases, which would have a similar effect)!\n",
    "\n",
    "**Let's crank up the sun to 1830 W m$^{-2}$** (about a 35% increase from present-day)."
   ]
  },
  {
   "cell_type": "code",
   "execution_count": 49,
   "metadata": {},
   "outputs": [
    {
     "name": "stdout",
     "output_type": "stream",
     "text": [
      "Integrating for 3600 steps, 14609.688000000002 days, or 40 years.\n",
      "Total elapsed time is 4044.99999997769 years.\n"
     ]
    }
   ],
   "source": [
    "m4 = climlab.process_like(m2)  # initialize with cold Snowball temperature\n",
    "m4.subprocess['insolation'].S0 = 1830.0\n",
    "m4.integrate_years(40)"
   ]
  },
  {
   "cell_type": "markdown",
   "metadata": {},
   "source": [
    "What does the surface temperature look like?"
   ]
  },
  {
   "cell_type": "code",
   "execution_count": 43,
   "metadata": {},
   "outputs": [
    {
     "data": {
      "image/png": "[encoded data removed]",
      "text/plain": [
       "<Figure size 432x288 with 1 Axes>"
      ]
     },
     "metadata": {
      "needs_background": "light"
     },
     "output_type": "display_data"
    }
   ],
   "source": [
    "# Plot surface temperature as a function of latitude\n",
    "#plt.plot(m4.lat,m4.Ts)\n",
    "plt.xlim(-90,90)\n",
    "plt.ylabel('Temperature')\n",
    "plt.xlabel('Latitude')\n",
    "plt.grid()\n",
    "#print('The ice edge is at ' + str(m4.icelat) + ' degrees latitude.' )"
   ]
  },
  {
   "cell_type": "markdown",
   "metadata": {},
   "source": [
    "Do we still have a Snowball? Is the temperature at the equator is below the threshold to make ice?\n",
    "\n",
    "Try to imagine what might happen once it starts to melt. The solar constant is huge, and if it weren't for the highly reflective ice and snow, the climate would be really really hot!\n",
    "\n",
    "We're going to increase $S_0$ one more time...Let's try 1840 Wm$^{-2}$"
   ]
  },
  {
   "cell_type": "code",
   "execution_count": 51,
   "metadata": {},
   "outputs": [
    {
     "name": "stdout",
     "output_type": "stream",
     "text": [
      "Integrating for 900 steps, 3652.4220000000005 days, or 10 years.\n",
      "Total elapsed time is 4054.999999977441 years.\n"
     ]
    }
   ],
   "source": [
    "m4.subprocess['insolation'].S0 = 1840.0\n",
    "m4.integrate_years(10)"
   ]
  },
  {
   "cell_type": "markdown",
   "metadata": {},
   "source": [
    "Plot the surface temperature again. How does it look?"
   ]
  },
  {
   "cell_type": "code",
   "execution_count": 44,
   "metadata": {},
   "outputs": [
    {
     "data": {
      "image/png": "[encoded data removed]",
      "text/plain": [
       "<Figure size 432x288 with 1 Axes>"
      ]
     },
     "metadata": {
      "needs_background": "light"
     },
     "output_type": "display_data"
    }
   ],
   "source": [
    "#Plot surface temperature as a function of latitude\n",
    "#plt.plot(m4.lat,m4.Ts)\n",
    "plt.xlim(-90,90)\n",
    "plt.ylabel('Temperature')\n",
    "plt.xlabel('Latitude')\n",
    "plt.grid()"
   ]
  },
  {
   "cell_type": "markdown",
   "metadata": {},
   "source": [
    "Suddenly the climate looks very very different again! What is the global mean temperature?"
   ]
  },
  {
   "cell_type": "code",
   "execution_count": 39,
   "metadata": {},
   "outputs": [],
   "source": [
    "#print(climlab.global_mean(m4.Ts))#in degC"
   ]
  },
  {
   "cell_type": "markdown",
   "metadata": {},
   "source": [
    "A tiny increase in $S_0$ has led to a very drastic change in the climate.\n",
    "\n",
    "Now we will complete the plot of ice edge versus solar constant by ramping up and then ramping down $S_o$."
   ]
  },
  {
   "cell_type": "code",
   "execution_count": 54,
   "metadata": {},
   "outputs": [],
   "source": [
    "# define an array of 50 So values from 1400 to 1900 W/m2\n",
    "S0array_snowballmelt = np.linspace(1400,1900,50)\n",
    "\n",
    "# initialize arrays to save ice line latitudes\n",
    "icelat_snowballmelt = np.empty_like(S0array_snowballmelt)\n",
    "icelat_snowballmelt_cooling = np.empty_like(S0array_snowballmelt)"
   ]
  },
  {
   "cell_type": "markdown",
   "metadata": {},
   "source": [
    "*This step is also slow...Another 15 minutes*"
   ]
  },
  {
   "cell_type": "code",
   "execution_count": 55,
   "metadata": {},
   "outputs": [],
   "source": [
    "# Continue warming m2...\n",
    "for n in range(S0array_snowballmelt.size):\n",
    "    m2.subprocess['insolation'].S0 = S0array_snowballmelt[n]\n",
    "    m2.integrate_years(10, verbose=False)\n",
    "    icelat_snowballmelt[n] = np.max(m2.icelat)\n",
    "\n",
    "# Now cool m2...\n",
    "for n in range(S0array_snowballmelt.size):\n",
    "    m2.subprocess['insolation'].S0 = np.flipud(S0array_snowballmelt)[n]\n",
    "    m2.integrate_years(10, verbose=False)\n",
    "    icelat_snowballmelt_cooling[n] = np.max(m2.icelat)"
   ]
  },
  {
   "cell_type": "markdown",
   "metadata": {},
   "source": [
    "Plot the full hysteresis: the ice line latitude versus $S_o$."
   ]
  },
  {
   "cell_type": "code",
   "execution_count": 41,
   "metadata": {},
   "outputs": [
    {
     "data": {
      "image/png": "[encoded data removed]",
      "text/plain": [
       "<Figure size 1296x432 with 1 Axes>"
      ]
     },
     "metadata": {
      "needs_background": "light"
     },
     "output_type": "display_data"
    }
   ],
   "source": [
    "#  Plot the full hysteresis\n",
    "fig = plt.figure( figsize=(18,6) )\n",
    "ax = fig.add_subplot(111)\n",
    "#ax.plot(S0array, icelat_cooling, 'r-', label='cooling' )\n",
    "#ax.plot(S0array, icelat_warming, 'b-', label='warming' )\n",
    "#ax.plot(S0array3, icelat3, 'g-', label='warming' )\n",
    "\n",
    "# fill in the lines below to add new values to the plot out to So = 1900\n",
    "#ax.plot(, 'r-' )\n",
    "#ax.plot(, 'b-' )\n",
    "ax.set_xlim(1100,2000)\n",
    "ax.set_ylim(-10,100)\n",
    "ax.set_yticks((0,15,30,45,60,75,90))\n",
    "ax.grid()\n",
    "ax.set_ylabel('Ice line latitude', fontsize=16)\n",
    "ax.set_xlabel('Solar constant (W m$^{-2}$)', fontsize=16)\n",
    "ax.plot( [const.S0, const.S0], [-10, 100], 'k--', label='present-day' )\n",
    "ax.legend(loc='upper left')\n",
    "ax.set_title('Solar constant versus ice edge latitude in the EBM with albedo feedback', fontsize=16);\n",
    "plt.savefig('Snowball_Earth_climlab.png')"
   ]
  },
  {
   "cell_type": "markdown",
   "metadata": {},
   "source": [
    "This hysteresis model is a classic case study in climate science. Does it represent true tipping points in our climate system? Hard to say, but it demonstrates that tipping points are possible.\n",
    "\n",
    "The take-aways:\n",
    "\n",
    "- For extremely large $S_0$, the only possible climate is a hot Earth with no ice.\n",
    "- For extremely small $S_0$, the only possible climate is a cold Earth completely covered in ice.\n",
    "- For a large range of $S_0$ including the present-day value, more than one climate is possible!\n",
    "- Once we get into a Snowball Earth state, getting out again is rather difficult!"
   ]
  },
  {
   "cell_type": "code",
   "execution_count": null,
   "metadata": {
    "collapsed": true
   },
   "outputs": [],
   "source": []
  }
 ],
 "metadata": {
  "kernelspec": {
   "display_name": "Python 3",
   "language": "python",
   "name": "python3"
  },
  "language_info": {
   "codemirror_mode": {
    "name": "ipython",
    "version": 3
   },
   "file_extension": ".py",
   "mimetype": "text/x-python",
   "name": "python",
   "nbconvert_exporter": "python",
   "pygments_lexer": "ipython3",
   "version": "3.8.3"
  }
 },
 "nbformat": 4,
 "nbformat_minor": 1
}
